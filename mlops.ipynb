{
 "cells": [
  {
   "cell_type": "markdown",
   "id": "baf3cfe8",
   "metadata": {
    "papermill": {
     "duration": 0.042563,
     "end_time": "2025-01-01T09:58:46.518306",
     "exception": false,
     "start_time": "2025-01-01T09:58:46.475743",
     "status": "completed"
    },
    "tags": []
   },
   "source": [
    "# **Introduction**\n",
    "\n",
    "\n",
    "<br>\n",
    "\n",
    "Diabetes is a chronic condition that affects millions of people worldwide. It occurs commonly when you age, build excessive amount of body mass, family history, or even some risk factors. The objective of this project is to develop a predictive model that can be used in health centers, clinics, and hospitals to correctly evaluate each patient whether he or she is diabetic, or non-diabetic based on the patient record that consists of multiple features including **`age`**, **`gender`**, **`body mass index (BMI)`**, **`hypertension`**, **`heart disease`**, **`smoking history`**, **`HbA1c level`**, and **`blood glucose level`**.\n",
    "\n",
    "The predictive model will be created via the power of machine learning to accurately categorize each patient based on his or her medical record.\n",
    "\n",
    "<br>\n",
    "\n",
    "## 1. Metadata\n",
    "\n",
    "The metadata will help as understand the available features in the dataset:\n",
    "\n",
    "1. **`Age`**: Age refers to the length of time that a patient have lived.\n",
    "2. **`Gender`**: The patient gender.\n",
    "3. **`Body Mass Index (BMI)`**: Calculated using height and weight. Higher BMI can increase the risk of developing diabetes.\n",
    "4. **`Hypertension`**: A medical condition that consist of high blood pressure, 0 for absence and 1 for presence.\n",
    "5. **`Heart Disease`**: A medical condition that is associated with an increase risk of developing diabetes, 0 for absence and 1 for presence.\n",
    "6. **`Smoking History`**: Patient smoking status.\n",
    "7. **`HbA1c Level`**: HbA1c (Hemoglobin A1c) level is a measure of a person’s average blood sugar level over the past 2-3 months. Higher HbA1c can increase the risk of developing diabetes.\n",
    "8. **`Blood Glucose Level`**: Glucose level in the patient blood stream.\n",
    "9. **`Diabetes`**: A chronic condition where the body struggles to regulate blood sugar, 0 for absence and 1 for presence.\n",
    "\n",
    "\n",
    "<br>\n",
    "\n",
    "## 2. Rules\n",
    "\n",
    "I will be setting some rules to make sure the workflow is efficient and consistent:\n",
    "\n",
    "- Duplicated values are allowed (since it is possible for the multiple patients to have the same medical record).\n",
    "\n",
    "- Exclude outliers from our analysis.\n",
    "\n",
    "- Any missing value (if found) must be imputed.\n",
    "\n",
    "- If I found unnecessary category for our analysis under any feature, then am allow to manipulate it.\n",
    "\n",
    "- I are allowed to use verified websites and studies published for information."
   ]
  },
  {
   "cell_type": "markdown",
   "id": "66252e43",
   "metadata": {
    "papermill": {
     "duration": 0.041392,
     "end_time": "2025-01-01T09:58:46.599755",
     "exception": false,
     "start_time": "2025-01-01T09:58:46.558363",
     "status": "completed"
    },
    "tags": []
   },
   "source": [
    "# **Importation**"
   ]
  },
  {
   "cell_type": "code",
   "execution_count": 1,
   "id": "7b464371",
   "metadata": {
    "execution": {
     "iopub.execute_input": "2025-01-01T09:58:46.684066Z",
     "iopub.status.busy": "2025-01-01T09:58:46.683638Z",
     "iopub.status.idle": "2025-01-01T09:59:25.495133Z",
     "shell.execute_reply": "2025-01-01T09:59:25.493394Z"
    },
    "papermill": {
     "duration": 38.856223,
     "end_time": "2025-01-01T09:59:25.497624",
     "exception": false,
     "start_time": "2025-01-01T09:58:46.641401",
     "status": "completed"
    },
    "tags": []
   },
   "outputs": [
    {
     "name": "stdout",
     "output_type": "stream",
     "text": [
      "\u001b[2K   \u001b[90m━━━━━━━━━━━━━━━━━━━━━━━━━━━━━━━━━━━━━━━━\u001b[0m \u001b[32m67.5/67.5 kB\u001b[0m \u001b[31m2.1 MB/s\u001b[0m eta \u001b[36m0:00:00\u001b[0m\r\n",
      "\u001b[2K   \u001b[90m━━━━━━━━━━━━━━━━━━━━━━━━━━━━━━━━━━━━━━━━\u001b[0m \u001b[32m161.9/161.9 kB\u001b[0m \u001b[31m6.2 MB/s\u001b[0m eta \u001b[36m0:00:00\u001b[0m\r\n",
      "\u001b[2K   \u001b[90m━━━━━━━━━━━━━━━━━━━━━━━━━━━━━━━━━━━━━━━━\u001b[0m \u001b[32m8.6/8.6 MB\u001b[0m \u001b[31m64.6 MB/s\u001b[0m eta \u001b[36m0:00:00\u001b[0m\r\n",
      "\u001b[2K   \u001b[90m━━━━━━━━━━━━━━━━━━━━━━━━━━━━━━━━━━━━━━━━\u001b[0m \u001b[32m294.9/294.9 kB\u001b[0m \u001b[31m17.5 MB/s\u001b[0m eta \u001b[36m0:00:00\u001b[0m\r\n",
      "\u001b[2K   \u001b[90m━━━━━━━━━━━━━━━━━━━━━━━━━━━━━━━━━━━━━━━━\u001b[0m \u001b[32m255.9/255.9 MB\u001b[0m \u001b[31m5.9 MB/s\u001b[0m eta \u001b[36m0:00:00\u001b[0m\r\n",
      "\u001b[2K   \u001b[90m━━━━━━━━━━━━━━━━━━━━━━━━━━━━━━━━━━━━━━━━\u001b[0m \u001b[32m2.0/2.0 MB\u001b[0m \u001b[31m58.8 MB/s\u001b[0m eta \u001b[36m0:00:00\u001b[0m\r\n",
      "\u001b[?25h\u001b[31mERROR: pip's dependency resolver does not currently take into account all the packages that are installed. This behaviour is the source of the following dependency conflicts.\r\n",
      "ydata-profiling 4.12.1 requires matplotlib<3.10,>=3.5, but you have matplotlib 3.10.0 which is incompatible.\u001b[0m\u001b[31m\r\n",
      "\u001b[0m"
     ]
    }
   ],
   "source": [
    "#Please note that this library makes matplot not show plots...\n",
    "\n",
    "#If you are interested in the plots, dont run this cell and comment its importation\n",
    "#of it in the cell below.\n",
    "\n",
    "#install Autoviz library\n",
    "!pip -q install autoviz"
   ]
  },
  {
   "cell_type": "code",
   "execution_count": 2,
   "id": "a2445121",
   "metadata": {
    "execution": {
     "iopub.execute_input": "2025-01-01T09:59:25.589818Z",
     "iopub.status.busy": "2025-01-01T09:59:25.589435Z",
     "iopub.status.idle": "2025-01-01T09:59:39.539226Z",
     "shell.execute_reply": "2025-01-01T09:59:39.538089Z"
    },
    "papermill": {
     "duration": 13.997969,
     "end_time": "2025-01-01T09:59:39.541337",
     "exception": false,
     "start_time": "2025-01-01T09:59:25.543368",
     "status": "completed"
    },
    "tags": []
   },
   "outputs": [
    {
     "name": "stdout",
     "output_type": "stream",
     "text": [
      "Imported v0.1.905. Please call AutoViz in this sequence:\n",
      "    AV = AutoViz_Class()\n",
      "    %matplotlib inline\n",
      "    dfte = AV.AutoViz(filename, sep=',', depVar='', dfte=None, header=0, verbose=1, lowess=False,\n",
      "               chart_format='svg',max_rows_analyzed=150000,max_cols_analyzed=30, save_plot_dir=None)\n"
     ]
    }
   ],
   "source": [
    "#remove warnings\n",
    "import warnings\n",
    "warnings.filterwarnings('ignore', category=FutureWarning)\n",
    "\n",
    "#data manipulation libraries\n",
    "import pandas as pd\n",
    "import numpy as np\n",
    "\n",
    "#visualization libraries\n",
    "import seaborn as sns\n",
    "import matplotlib.pyplot as plt\n",
    "\n",
    "#data cleaning suggestions \n",
    "from autoviz import data_cleaning_suggestions\n",
    "\n",
    "#transformation classes\n",
    "from sklearn.preprocessing import StandardScaler, OneHotEncoder\n",
    "from sklearn.compose import ColumnTransformer\n",
    "\n",
    "#data splitting\n",
    "from sklearn.model_selection import train_test_split, KFold\n",
    "\n",
    "#neural networks\n",
    "import tensorflow as tf\n",
    "from tensorflow import keras\n",
    "from tensorflow.keras.layers import Dense, Dropout, Input, Flatten\n",
    "from tensorflow.keras.models import Sequential\n",
    "from tensorflow.keras.optimizers import Adam\n",
    "from tensorflow.keras.callbacks import EarlyStopping, ModelCheckpoint\n",
    "import keras_tuner as kt\n",
    "\n",
    "#model evaluation tools\n",
    "from sklearn.metrics import confusion_matrix, classification_report\n",
    "\n",
    "#balancing techniques\n",
    "from imblearn.under_sampling import RandomUnderSampler\n",
    "from imblearn.over_sampling import SMOTE\n",
    "from imblearn.pipeline import Pipeline"
   ]
  },
  {
   "cell_type": "markdown",
   "id": "536170f5",
   "metadata": {
    "papermill": {
     "duration": 0.044001,
     "end_time": "2025-01-01T09:59:39.631765",
     "exception": false,
     "start_time": "2025-01-01T09:59:39.587764",
     "status": "completed"
    },
    "tags": []
   },
   "source": [
    "Additionally, I will be parallizing the computation for faster results.\n",
    "\n",
    "At this time, my CPU is i7-6600U. This CPU has 4 threads and 2 cores, [Source](https://www.shidirect.com/product/30731472/Intel-Core-i7-6600U-2.6-GHz)."
   ]
  },
  {
   "cell_type": "markdown",
   "id": "fe53c524",
   "metadata": {
    "papermill": {
     "duration": 0.044208,
     "end_time": "2025-01-01T09:59:39.720224",
     "exception": false,
     "start_time": "2025-01-01T09:59:39.676016",
     "status": "completed"
    },
    "tags": []
   },
   "source": [
    "# **Exploratory Data Analysis 📊**\n",
    "\n",
    "<br>\n",
    "\n",
    "In the EDA stage, we will be just exploring our data by visualizing it to gather insights to take action in the next stage."
   ]
  },
  {
   "cell_type": "markdown",
   "id": "563bbe31",
   "metadata": {
    "papermill": {
     "duration": 0.043974,
     "end_time": "2025-01-01T09:59:39.808793",
     "exception": false,
     "start_time": "2025-01-01T09:59:39.764819",
     "status": "completed"
    },
    "tags": []
   },
   "source": [
    "## **1. Reading the CSV file**"
   ]
  },
  {
   "cell_type": "code",
   "execution_count": 3,
   "id": "c68f8856",
   "metadata": {
    "execution": {
     "iopub.execute_input": "2025-01-01T09:59:39.901376Z",
     "iopub.status.busy": "2025-01-01T09:59:39.900676Z",
     "iopub.status.idle": "2025-01-01T09:59:40.106552Z",
     "shell.execute_reply": "2025-01-01T09:59:40.105472Z"
    },
    "papermill": {
     "duration": 0.25431,
     "end_time": "2025-01-01T09:59:40.108560",
     "exception": false,
     "start_time": "2025-01-01T09:59:39.854250",
     "status": "completed"
    },
    "tags": []
   },
   "outputs": [
    {
     "data": {
      "text/html": [
       "<div>\n",
       "<style scoped>\n",
       "    .dataframe tbody tr th:only-of-type {\n",
       "        vertical-align: middle;\n",
       "    }\n",
       "\n",
       "    .dataframe tbody tr th {\n",
       "        vertical-align: top;\n",
       "    }\n",
       "\n",
       "    .dataframe thead th {\n",
       "        text-align: right;\n",
       "    }\n",
       "</style>\n",
       "<table border=\"1\" class=\"dataframe\">\n",
       "  <thead>\n",
       "    <tr style=\"text-align: center;\">\n",
       "      <th></th>\n",
       "      <th>gender</th>\n",
       "      <th>age</th>\n",
       "      <th>hypertension</th>\n",
       "      <th>heart_disease</th>\n",
       "      <th>smoking_history</th>\n",
       "      <th>bmi</th>\n",
       "      <th>HbA1c_level</th>\n",
       "      <th>blood_glucose_level</th>\n",
       "      <th>diabetes</th>\n",
       "    </tr>\n",
       "  </thead>\n",
       "  <tbody>\n",
       "    <tr>\n",
       "      <th>0</th>\n",
       "      <td>Female</td>\n",
       "      <td>80.0</td>\n",
       "      <td>0</td>\n",
       "      <td>1</td>\n",
       "      <td>never</td>\n",
       "      <td>25.19</td>\n",
       "      <td>6.6</td>\n",
       "      <td>140</td>\n",
       "      <td>0</td>\n",
       "    </tr>\n",
       "    <tr>\n",
       "      <th>1</th>\n",
       "      <td>Female</td>\n",
       "      <td>54.0</td>\n",
       "      <td>0</td>\n",
       "      <td>0</td>\n",
       "      <td>No Info</td>\n",
       "      <td>27.32</td>\n",
       "      <td>6.6</td>\n",
       "      <td>80</td>\n",
       "      <td>0</td>\n",
       "    </tr>\n",
       "    <tr>\n",
       "      <th>2</th>\n",
       "      <td>Male</td>\n",
       "      <td>28.0</td>\n",
       "      <td>0</td>\n",
       "      <td>0</td>\n",
       "      <td>never</td>\n",
       "      <td>27.32</td>\n",
       "      <td>5.7</td>\n",
       "      <td>158</td>\n",
       "      <td>0</td>\n",
       "    </tr>\n",
       "    <tr>\n",
       "      <th>3</th>\n",
       "      <td>Female</td>\n",
       "      <td>36.0</td>\n",
       "      <td>0</td>\n",
       "      <td>0</td>\n",
       "      <td>current</td>\n",
       "      <td>23.45</td>\n",
       "      <td>5.0</td>\n",
       "      <td>155</td>\n",
       "      <td>0</td>\n",
       "    </tr>\n",
       "    <tr>\n",
       "      <th>4</th>\n",
       "      <td>Male</td>\n",
       "      <td>76.0</td>\n",
       "      <td>1</td>\n",
       "      <td>1</td>\n",
       "      <td>current</td>\n",
       "      <td>20.14</td>\n",
       "      <td>4.8</td>\n",
       "      <td>155</td>\n",
       "      <td>0</td>\n",
       "    </tr>\n",
       "    <tr>\n",
       "      <th>5</th>\n",
       "      <td>Female</td>\n",
       "      <td>20.0</td>\n",
       "      <td>0</td>\n",
       "      <td>0</td>\n",
       "      <td>never</td>\n",
       "      <td>27.32</td>\n",
       "      <td>6.6</td>\n",
       "      <td>85</td>\n",
       "      <td>0</td>\n",
       "    </tr>\n",
       "    <tr>\n",
       "      <th>6</th>\n",
       "      <td>Female</td>\n",
       "      <td>44.0</td>\n",
       "      <td>0</td>\n",
       "      <td>0</td>\n",
       "      <td>never</td>\n",
       "      <td>19.31</td>\n",
       "      <td>6.5</td>\n",
       "      <td>200</td>\n",
       "      <td>1</td>\n",
       "    </tr>\n",
       "    <tr>\n",
       "      <th>7</th>\n",
       "      <td>Female</td>\n",
       "      <td>79.0</td>\n",
       "      <td>0</td>\n",
       "      <td>0</td>\n",
       "      <td>No Info</td>\n",
       "      <td>23.86</td>\n",
       "      <td>5.7</td>\n",
       "      <td>85</td>\n",
       "      <td>0</td>\n",
       "    </tr>\n",
       "    <tr>\n",
       "      <th>8</th>\n",
       "      <td>Male</td>\n",
       "      <td>42.0</td>\n",
       "      <td>0</td>\n",
       "      <td>0</td>\n",
       "      <td>never</td>\n",
       "      <td>33.64</td>\n",
       "      <td>4.8</td>\n",
       "      <td>145</td>\n",
       "      <td>0</td>\n",
       "    </tr>\n",
       "    <tr>\n",
       "      <th>9</th>\n",
       "      <td>Female</td>\n",
       "      <td>32.0</td>\n",
       "      <td>0</td>\n",
       "      <td>0</td>\n",
       "      <td>never</td>\n",
       "      <td>27.32</td>\n",
       "      <td>5.0</td>\n",
       "      <td>100</td>\n",
       "      <td>0</td>\n",
       "    </tr>\n",
       "  </tbody>\n",
       "</table>\n",
       "</div>"
      ],
      "text/plain": [
       "   gender   age  hypertension  heart_disease smoking_history   bmi   \\\n",
       "0  Female  80.0        0             1              never     25.19   \n",
       "1  Female  54.0        0             0            No Info     27.32   \n",
       "2    Male  28.0        0             0              never     27.32   \n",
       "3  Female  36.0        0             0            current     23.45   \n",
       "4    Male  76.0        1             1            current     20.14   \n",
       "5  Female  20.0        0             0              never     27.32   \n",
       "6  Female  44.0        0             0              never     19.31   \n",
       "7  Female  79.0        0             0            No Info     23.86   \n",
       "8    Male  42.0        0             0              never     33.64   \n",
       "9  Female  32.0        0             0              never     27.32   \n",
       "\n",
       "   HbA1c_level  blood_glucose_level  diabetes  \n",
       "0      6.6              140              0     \n",
       "1      6.6               80              0     \n",
       "2      5.7              158              0     \n",
       "3      5.0              155              0     \n",
       "4      4.8              155              0     \n",
       "5      6.6               85              0     \n",
       "6      6.5              200              1     \n",
       "7      5.7               85              0     \n",
       "8      4.8              145              0     \n",
       "9      5.0              100              0     "
      ]
     },
     "execution_count": 3,
     "metadata": {},
     "output_type": "execute_result"
    }
   ],
   "source": [
    "#reading the dataset\n",
    "df = pd.read_csv('/kaggle/input/diabetes-prediction-dataset/diabetes_prediction_dataset.csv')\n",
    "\n",
    "#overview of the dataset\n",
    "df.head(10)"
   ]
  },
  {
   "cell_type": "markdown",
   "id": "9cc418e0",
   "metadata": {
    "papermill": {
     "duration": 0.045225,
     "end_time": "2025-01-01T09:59:40.200284",
     "exception": false,
     "start_time": "2025-01-01T09:59:40.155059",
     "status": "completed"
    },
    "tags": []
   },
   "source": [
    "Comment: Our target feature will be diabetes. Because our analytics want to predict the diabetic status of a patient.\n",
    "\n",
    "## **2. Is the target feature balanced or imbalanced?**"
   ]
  },
  {
   "cell_type": "code",
   "execution_count": 4,
   "id": "fc9afd8c",
   "metadata": {
    "execution": {
     "iopub.execute_input": "2025-01-01T09:59:40.293017Z",
     "iopub.status.busy": "2025-01-01T09:59:40.292553Z",
     "iopub.status.idle": "2025-01-01T09:59:40.469989Z",
     "shell.execute_reply": "2025-01-01T09:59:40.468488Z"
    },
    "papermill": {
     "duration": 0.227311,
     "end_time": "2025-01-01T09:59:40.473289",
     "exception": false,
     "start_time": "2025-01-01T09:59:40.245978",
     "status": "completed"
    },
    "tags": []
   },
   "outputs": [],
   "source": [
    "diabetes_counts = df['diabetes'].value_counts()\n",
    "diabetes_counts = diabetes_counts.rename(index={1: 'diabetic', 0: 'non-diabetic'})\n",
    "\n",
    "#bar chart plot\n",
    "diabetes_counts.plot(kind='bar', color=['#2be331', '#e3412b'])\n",
    "\n",
    "plt.title('Diabetic Status Distribution')\n",
    "plt.ylabel('Count')\n",
    "\n",
    "plt.xticks(rotation=0)  #keep labels horizontal\n",
    "plt.show()"
   ]
  },
  {
   "cell_type": "code",
   "execution_count": 5,
   "id": "6c26fb3f",
   "metadata": {
    "execution": {
     "iopub.execute_input": "2025-01-01T09:59:40.566657Z",
     "iopub.status.busy": "2025-01-01T09:59:40.566269Z",
     "iopub.status.idle": "2025-01-01T09:59:40.575318Z",
     "shell.execute_reply": "2025-01-01T09:59:40.574223Z"
    },
    "papermill": {
     "duration": 0.056822,
     "end_time": "2025-01-01T09:59:40.576809",
     "exception": false,
     "start_time": "2025-01-01T09:59:40.519987",
     "status": "completed"
    },
    "tags": []
   },
   "outputs": [
    {
     "data": {
      "text/plain": [
       "diabetes\n",
       "non-diabetic    91500\n",
       "diabetic         8500\n",
       "Name: count, dtype: int64"
      ]
     },
     "execution_count": 5,
     "metadata": {},
     "output_type": "execute_result"
    }
   ],
   "source": [
    "diabetes_counts = df['diabetes'].value_counts()\n",
    "diabetes_counts = diabetes_counts.rename(index={1: 'diabetic', 0: 'non-diabetic'})\n",
    "\n",
    "diabetes_counts"
   ]
  },
  {
   "cell_type": "markdown",
   "id": "b2f5d2f9",
   "metadata": {
    "papermill": {
     "duration": 0.04518,
     "end_time": "2025-01-01T09:59:40.667654",
     "exception": false,
     "start_time": "2025-01-01T09:59:40.622474",
     "status": "completed"
    },
    "tags": []
   },
   "source": [
    "Comment: The target feature is imbalanced."
   ]
  },
  {
   "cell_type": "markdown",
   "id": "a10981b4",
   "metadata": {
    "papermill": {
     "duration": 0.045278,
     "end_time": "2025-01-01T09:59:40.758852",
     "exception": false,
     "start_time": "2025-01-01T09:59:40.713574",
     "status": "completed"
    },
    "tags": []
   },
   "source": [
    "## **3. What is the dataframe shape?**"
   ]
  },
  {
   "cell_type": "code",
   "execution_count": 6,
   "id": "12c12152",
   "metadata": {
    "execution": {
     "iopub.execute_input": "2025-01-01T09:59:40.851318Z",
     "iopub.status.busy": "2025-01-01T09:59:40.850920Z",
     "iopub.status.idle": "2025-01-01T09:59:40.856544Z",
     "shell.execute_reply": "2025-01-01T09:59:40.855420Z"
    },
    "papermill": {
     "duration": 0.053704,
     "end_time": "2025-01-01T09:59:40.858121",
     "exception": false,
     "start_time": "2025-01-01T09:59:40.804417",
     "status": "completed"
    },
    "tags": []
   },
   "outputs": [
    {
     "name": "stdout",
     "output_type": "stream",
     "text": [
      "Number of records: 100000\n",
      "Number of features: 9\n"
     ]
    }
   ],
   "source": [
    "#What is the number of records and features we got?\n",
    "print(f'Number of records: {df.shape[0]}')\n",
    "print(f'Number of features: {df.shape[1]}')"
   ]
  },
  {
   "cell_type": "markdown",
   "id": "d78c0b31",
   "metadata": {
    "papermill": {
     "duration": 0.045613,
     "end_time": "2025-01-01T09:59:40.950009",
     "exception": false,
     "start_time": "2025-01-01T09:59:40.904396",
     "status": "completed"
    },
    "tags": []
   },
   "source": [
    "Comment: Exactly 100,000 records and 9 features. Enormous amount of data, alot of information to extract!"
   ]
  },
  {
   "cell_type": "markdown",
   "id": "c123670e",
   "metadata": {
    "papermill": {
     "duration": 0.046286,
     "end_time": "2025-01-01T09:59:41.042101",
     "exception": false,
     "start_time": "2025-01-01T09:59:40.995815",
     "status": "completed"
    },
    "tags": []
   },
   "source": [
    "## **4. What is the basic information of the data?**"
   ]
  },
  {
   "cell_type": "code",
   "execution_count": 7,
   "id": "c4de4581",
   "metadata": {
    "execution": {
     "iopub.execute_input": "2025-01-01T09:59:41.137645Z",
     "iopub.status.busy": "2025-01-01T09:59:41.137295Z",
     "iopub.status.idle": "2025-01-01T09:59:41.164549Z",
     "shell.execute_reply": "2025-01-01T09:59:41.163104Z"
    },
    "papermill": {
     "duration": 0.078836,
     "end_time": "2025-01-01T09:59:41.166561",
     "exception": false,
     "start_time": "2025-01-01T09:59:41.087725",
     "status": "completed"
    },
    "tags": []
   },
   "outputs": [
    {
     "name": "stdout",
     "output_type": "stream",
     "text": [
      "<class 'pandas.core.frame.DataFrame'>\n",
      "RangeIndex: 100000 entries, 0 to 99999\n",
      "Data columns (total 9 columns):\n",
      " #   Column               Non-Null Count   Dtype  \n",
      "---  ------               --------------   -----  \n",
      " 0   gender               100000 non-null  object \n",
      " 1   age                  100000 non-null  float64\n",
      " 2   hypertension         100000 non-null  int64  \n",
      " 3   heart_disease        100000 non-null  int64  \n",
      " 4   smoking_history      100000 non-null  object \n",
      " 5   bmi                  100000 non-null  float64\n",
      " 6   HbA1c_level          100000 non-null  float64\n",
      " 7   blood_glucose_level  100000 non-null  int64  \n",
      " 8   diabetes             100000 non-null  int64  \n",
      "dtypes: float64(3), int64(4), object(2)\n",
      "memory usage: 6.9+ MB\n"
     ]
    }
   ],
   "source": [
    "#.info() will give us alot of important details\n",
    "df.info()"
   ]
  },
  {
   "cell_type": "markdown",
   "id": "445c829f",
   "metadata": {
    "papermill": {
     "duration": 0.0458,
     "end_time": "2025-01-01T09:59:41.258472",
     "exception": false,
     "start_time": "2025-01-01T09:59:41.212672",
     "status": "completed"
    },
    "tags": []
   },
   "source": [
    "Comment: We can see that we have 2 categorical data types, and the rest are numerical. Additionally, there are no missing value.\n",
    "\n",
    "**`smoking_history`** and **`gender`** are the only categorical data type, we have to encode them."
   ]
  },
  {
   "cell_type": "markdown",
   "id": "da6266cf",
   "metadata": {
    "papermill": {
     "duration": 0.04521,
     "end_time": "2025-01-01T09:59:41.349219",
     "exception": false,
     "start_time": "2025-01-01T09:59:41.304009",
     "status": "completed"
    },
    "tags": []
   },
   "source": [
    "## **5. Statistical measures**"
   ]
  },
  {
   "cell_type": "code",
   "execution_count": 8,
   "id": "314bd51e",
   "metadata": {
    "execution": {
     "iopub.execute_input": "2025-01-01T09:59:41.447120Z",
     "iopub.status.busy": "2025-01-01T09:59:41.446722Z",
     "iopub.status.idle": "2025-01-01T09:59:41.496995Z",
     "shell.execute_reply": "2025-01-01T09:59:41.495963Z"
    },
    "papermill": {
     "duration": 0.101477,
     "end_time": "2025-01-01T09:59:41.498906",
     "exception": false,
     "start_time": "2025-01-01T09:59:41.397429",
     "status": "completed"
    },
    "tags": []
   },
   "outputs": [
    {
     "data": {
      "text/html": [
       "<div>\n",
       "<style scoped>\n",
       "    .dataframe tbody tr th:only-of-type {\n",
       "        vertical-align: middle;\n",
       "    }\n",
       "\n",
       "    .dataframe tbody tr th {\n",
       "        vertical-align: top;\n",
       "    }\n",
       "\n",
       "    .dataframe thead th {\n",
       "        text-align: right;\n",
       "    }\n",
       "</style>\n",
       "<table border=\"1\" class=\"dataframe\">\n",
       "  <thead>\n",
       "    <tr style=\"text-align: center;\">\n",
       "      <th></th>\n",
       "      <th>count</th>\n",
       "      <th>mean</th>\n",
       "      <th>std</th>\n",
       "      <th>min</th>\n",
       "      <th>25%</th>\n",
       "      <th>50%</th>\n",
       "      <th>75%</th>\n",
       "      <th>max</th>\n",
       "    </tr>\n",
       "  </thead>\n",
       "  <tbody>\n",
       "    <tr>\n",
       "      <th>age</th>\n",
       "      <td>100000.0</td>\n",
       "      <td>41.885856</td>\n",
       "      <td>22.516840</td>\n",
       "      <td>0.08</td>\n",
       "      <td>24.00</td>\n",
       "      <td>43.00</td>\n",
       "      <td>60.00</td>\n",
       "      <td>80.00</td>\n",
       "    </tr>\n",
       "    <tr>\n",
       "      <th>hypertension</th>\n",
       "      <td>100000.0</td>\n",
       "      <td>0.074850</td>\n",
       "      <td>0.263150</td>\n",
       "      <td>0.00</td>\n",
       "      <td>0.00</td>\n",
       "      <td>0.00</td>\n",
       "      <td>0.00</td>\n",
       "      <td>1.00</td>\n",
       "    </tr>\n",
       "    <tr>\n",
       "      <th>heart_disease</th>\n",
       "      <td>100000.0</td>\n",
       "      <td>0.039420</td>\n",
       "      <td>0.194593</td>\n",
       "      <td>0.00</td>\n",
       "      <td>0.00</td>\n",
       "      <td>0.00</td>\n",
       "      <td>0.00</td>\n",
       "      <td>1.00</td>\n",
       "    </tr>\n",
       "    <tr>\n",
       "      <th>bmi</th>\n",
       "      <td>100000.0</td>\n",
       "      <td>27.320767</td>\n",
       "      <td>6.636783</td>\n",
       "      <td>10.01</td>\n",
       "      <td>23.63</td>\n",
       "      <td>27.32</td>\n",
       "      <td>29.58</td>\n",
       "      <td>95.69</td>\n",
       "    </tr>\n",
       "    <tr>\n",
       "      <th>HbA1c_level</th>\n",
       "      <td>100000.0</td>\n",
       "      <td>5.527507</td>\n",
       "      <td>1.070672</td>\n",
       "      <td>3.50</td>\n",
       "      <td>4.80</td>\n",
       "      <td>5.80</td>\n",
       "      <td>6.20</td>\n",
       "      <td>9.00</td>\n",
       "    </tr>\n",
       "    <tr>\n",
       "      <th>blood_glucose_level</th>\n",
       "      <td>100000.0</td>\n",
       "      <td>138.058060</td>\n",
       "      <td>40.708136</td>\n",
       "      <td>80.00</td>\n",
       "      <td>100.00</td>\n",
       "      <td>140.00</td>\n",
       "      <td>159.00</td>\n",
       "      <td>300.00</td>\n",
       "    </tr>\n",
       "    <tr>\n",
       "      <th>diabetes</th>\n",
       "      <td>100000.0</td>\n",
       "      <td>0.085000</td>\n",
       "      <td>0.278883</td>\n",
       "      <td>0.00</td>\n",
       "      <td>0.00</td>\n",
       "      <td>0.00</td>\n",
       "      <td>0.00</td>\n",
       "      <td>1.00</td>\n",
       "    </tr>\n",
       "  </tbody>\n",
       "</table>\n",
       "</div>"
      ],
      "text/plain": [
       "                       count      mean        std      min     25%     50%   \\\n",
       "age                  100000.0   41.885856  22.516840   0.08   24.00   43.00   \n",
       "hypertension         100000.0    0.074850   0.263150   0.00    0.00    0.00   \n",
       "heart_disease        100000.0    0.039420   0.194593   0.00    0.00    0.00   \n",
       "bmi                  100000.0   27.320767   6.636783  10.01   23.63   27.32   \n",
       "HbA1c_level          100000.0    5.527507   1.070672   3.50    4.80    5.80   \n",
       "blood_glucose_level  100000.0  138.058060  40.708136  80.00  100.00  140.00   \n",
       "diabetes             100000.0    0.085000   0.278883   0.00    0.00    0.00   \n",
       "\n",
       "                       75%     max   \n",
       "age                   60.00   80.00  \n",
       "hypertension           0.00    1.00  \n",
       "heart_disease          0.00    1.00  \n",
       "bmi                   29.58   95.69  \n",
       "HbA1c_level            6.20    9.00  \n",
       "blood_glucose_level  159.00  300.00  \n",
       "diabetes               0.00    1.00  "
      ]
     },
     "execution_count": 8,
     "metadata": {},
     "output_type": "execute_result"
    }
   ],
   "source": [
    "df.describe().T\n",
    "\n",
    "#.T will Transpose the table!"
   ]
  },
  {
   "cell_type": "markdown",
   "id": "ca7707cf",
   "metadata": {
    "papermill": {
     "duration": 0.045421,
     "end_time": "2025-01-01T09:59:41.591131",
     "exception": false,
     "start_time": "2025-01-01T09:59:41.545710",
     "status": "completed"
    },
    "tags": []
   },
   "source": [
    "Comment: Note that .describe() only calculates the statistical measures for the numerical features.\n",
    "\n",
    "What really cought my attention is that **`age`** has a minimum value of 0.08 suggesting that we have infants in the dataframe. According to this [website](https://www.nationwidechildrens.org/conditions/neonatal-diabetes#:~:text=But%20type%201%20diabetes%20usually,some%20areas%20of%20the%20world.), the minimum age for diabetes to accure is 6 months, which is in terms of our data 0.50. As a result, any child under 6 months will be excluded from our analysis.\n",
    "\n",
    "Out of curiosity, how many records we have of infants smaller than 6 months?"
   ]
  },
  {
   "cell_type": "code",
   "execution_count": 9,
   "id": "b55fce88",
   "metadata": {
    "execution": {
     "iopub.execute_input": "2025-01-01T09:59:41.684221Z",
     "iopub.status.busy": "2025-01-01T09:59:41.683806Z",
     "iopub.status.idle": "2025-01-01T09:59:41.698303Z",
     "shell.execute_reply": "2025-01-01T09:59:41.697175Z"
    },
    "papermill": {
     "duration": 0.062956,
     "end_time": "2025-01-01T09:59:41.699978",
     "exception": false,
     "start_time": "2025-01-01T09:59:41.637022",
     "status": "completed"
    },
    "tags": []
   },
   "outputs": [
    {
     "data": {
      "text/plain": [
       "(420, 9)"
      ]
     },
     "execution_count": 9,
     "metadata": {},
     "output_type": "execute_result"
    }
   ],
   "source": [
    "#.query() is a filter method\n",
    "f_df = df.query('age < 0.5')\n",
    "\n",
    "f_df.shape"
   ]
  },
  {
   "cell_type": "markdown",
   "id": "77e601d2",
   "metadata": {
    "papermill": {
     "duration": 0.048047,
     "end_time": "2025-01-01T09:59:41.795206",
     "exception": false,
     "start_time": "2025-01-01T09:59:41.747159",
     "status": "completed"
    },
    "tags": []
   },
   "source": [
    "Comment: 420 records for infants less than 6 months.\n",
    "\n",
    "They will be excluded from our analysis."
   ]
  },
  {
   "cell_type": "markdown",
   "id": "64bf0d68",
   "metadata": {
    "papermill": {
     "duration": 0.046213,
     "end_time": "2025-01-01T09:59:41.888299",
     "exception": false,
     "start_time": "2025-01-01T09:59:41.842086",
     "status": "completed"
    },
    "tags": []
   },
   "source": [
    "## **6. Duplicated values**"
   ]
  },
  {
   "cell_type": "code",
   "execution_count": 10,
   "id": "fa3796dd",
   "metadata": {
    "execution": {
     "iopub.execute_input": "2025-01-01T09:59:41.983086Z",
     "iopub.status.busy": "2025-01-01T09:59:41.982656Z",
     "iopub.status.idle": "2025-01-01T09:59:42.014103Z",
     "shell.execute_reply": "2025-01-01T09:59:42.012536Z"
    },
    "papermill": {
     "duration": 0.080768,
     "end_time": "2025-01-01T09:59:42.016131",
     "exception": false,
     "start_time": "2025-01-01T09:59:41.935363",
     "status": "completed"
    },
    "tags": []
   },
   "outputs": [
    {
     "name": "stdout",
     "output_type": "stream",
     "text": [
      "number of duplicated records: 3854\n"
     ]
    }
   ],
   "source": [
    "print('number of duplicated records:', df.duplicated().sum())"
   ]
  },
  {
   "cell_type": "markdown",
   "id": "4ad0b91b",
   "metadata": {
    "papermill": {
     "duration": 0.046905,
     "end_time": "2025-01-01T09:59:42.110689",
     "exception": false,
     "start_time": "2025-01-01T09:59:42.063784",
     "status": "completed"
    },
    "tags": []
   },
   "source": [
    "Comment: Assuming each record represents a unique case, then those records are \"technically\" not considered as duplicates. Hense, I am not going to remove duplicates."
   ]
  },
  {
   "cell_type": "markdown",
   "id": "75dc099b",
   "metadata": {
    "papermill": {
     "duration": 0.045381,
     "end_time": "2025-01-01T09:59:42.202513",
     "exception": false,
     "start_time": "2025-01-01T09:59:42.157132",
     "status": "completed"
    },
    "tags": []
   },
   "source": [
    "## **7. What are the unique values in each feature?**"
   ]
  },
  {
   "cell_type": "code",
   "execution_count": 11,
   "id": "199db8c6",
   "metadata": {
    "execution": {
     "iopub.execute_input": "2025-01-01T09:59:42.295066Z",
     "iopub.status.busy": "2025-01-01T09:59:42.294675Z",
     "iopub.status.idle": "2025-01-01T09:59:42.336338Z",
     "shell.execute_reply": "2025-01-01T09:59:42.334833Z"
    },
    "papermill": {
     "duration": 0.090014,
     "end_time": "2025-01-01T09:59:42.338169",
     "exception": false,
     "start_time": "2025-01-01T09:59:42.248155",
     "status": "completed"
    },
    "tags": []
   },
   "outputs": [
    {
     "name": "stdout",
     "output_type": "stream",
     "text": [
      "The unique values for the feature gender are:\n",
      "['Female' 'Male' 'Other'] total is 3\n",
      "\n",
      "---------------------\n",
      "\n",
      "The unique values for the feature age are:\n",
      "[80.   54.   28.   36.   76.   20.   44.   79.   42.   32.   53.   78.\n",
      " 67.   15.   37.   40.    5.   69.   72.    4.   30.   45.   43.   50.\n",
      " 41.   26.   34.   73.   77.   66.   29.   60.   38.    3.   57.   74.\n",
      " 19.   46.   21.   59.   27.   13.   56.    2.    7.   11.    6.   55.\n",
      "  9.   62.   47.   12.   68.   75.   22.   58.   18.   24.   17.   25.\n",
      "  0.08 33.   16.   61.   31.    8.   49.   39.   65.   14.   70.    0.56\n",
      " 48.   51.   71.    0.88 64.   63.   52.    0.16 10.   35.   23.    0.64\n",
      "  1.16  1.64  0.72  1.88  1.32  0.8   1.24  1.    1.8   0.48  1.56  1.08\n",
      "  0.24  1.4   0.4   0.32  1.72  1.48] total is 102\n",
      "\n",
      "---------------------\n",
      "\n",
      "The unique values for the feature hypertension are:\n",
      "[0 1] total is 2\n",
      "\n",
      "---------------------\n",
      "\n",
      "The unique values for the feature heart_disease are:\n",
      "[1 0] total is 2\n",
      "\n",
      "---------------------\n",
      "\n",
      "The unique values for the feature smoking_history are:\n",
      "['never' 'No Info' 'current' 'former' 'ever' 'not current'] total is 6\n",
      "\n",
      "---------------------\n",
      "\n",
      "The unique values for the feature bmi are:\n",
      "[25.19 27.32 23.45 ... 59.42 44.39 60.52] total is 4247\n",
      "\n",
      "---------------------\n",
      "\n",
      "The unique values for the feature HbA1c_level are:\n",
      "[6.6 5.7 5.  4.8 6.5 6.1 6.  5.8 3.5 6.2 4.  4.5 9.  7.  8.8 8.2 7.5 6.8] total is 18\n",
      "\n",
      "---------------------\n",
      "\n",
      "The unique values for the feature blood_glucose_level are:\n",
      "[140  80 158 155  85 200 145 100 130 160 126 159  90 260 220 300 280 240] total is 18\n",
      "\n",
      "---------------------\n",
      "\n",
      "The unique values for the feature diabetes are:\n",
      "[0 1] total is 2\n"
     ]
    }
   ],
   "source": [
    "counter = 1\n",
    "\n",
    "for feature in df.columns:\n",
    "    print(f'The unique values for the feature {feature} are:')\n",
    "    print(f'{df[feature].unique()} total is {len(df[feature].unique())}')\n",
    "    \n",
    "    if (counter < df.shape[1]):\n",
    "        print('\\n---------------------\\n') #space\n",
    "        \n",
    "    counter += 1"
   ]
  },
  {
   "cell_type": "markdown",
   "id": "d4ee62f1",
   "metadata": {
    "papermill": {
     "duration": 0.046377,
     "end_time": "2025-01-01T09:59:42.432362",
     "exception": false,
     "start_time": "2025-01-01T09:59:42.385985",
     "status": "completed"
    },
    "tags": []
   },
   "source": [
    "Comment: **`smoking_history`** feature has alot of over lapping values. **`gender`** has 3 values."
   ]
  },
  {
   "cell_type": "code",
   "execution_count": 12,
   "id": "0c057913",
   "metadata": {
    "execution": {
     "iopub.execute_input": "2025-01-01T09:59:42.526995Z",
     "iopub.status.busy": "2025-01-01T09:59:42.526572Z",
     "iopub.status.idle": "2025-01-01T09:59:42.575995Z",
     "shell.execute_reply": "2025-01-01T09:59:42.575052Z"
    },
    "papermill": {
     "duration": 0.098942,
     "end_time": "2025-01-01T09:59:42.577963",
     "exception": false,
     "start_time": "2025-01-01T09:59:42.479021",
     "status": "completed"
    },
    "tags": []
   },
   "outputs": [],
   "source": [
    "gender_counts = df['gender'].value_counts()\n",
    "\n",
    "#bar chart plot\n",
    "gender_counts.plot(kind='bar', color=['lightpink', 'lightblue', '#9370DB'])\n",
    "\n",
    "plt.title('Gender Distribution')\n",
    "plt.xlabel('Gender')\n",
    "plt.ylabel('Count')\n",
    "\n",
    "plt.xticks(rotation=0)  #keep labels horizontal\n",
    "plt.show()"
   ]
  },
  {
   "cell_type": "code",
   "execution_count": 13,
   "id": "a22182e5",
   "metadata": {
    "execution": {
     "iopub.execute_input": "2025-01-01T09:59:42.671963Z",
     "iopub.status.busy": "2025-01-01T09:59:42.671566Z",
     "iopub.status.idle": "2025-01-01T09:59:42.684987Z",
     "shell.execute_reply": "2025-01-01T09:59:42.683890Z"
    },
    "papermill": {
     "duration": 0.062438,
     "end_time": "2025-01-01T09:59:42.686652",
     "exception": false,
     "start_time": "2025-01-01T09:59:42.624214",
     "status": "completed"
    },
    "tags": []
   },
   "outputs": [
    {
     "data": {
      "text/plain": [
       "gender\n",
       "Female    58552\n",
       "Male      41430\n",
       "Other        18\n",
       "Name: count, dtype: int64"
      ]
     },
     "execution_count": 13,
     "metadata": {},
     "output_type": "execute_result"
    }
   ],
   "source": [
    "df['gender'].value_counts()"
   ]
  },
  {
   "cell_type": "markdown",
   "id": "a700f1be",
   "metadata": {
    "papermill": {
     "duration": 0.046978,
     "end_time": "2025-01-01T09:59:42.780157",
     "exception": false,
     "start_time": "2025-01-01T09:59:42.733179",
     "status": "completed"
    },
    "tags": []
   },
   "source": [
    "Comment: The \"Other\" class is very low, making it irrelavent for our analysis."
   ]
  },
  {
   "cell_type": "code",
   "execution_count": 14,
   "id": "1427b1ba",
   "metadata": {
    "execution": {
     "iopub.execute_input": "2025-01-01T09:59:42.874849Z",
     "iopub.status.busy": "2025-01-01T09:59:42.874419Z",
     "iopub.status.idle": "2025-01-01T09:59:42.934974Z",
     "shell.execute_reply": "2025-01-01T09:59:42.933996Z"
    },
    "papermill": {
     "duration": 0.110149,
     "end_time": "2025-01-01T09:59:42.937004",
     "exception": false,
     "start_time": "2025-01-01T09:59:42.826855",
     "status": "completed"
    },
    "tags": []
   },
   "outputs": [],
   "source": [
    "smoking_counts = df['smoking_history'].value_counts()\n",
    "\n",
    "#bar chart plot\n",
    "smoking_counts.plot(kind='bar')\n",
    "\n",
    "plt.title('Smoking History Distribution')\n",
    "plt.xlabel('Smoking category')\n",
    "plt.ylabel('Count')\n",
    "\n",
    "plt.xticks(rotation=0)  #keep labels horizontal\n",
    "plt.show()"
   ]
  },
  {
   "cell_type": "code",
   "execution_count": 15,
   "id": "3452fe92",
   "metadata": {
    "execution": {
     "iopub.execute_input": "2025-01-01T09:59:43.033215Z",
     "iopub.status.busy": "2025-01-01T09:59:43.032773Z",
     "iopub.status.idle": "2025-01-01T09:59:43.046527Z",
     "shell.execute_reply": "2025-01-01T09:59:43.045624Z"
    },
    "papermill": {
     "duration": 0.063572,
     "end_time": "2025-01-01T09:59:43.048117",
     "exception": false,
     "start_time": "2025-01-01T09:59:42.984545",
     "status": "completed"
    },
    "tags": []
   },
   "outputs": [
    {
     "data": {
      "text/plain": [
       "smoking_history\n",
       "No Info        35816\n",
       "never          35095\n",
       "former          9352\n",
       "current         9286\n",
       "not current     6447\n",
       "ever            4004\n",
       "Name: count, dtype: int64"
      ]
     },
     "execution_count": 15,
     "metadata": {},
     "output_type": "execute_result"
    }
   ],
   "source": [
    "df['smoking_history'].value_counts()"
   ]
  },
  {
   "cell_type": "markdown",
   "id": "6993bf8b",
   "metadata": {
    "papermill": {
     "duration": 0.048625,
     "end_time": "2025-01-01T09:59:43.143423",
     "exception": false,
     "start_time": "2025-01-01T09:59:43.094798",
     "status": "completed"
    },
    "tags": []
   },
   "source": [
    "Comment: We can combine alot of those features together..."
   ]
  },
  {
   "cell_type": "markdown",
   "id": "46fa4e11",
   "metadata": {
    "papermill": {
     "duration": 0.045676,
     "end_time": "2025-01-01T09:59:43.235316",
     "exception": false,
     "start_time": "2025-01-01T09:59:43.189640",
     "status": "completed"
    },
    "tags": []
   },
   "source": [
    "## **8. Can we perform feature engineering?**"
   ]
  },
  {
   "cell_type": "markdown",
   "id": "6c1cb065",
   "metadata": {
    "papermill": {
     "duration": 0.045761,
     "end_time": "2025-01-01T09:59:43.327021",
     "exception": false,
     "start_time": "2025-01-01T09:59:43.281260",
     "status": "completed"
    },
    "tags": []
   },
   "source": [
    "After viewing the dataset, we saw an opportunity to generate a feature called **`bmi_categories`**. The idea of this feature is to give each range of values in the BMI feature a category that matches the range, such as \"Underweight, Normal weight, Obese, ...\".\n",
    "\n",
    "Unfortunately, this idea is not ideal since it introduces bias and inconsistency according to the following study ([the study](https://abstracts.cochrane.org/2013-quebec-city/categorising-continuous-risk-factors-issues-and-implications))."
   ]
  },
  {
   "cell_type": "markdown",
   "id": "56030902",
   "metadata": {
    "papermill": {
     "duration": 0.045741,
     "end_time": "2025-01-01T09:59:43.419835",
     "exception": false,
     "start_time": "2025-01-01T09:59:43.374094",
     "status": "completed"
    },
    "tags": []
   },
   "source": [
    "## **9. What is the correlation with the features? What is the correlation with the target?**"
   ]
  },
  {
   "cell_type": "code",
   "execution_count": 16,
   "id": "99099828",
   "metadata": {
    "execution": {
     "iopub.execute_input": "2025-01-01T09:59:43.513152Z",
     "iopub.status.busy": "2025-01-01T09:59:43.512743Z",
     "iopub.status.idle": "2025-01-01T09:59:43.723171Z",
     "shell.execute_reply": "2025-01-01T09:59:43.722141Z"
    },
    "papermill": {
     "duration": 0.259342,
     "end_time": "2025-01-01T09:59:43.725029",
     "exception": false,
     "start_time": "2025-01-01T09:59:43.465687",
     "status": "completed"
    },
    "tags": []
   },
   "outputs": [],
   "source": [
    "#coping the original dataframe to not affect it\n",
    "n_df = df.copy()\n",
    "\n",
    "#correlation cannot be computed for categorical features so we drop them\n",
    "n_df = n_df.drop(columns=['smoking_history', 'gender'])\n",
    "\n",
    "#getting the correlation matrix\n",
    "correlation_matrix = n_df.corr()\n",
    "\n",
    "#making the matrix visually presentable\n",
    "sns.heatmap(correlation_matrix, annot=True, cmap='magma', fmt='.2f')\n",
    "plt.title(\"Correlation Matrix\")\n",
    "plt.show()"
   ]
  },
  {
   "cell_type": "code",
   "execution_count": 17,
   "id": "9ad01ffd",
   "metadata": {
    "execution": {
     "iopub.execute_input": "2025-01-01T09:59:43.820477Z",
     "iopub.status.busy": "2025-01-01T09:59:43.820139Z",
     "iopub.status.idle": "2025-01-01T09:59:44.038384Z",
     "shell.execute_reply": "2025-01-01T09:59:44.037237Z"
    },
    "papermill": {
     "duration": 0.268694,
     "end_time": "2025-01-01T09:59:44.040439",
     "exception": false,
     "start_time": "2025-01-01T09:59:43.771745",
     "status": "completed"
    },
    "tags": []
   },
   "outputs": [],
   "source": [
    "#finding the correlation with `diabetes`\n",
    "target_corr = correlation_matrix['diabetes']\n",
    "\n",
    "#sort correlation values in descending order\n",
    "target_corr_sorted = target_corr.sort_values(ascending=False)\n",
    "\n",
    "#its important to mention that target_corr_sorted is a Series, not dataframe.\n",
    "#because it has the correlation values with a sigle feature, diabetes.\n",
    "#sns library expect a dataframe not a Series. .to_frame() will make it as a Dataframe\n",
    "\n",
    "#visualization\n",
    "sns.heatmap(target_corr_sorted.to_frame(), cmap=\"magma\", annot=True, fmt='.2f')\n",
    "plt.title('Correlation with Diabetes')\n",
    "plt.show()"
   ]
  },
  {
   "cell_type": "markdown",
   "id": "717ae957",
   "metadata": {
    "papermill": {
     "duration": 0.06865,
     "end_time": "2025-01-01T09:59:44.157558",
     "exception": false,
     "start_time": "2025-01-01T09:59:44.088908",
     "status": "completed"
    },
    "tags": []
   },
   "source": [
    "We can visualize that all the features have some sort of correlation with the target. This indicates that the features have some sort of relation with the target regardless of whether the relation is strong/weak.\n",
    "\n",
    "Most important feature for this analysis will be **`blood_glucose_level`** and **`HbA1c_level`**, as they have the highest correlation with the target feature."
   ]
  },
  {
   "cell_type": "markdown",
   "id": "a2a38c0d",
   "metadata": {
    "papermill": {
     "duration": 0.047678,
     "end_time": "2025-01-01T09:59:44.261281",
     "exception": false,
     "start_time": "2025-01-01T09:59:44.213603",
     "status": "completed"
    },
    "tags": []
   },
   "source": [
    "## **10. Are there any outliers?**\n",
    "\n",
    "Outliers can be detected for only numerical data. Additionally, there are two ways to spot outliers, either mathematically or visually.\n",
    "\n",
    "- Mathematically will give us the approximate number of outliers for a specific feature.\n",
    "\n",
    "- Visually will show whether outliers exist or not but does not show the number of them."
   ]
  },
  {
   "cell_type": "code",
   "execution_count": 18,
   "id": "1516402c",
   "metadata": {
    "execution": {
     "iopub.execute_input": "2025-01-01T09:59:44.358901Z",
     "iopub.status.busy": "2025-01-01T09:59:44.358500Z",
     "iopub.status.idle": "2025-01-01T09:59:44.364837Z",
     "shell.execute_reply": "2025-01-01T09:59:44.363981Z"
    },
    "papermill": {
     "duration": 0.057101,
     "end_time": "2025-01-01T09:59:44.366467",
     "exception": false,
     "start_time": "2025-01-01T09:59:44.309366",
     "status": "completed"
    },
    "tags": []
   },
   "outputs": [],
   "source": [
    "def outlier_one_feature(df, x, thresh_val=1.5):\n",
    "    \"\"\"\n",
    "    This function is created to minimize code. We will spot outliers via math and visualization.\n",
    "    \n",
    "    df: The dataframe.\n",
    "    x: The feature.\n",
    "    thresh_val: Multiplied thresh hold value (default is 1.5).\n",
    "    \"\"\"\n",
    "    \n",
    "    q1 = df[x].quantile(0.25)\n",
    "    q3 = df[x].quantile(0.75)\n",
    "\n",
    "    iqr = q3 - q1\n",
    "\n",
    "    maximumPond = q3 + (thresh_val * iqr)\n",
    "    minimumPond = q1 - (thresh_val * iqr)\n",
    "\n",
    "    #approximate the number of outliers\n",
    "    f_df1 = df.query(f'{x} >= @maximumPond')\n",
    "    f_df2 = df.query(f'{x} <= @minimumPond')\n",
    "\n",
    "    m_df = pd.concat([f_df1, f_df2], ignore_index=True)\n",
    "\n",
    "    #visualize the feature in a boxplot\n",
    "    sns.boxplot(data=df, x=x, whis=thresh_val)\n",
    "    plt.title(f'Boxplot for {x}')\n",
    "    plt.show()\n",
    "\n",
    "    print(f'The approximate number of outliers for {x} is {m_df.shape[0]}')"
   ]
  },
  {
   "cell_type": "markdown",
   "id": "64bd4a4e",
   "metadata": {
    "papermill": {
     "duration": 0.046196,
     "end_time": "2025-01-01T09:59:44.459245",
     "exception": false,
     "start_time": "2025-01-01T09:59:44.413049",
     "status": "completed"
    },
    "tags": []
   },
   "source": [
    "Testing the function:"
   ]
  },
  {
   "cell_type": "code",
   "execution_count": 19,
   "id": "82762845",
   "metadata": {
    "execution": {
     "iopub.execute_input": "2025-01-01T09:59:44.553787Z",
     "iopub.status.busy": "2025-01-01T09:59:44.553404Z",
     "iopub.status.idle": "2025-01-01T09:59:44.850830Z",
     "shell.execute_reply": "2025-01-01T09:59:44.849702Z"
    },
    "papermill": {
     "duration": 0.346763,
     "end_time": "2025-01-01T09:59:44.852511",
     "exception": false,
     "start_time": "2025-01-01T09:59:44.505748",
     "status": "completed"
    },
    "tags": []
   },
   "outputs": [
    {
     "name": "stdout",
     "output_type": "stream",
     "text": [
      "The approximate number of outliers for age is 0\n"
     ]
    }
   ],
   "source": [
    "outlier_one_feature(df, x='age')"
   ]
  },
  {
   "cell_type": "code",
   "execution_count": 20,
   "id": "4992b762",
   "metadata": {
    "execution": {
     "iopub.execute_input": "2025-01-01T09:59:45.010003Z",
     "iopub.status.busy": "2025-01-01T09:59:45.009597Z",
     "iopub.status.idle": "2025-01-01T09:59:45.320070Z",
     "shell.execute_reply": "2025-01-01T09:59:45.318773Z"
    },
    "papermill": {
     "duration": 0.36567,
     "end_time": "2025-01-01T09:59:45.322050",
     "exception": false,
     "start_time": "2025-01-01T09:59:44.956380",
     "status": "completed"
    },
    "tags": []
   },
   "outputs": [
    {
     "name": "stdout",
     "output_type": "stream",
     "text": [
      "The approximate number of outliers for bmi is 7086\n"
     ]
    }
   ],
   "source": [
    "outlier_one_feature(df, x='bmi')"
   ]
  },
  {
   "cell_type": "code",
   "execution_count": 21,
   "id": "bb069171",
   "metadata": {
    "execution": {
     "iopub.execute_input": "2025-01-01T09:59:45.418744Z",
     "iopub.status.busy": "2025-01-01T09:59:45.418351Z",
     "iopub.status.idle": "2025-01-01T09:59:45.726971Z",
     "shell.execute_reply": "2025-01-01T09:59:45.725590Z"
    },
    "papermill": {
     "duration": 0.359231,
     "end_time": "2025-01-01T09:59:45.729046",
     "exception": false,
     "start_time": "2025-01-01T09:59:45.369815",
     "status": "completed"
    },
    "tags": []
   },
   "outputs": [
    {
     "name": "stdout",
     "output_type": "stream",
     "text": [
      "The approximate number of outliers for HbA1c_level is 1315\n"
     ]
    }
   ],
   "source": [
    "outlier_one_feature(df, x='HbA1c_level')"
   ]
  },
  {
   "cell_type": "code",
   "execution_count": 22,
   "id": "67421881",
   "metadata": {
    "execution": {
     "iopub.execute_input": "2025-01-01T09:59:45.825550Z",
     "iopub.status.busy": "2025-01-01T09:59:45.825162Z",
     "iopub.status.idle": "2025-01-01T09:59:46.123831Z",
     "shell.execute_reply": "2025-01-01T09:59:46.122736Z"
    },
    "papermill": {
     "duration": 0.348809,
     "end_time": "2025-01-01T09:59:46.125371",
     "exception": false,
     "start_time": "2025-01-01T09:59:45.776562",
     "status": "completed"
    },
    "tags": []
   },
   "outputs": [
    {
     "name": "stdout",
     "output_type": "stream",
     "text": [
      "The approximate number of outliers for blood_glucose_level is 2038\n"
     ]
    }
   ],
   "source": [
    "outlier_one_feature(df, x='blood_glucose_level')"
   ]
  },
  {
   "cell_type": "markdown",
   "id": "63742d09",
   "metadata": {
    "papermill": {
     "duration": 0.046831,
     "end_time": "2025-01-01T09:59:46.219578",
     "exception": false,
     "start_time": "2025-01-01T09:59:46.172747",
     "status": "completed"
    },
    "tags": []
   },
   "source": [
    "## **11. What is the distribution of the features above? Does it affect the outlier detection?**"
   ]
  },
  {
   "cell_type": "code",
   "execution_count": 23,
   "id": "b2f8e226",
   "metadata": {
    "execution": {
     "iopub.execute_input": "2025-01-01T09:59:46.316550Z",
     "iopub.status.busy": "2025-01-01T09:59:46.316186Z",
     "iopub.status.idle": "2025-01-01T09:59:46.494152Z",
     "shell.execute_reply": "2025-01-01T09:59:46.493004Z"
    },
    "papermill": {
     "duration": 0.229435,
     "end_time": "2025-01-01T09:59:46.496147",
     "exception": false,
     "start_time": "2025-01-01T09:59:46.266712",
     "status": "completed"
    },
    "tags": []
   },
   "outputs": [],
   "source": [
    "plt.hist(df['bmi'], bins=40, color='blue', edgecolor='black')\n",
    "plt.title('BMI Histogram')\n",
    "plt.xlabel('BMI')\n",
    "plt.ylabel('Count')\n",
    "plt.show()"
   ]
  },
  {
   "cell_type": "code",
   "execution_count": 24,
   "id": "bdfb8842",
   "metadata": {
    "execution": {
     "iopub.execute_input": "2025-01-01T09:59:46.593057Z",
     "iopub.status.busy": "2025-01-01T09:59:46.592604Z",
     "iopub.status.idle": "2025-01-01T09:59:46.778857Z",
     "shell.execute_reply": "2025-01-01T09:59:46.778031Z"
    },
    "papermill": {
     "duration": 0.23643,
     "end_time": "2025-01-01T09:59:46.780792",
     "exception": false,
     "start_time": "2025-01-01T09:59:46.544362",
     "status": "completed"
    },
    "tags": []
   },
   "outputs": [],
   "source": [
    "plt.hist(df['HbA1c_level'], bins=40, color='blue', edgecolor='black')\n",
    "plt.title('HbA1c_level Histogram')\n",
    "plt.xlabel('HbA1c_level')\n",
    "plt.ylabel('Count')\n",
    "plt.show()"
   ]
  },
  {
   "cell_type": "code",
   "execution_count": 25,
   "id": "0503e5ee",
   "metadata": {
    "execution": {
     "iopub.execute_input": "2025-01-01T09:59:46.876371Z",
     "iopub.status.busy": "2025-01-01T09:59:46.875989Z",
     "iopub.status.idle": "2025-01-01T09:59:47.080308Z",
     "shell.execute_reply": "2025-01-01T09:59:47.079382Z"
    },
    "papermill": {
     "duration": 0.254031,
     "end_time": "2025-01-01T09:59:47.082132",
     "exception": false,
     "start_time": "2025-01-01T09:59:46.828101",
     "status": "completed"
    },
    "tags": []
   },
   "outputs": [],
   "source": [
    "plt.hist(df['blood_glucose_level'], bins=40, color='blue', edgecolor='black')\n",
    "plt.title('blood_glucose_level Histogram')\n",
    "plt.xlabel('blood_glucose_level')\n",
    "plt.ylabel('Count')\n",
    "plt.show()"
   ]
  },
  {
   "cell_type": "markdown",
   "id": "10b98262",
   "metadata": {
    "papermill": {
     "duration": 0.047265,
     "end_time": "2025-01-01T09:59:47.177791",
     "exception": false,
     "start_time": "2025-01-01T09:59:47.130526",
     "status": "completed"
    },
    "tags": []
   },
   "source": [
    "Comment: **`bmi`**, **`HbA1c_level`**, and **`blood_glucose_level`** have alot of outliers. Other features does not necessarly have outliers since there values are just 0 and 1.\n",
    "\n",
    "It is crucial to state that I am going to implement the IQR method to remove the outliers. This method works flawlessly with uniform distribution (e.g. `blood_glucose_level` and `HbA1c_level`). However, for skewed data (e.g. `bmi`) this method is not effecint as we have to modify and find the best thresh hold value.\n",
    "\n",
    "There are many possible solutions including:\n",
    "- Changing the standard thresh hold value for the IQR method (the standard value is 1.5).\n",
    "- Transform the feature to make it uniform/normally distributed.\n",
    "- Use another outlier detector method such as z-score (the z-score method has a standard thresh hold value of 3)."
   ]
  },
  {
   "cell_type": "markdown",
   "id": "0602e158",
   "metadata": {
    "papermill": {
     "duration": 0.047356,
     "end_time": "2025-01-01T09:59:47.272448",
     "exception": false,
     "start_time": "2025-01-01T09:59:47.225092",
     "status": "completed"
    },
    "tags": []
   },
   "source": [
    "## **12. Data cleaning suggestions from Autoviz library**"
   ]
  },
  {
   "cell_type": "code",
   "execution_count": 26,
   "id": "cea2a7e0",
   "metadata": {
    "execution": {
     "iopub.execute_input": "2025-01-01T09:59:47.367790Z",
     "iopub.status.busy": "2025-01-01T09:59:47.367437Z",
     "iopub.status.idle": "2025-01-01T09:59:48.180521Z",
     "shell.execute_reply": "2025-01-01T09:59:48.179387Z"
    },
    "papermill": {
     "duration": 0.862762,
     "end_time": "2025-01-01T09:59:48.182368",
     "exception": false,
     "start_time": "2025-01-01T09:59:47.319606",
     "status": "completed"
    },
    "tags": []
   },
   "outputs": [
    {
     "name": "stdout",
     "output_type": "stream",
     "text": [
      "There are 3854 duplicate rows in your dataset\n",
      "    Alert: Dropping duplicate rows can sometimes cause your column data types to change to object!\n",
      "    All variables classified into correct types.\n"
     ]
    },
    {
     "data": {
      "text/html": [
       "<style type=\"text/css\">\n",
       "#T_fe851_row0_col0, #T_fe851_row0_col2, #T_fe851_row0_col3, #T_fe851_row0_col4, #T_fe851_row0_col5, #T_fe851_row1_col0, #T_fe851_row1_col2, #T_fe851_row1_col3, #T_fe851_row1_col4, #T_fe851_row1_col5, #T_fe851_row2_col0, #T_fe851_row2_col2, #T_fe851_row2_col3, #T_fe851_row2_col4, #T_fe851_row2_col5, #T_fe851_row3_col0, #T_fe851_row3_col2, #T_fe851_row3_col3, #T_fe851_row3_col4, #T_fe851_row3_col5, #T_fe851_row4_col0, #T_fe851_row4_col2, #T_fe851_row4_col3, #T_fe851_row4_col4, #T_fe851_row4_col5, #T_fe851_row5_col0, #T_fe851_row5_col2, #T_fe851_row5_col3, #T_fe851_row5_col4, #T_fe851_row5_col5, #T_fe851_row6_col0, #T_fe851_row6_col2, #T_fe851_row6_col3, #T_fe851_row6_col4, #T_fe851_row6_col5, #T_fe851_row7_col0, #T_fe851_row7_col2, #T_fe851_row7_col3, #T_fe851_row7_col4, #T_fe851_row7_col5, #T_fe851_row8_col0, #T_fe851_row8_col2, #T_fe851_row8_col3, #T_fe851_row8_col4, #T_fe851_row8_col5 {\n",
       "  font-family: Segoe UI;\n",
       "}\n",
       "#T_fe851_row0_col1, #T_fe851_row1_col1, #T_fe851_row2_col1, #T_fe851_row3_col1, #T_fe851_row4_col1, #T_fe851_row5_col1, #T_fe851_row6_col1, #T_fe851_row7_col1, #T_fe851_row8_col1 {\n",
       "  background-color: #fff5f0;\n",
       "  color: #000000;\n",
       "  font-family: Segoe UI;\n",
       "}\n",
       "</style>\n",
       "<table id=\"T_fe851\">\n",
       "  <thead>\n",
       "    <tr>\n",
       "      <th class=\"blank level0\" >&nbsp;</th>\n",
       "      <th id=\"T_fe851_level0_col0\" class=\"col_heading level0 col0\" >Data Type</th>\n",
       "      <th id=\"T_fe851_level0_col1\" class=\"col_heading level0 col1\" >Missing Values%</th>\n",
       "      <th id=\"T_fe851_level0_col2\" class=\"col_heading level0 col2\" >Unique Values%</th>\n",
       "      <th id=\"T_fe851_level0_col3\" class=\"col_heading level0 col3\" >Minimum Value</th>\n",
       "      <th id=\"T_fe851_level0_col4\" class=\"col_heading level0 col4\" >Maximum Value</th>\n",
       "      <th id=\"T_fe851_level0_col5\" class=\"col_heading level0 col5\" >DQ Issue</th>\n",
       "    </tr>\n",
       "  </thead>\n",
       "  <tbody>\n",
       "    <tr>\n",
       "      <th id=\"T_fe851_level0_row0\" class=\"row_heading level0 row0\" >gender</th>\n",
       "      <td id=\"T_fe851_row0_col0\" class=\"data row0 col0\" >object</td>\n",
       "      <td id=\"T_fe851_row0_col1\" class=\"data row0 col1\" >0.000000</td>\n",
       "      <td id=\"T_fe851_row0_col2\" class=\"data row0 col2\" >0</td>\n",
       "      <td id=\"T_fe851_row0_col3\" class=\"data row0 col3\" ></td>\n",
       "      <td id=\"T_fe851_row0_col4\" class=\"data row0 col4\" ></td>\n",
       "      <td id=\"T_fe851_row0_col5\" class=\"data row0 col5\" >1 rare categories: ['Other']. Group them into a single category or drop the categories.</td>\n",
       "    </tr>\n",
       "    <tr>\n",
       "      <th id=\"T_fe851_level0_row1\" class=\"row_heading level0 row1\" >age</th>\n",
       "      <td id=\"T_fe851_row1_col0\" class=\"data row1 col0\" >float64</td>\n",
       "      <td id=\"T_fe851_row1_col1\" class=\"data row1 col1\" >0.000000</td>\n",
       "      <td id=\"T_fe851_row1_col2\" class=\"data row1 col2\" >NA</td>\n",
       "      <td id=\"T_fe851_row1_col3\" class=\"data row1 col3\" >0.080000</td>\n",
       "      <td id=\"T_fe851_row1_col4\" class=\"data row1 col4\" >80.000000</td>\n",
       "      <td id=\"T_fe851_row1_col5\" class=\"data row1 col5\" >No issue</td>\n",
       "    </tr>\n",
       "    <tr>\n",
       "      <th id=\"T_fe851_level0_row2\" class=\"row_heading level0 row2\" >hypertension</th>\n",
       "      <td id=\"T_fe851_row2_col0\" class=\"data row2 col0\" >int64</td>\n",
       "      <td id=\"T_fe851_row2_col1\" class=\"data row2 col1\" >0.000000</td>\n",
       "      <td id=\"T_fe851_row2_col2\" class=\"data row2 col2\" >0</td>\n",
       "      <td id=\"T_fe851_row2_col3\" class=\"data row2 col3\" >0.000000</td>\n",
       "      <td id=\"T_fe851_row2_col4\" class=\"data row2 col4\" >1.000000</td>\n",
       "      <td id=\"T_fe851_row2_col5\" class=\"data row2 col5\" >No issue</td>\n",
       "    </tr>\n",
       "    <tr>\n",
       "      <th id=\"T_fe851_level0_row3\" class=\"row_heading level0 row3\" >heart_disease</th>\n",
       "      <td id=\"T_fe851_row3_col0\" class=\"data row3 col0\" >int64</td>\n",
       "      <td id=\"T_fe851_row3_col1\" class=\"data row3 col1\" >0.000000</td>\n",
       "      <td id=\"T_fe851_row3_col2\" class=\"data row3 col2\" >0</td>\n",
       "      <td id=\"T_fe851_row3_col3\" class=\"data row3 col3\" >0.000000</td>\n",
       "      <td id=\"T_fe851_row3_col4\" class=\"data row3 col4\" >1.000000</td>\n",
       "      <td id=\"T_fe851_row3_col5\" class=\"data row3 col5\" >No issue</td>\n",
       "    </tr>\n",
       "    <tr>\n",
       "      <th id=\"T_fe851_level0_row4\" class=\"row_heading level0 row4\" >smoking_history</th>\n",
       "      <td id=\"T_fe851_row4_col0\" class=\"data row4 col0\" >object</td>\n",
       "      <td id=\"T_fe851_row4_col1\" class=\"data row4 col1\" >0.000000</td>\n",
       "      <td id=\"T_fe851_row4_col2\" class=\"data row4 col2\" >0</td>\n",
       "      <td id=\"T_fe851_row4_col3\" class=\"data row4 col3\" ></td>\n",
       "      <td id=\"T_fe851_row4_col4\" class=\"data row4 col4\" ></td>\n",
       "      <td id=\"T_fe851_row4_col5\" class=\"data row4 col5\" >No issue</td>\n",
       "    </tr>\n",
       "    <tr>\n",
       "      <th id=\"T_fe851_level0_row5\" class=\"row_heading level0 row5\" >bmi</th>\n",
       "      <td id=\"T_fe851_row5_col0\" class=\"data row5 col0\" >float64</td>\n",
       "      <td id=\"T_fe851_row5_col1\" class=\"data row5 col1\" >0.000000</td>\n",
       "      <td id=\"T_fe851_row5_col2\" class=\"data row5 col2\" >NA</td>\n",
       "      <td id=\"T_fe851_row5_col3\" class=\"data row5 col3\" >10.010000</td>\n",
       "      <td id=\"T_fe851_row5_col4\" class=\"data row5 col4\" >95.690000</td>\n",
       "      <td id=\"T_fe851_row5_col5\" class=\"data row5 col5\" >Column has 5354 outliers greater than upper bound (39.55) or lower than lower bound(13.71). Cap them or remove them.</td>\n",
       "    </tr>\n",
       "    <tr>\n",
       "      <th id=\"T_fe851_level0_row6\" class=\"row_heading level0 row6\" >HbA1c_level</th>\n",
       "      <td id=\"T_fe851_row6_col0\" class=\"data row6 col0\" >float64</td>\n",
       "      <td id=\"T_fe851_row6_col1\" class=\"data row6 col1\" >0.000000</td>\n",
       "      <td id=\"T_fe851_row6_col2\" class=\"data row6 col2\" >NA</td>\n",
       "      <td id=\"T_fe851_row6_col3\" class=\"data row6 col3\" >3.500000</td>\n",
       "      <td id=\"T_fe851_row6_col4\" class=\"data row6 col4\" >9.000000</td>\n",
       "      <td id=\"T_fe851_row6_col5\" class=\"data row6 col5\" >Column has 1312 outliers greater than upper bound (8.30) or lower than lower bound(2.70). Cap them or remove them.</td>\n",
       "    </tr>\n",
       "    <tr>\n",
       "      <th id=\"T_fe851_level0_row7\" class=\"row_heading level0 row7\" >blood_glucose_level</th>\n",
       "      <td id=\"T_fe851_row7_col0\" class=\"data row7 col0\" >int64</td>\n",
       "      <td id=\"T_fe851_row7_col1\" class=\"data row7 col1\" >0.000000</td>\n",
       "      <td id=\"T_fe851_row7_col2\" class=\"data row7 col2\" >0</td>\n",
       "      <td id=\"T_fe851_row7_col3\" class=\"data row7 col3\" >80.000000</td>\n",
       "      <td id=\"T_fe851_row7_col4\" class=\"data row7 col4\" >300.000000</td>\n",
       "      <td id=\"T_fe851_row7_col5\" class=\"data row7 col5\" >Column has 2031 outliers greater than upper bound (247.50) or lower than lower bound(11.50). Cap them or remove them.</td>\n",
       "    </tr>\n",
       "    <tr>\n",
       "      <th id=\"T_fe851_level0_row8\" class=\"row_heading level0 row8\" >diabetes</th>\n",
       "      <td id=\"T_fe851_row8_col0\" class=\"data row8 col0\" >int64</td>\n",
       "      <td id=\"T_fe851_row8_col1\" class=\"data row8 col1\" >0.000000</td>\n",
       "      <td id=\"T_fe851_row8_col2\" class=\"data row8 col2\" >0</td>\n",
       "      <td id=\"T_fe851_row8_col3\" class=\"data row8 col3\" >0.000000</td>\n",
       "      <td id=\"T_fe851_row8_col4\" class=\"data row8 col4\" >1.000000</td>\n",
       "      <td id=\"T_fe851_row8_col5\" class=\"data row8 col5\" >No issue</td>\n",
       "    </tr>\n",
       "  </tbody>\n",
       "</table>\n"
      ],
      "text/plain": [
       "<pandas.io.formats.style.Styler at 0x7b6fd4f1fa30>"
      ]
     },
     "metadata": {},
     "output_type": "display_data"
    }
   ],
   "source": [
    "suggestions = data_cleaning_suggestions(df)"
   ]
  },
  {
   "cell_type": "markdown",
   "id": "e0144f6d",
   "metadata": {
    "papermill": {
     "duration": 0.04695,
     "end_time": "2025-01-01T09:59:48.276863",
     "exception": false,
     "start_time": "2025-01-01T09:59:48.229913",
     "status": "completed"
    },
    "tags": []
   },
   "source": [
    "Comment: It is amazing to see that this library just covered almost all the problems I detected.\n",
    "\n",
    "The thing that cought my eyes is the outliers section. Me and the birary both agree on that `bmi`, `HbA1c_level`, and `blood_glucose_level` however, the number of outliers was for `bmi` was different. I think the library is more accurate since I did not consider the skew-ness of the feature. It is also good to mention that the library have gave us the boundries to filter based on. So no need to calculate the IQR or even the z-score.\n",
    "\n",
    "Hense, an action is needed to remove the outliers for the best model performance."
   ]
  },
  {
   "cell_type": "markdown",
   "id": "71025427",
   "metadata": {
    "papermill": {
     "duration": 0.047556,
     "end_time": "2025-01-01T09:59:48.372570",
     "exception": false,
     "start_time": "2025-01-01T09:59:48.325014",
     "status": "completed"
    },
    "tags": []
   },
   "source": [
    "# **Preprocessing**\n",
    "\n",
    "<br>\n",
    "\n",
    "In the preprocessing stage, we are going to take action on the insights found in the EDA stage.\n",
    "\n",
    "## **1. Remove patients under 6 months**"
   ]
  },
  {
   "cell_type": "code",
   "execution_count": 27,
   "id": "825b7dc5",
   "metadata": {
    "execution": {
     "iopub.execute_input": "2025-01-01T09:59:48.468193Z",
     "iopub.status.busy": "2025-01-01T09:59:48.467763Z",
     "iopub.status.idle": "2025-01-01T09:59:48.480622Z",
     "shell.execute_reply": "2025-01-01T09:59:48.479526Z"
    },
    "papermill": {
     "duration": 0.062918,
     "end_time": "2025-01-01T09:59:48.482581",
     "exception": false,
     "start_time": "2025-01-01T09:59:48.419663",
     "status": "completed"
    },
    "tags": []
   },
   "outputs": [
    {
     "name": "stdout",
     "output_type": "stream",
     "text": [
      "The old shape is: (100000, 9)\n",
      "The new shape is: (99580, 9)\n"
     ]
    }
   ],
   "source": [
    "print('The old shape is:', df.shape)\n",
    "\n",
    "#dropping the records that has `age` less than 6 months. AKA 0.5.\n",
    "df = df.query('age > 0.5')\n",
    "\n",
    "print('The new shape is:', df.shape)"
   ]
  },
  {
   "cell_type": "markdown",
   "id": "1b378d27",
   "metadata": {
    "papermill": {
     "duration": 0.046827,
     "end_time": "2025-01-01T09:59:48.577109",
     "exception": false,
     "start_time": "2025-01-01T09:59:48.530282",
     "status": "completed"
    },
    "tags": []
   },
   "source": [
    "## **2. Remove most irrelevnt value under the `gender` feature**"
   ]
  },
  {
   "cell_type": "code",
   "execution_count": 28,
   "id": "e68c124a",
   "metadata": {
    "execution": {
     "iopub.execute_input": "2025-01-01T09:59:48.672754Z",
     "iopub.status.busy": "2025-01-01T09:59:48.672369Z",
     "iopub.status.idle": "2025-01-01T09:59:48.687153Z",
     "shell.execute_reply": "2025-01-01T09:59:48.685962Z"
    },
    "papermill": {
     "duration": 0.064813,
     "end_time": "2025-01-01T09:59:48.688797",
     "exception": false,
     "start_time": "2025-01-01T09:59:48.623984",
     "status": "completed"
    },
    "tags": []
   },
   "outputs": [
    {
     "name": "stdout",
     "output_type": "stream",
     "text": [
      "The old shape is: (99580, 9)\n",
      "The new shape is: (99562, 9)\n"
     ]
    }
   ],
   "source": [
    "print('The old shape is:', df.shape)\n",
    "\n",
    "#dropping the records in gender that has the string \"Other\"\n",
    "df = df.query('gender != \"Other\"')\n",
    "\n",
    "print('The new shape is:', df.shape)"
   ]
  },
  {
   "cell_type": "markdown",
   "id": "10997947",
   "metadata": {
    "papermill": {
     "duration": 0.047178,
     "end_time": "2025-01-01T09:59:48.783474",
     "exception": false,
     "start_time": "2025-01-01T09:59:48.736296",
     "status": "completed"
    },
    "tags": []
   },
   "source": [
    "## **3. Changing the content of `smoking_history` feature:**"
   ]
  },
  {
   "cell_type": "code",
   "execution_count": 29,
   "id": "ebc35091",
   "metadata": {
    "execution": {
     "iopub.execute_input": "2025-01-01T09:59:48.879311Z",
     "iopub.status.busy": "2025-01-01T09:59:48.878945Z",
     "iopub.status.idle": "2025-01-01T09:59:48.889003Z",
     "shell.execute_reply": "2025-01-01T09:59:48.887777Z"
    },
    "papermill": {
     "duration": 0.05983,
     "end_time": "2025-01-01T09:59:48.890782",
     "exception": false,
     "start_time": "2025-01-01T09:59:48.830952",
     "status": "completed"
    },
    "tags": []
   },
   "outputs": [
    {
     "name": "stdout",
     "output_type": "stream",
     "text": [
      "['never' 'No Info' 'current' 'former' 'ever' 'not current']\n"
     ]
    }
   ],
   "source": [
    "#printing the unique values under the `smoking_history` feature\n",
    "print(df['smoking_history'].unique())\n",
    "\n",
    "#we can merge some of these values..."
   ]
  },
  {
   "cell_type": "code",
   "execution_count": 30,
   "id": "7865ea21",
   "metadata": {
    "execution": {
     "iopub.execute_input": "2025-01-01T09:59:48.987604Z",
     "iopub.status.busy": "2025-01-01T09:59:48.987244Z",
     "iopub.status.idle": "2025-01-01T09:59:48.992126Z",
     "shell.execute_reply": "2025-01-01T09:59:48.991251Z"
    },
    "papermill": {
     "duration": 0.054958,
     "end_time": "2025-01-01T09:59:48.993474",
     "exception": false,
     "start_time": "2025-01-01T09:59:48.938516",
     "status": "completed"
    },
    "tags": []
   },
   "outputs": [],
   "source": [
    "#there are many ways to do such task. However, we need to choose the best method\n",
    "#to make it computationally friendly for our machine\n",
    "\n",
    "#creating a function that filter the values\n",
    "def categorize_smoking(smoking_status):\n",
    "  \"\"\"\n",
    "  smoking_status: The value stored inside smoking_history.\n",
    "  \"\"\"\n",
    "\n",
    "  #conditions\n",
    "  if smoking_status in ['No Info', 'never']:\n",
    "    return 'non-smoker'\n",
    "  if smoking_status in ['current']:\n",
    "    return 'current-smoker'\n",
    "  if smoking_status in ['ever', 'not current', 'former']:\n",
    "    return 'past-smoker'"
   ]
  },
  {
   "cell_type": "code",
   "execution_count": 31,
   "id": "060e220c",
   "metadata": {
    "execution": {
     "iopub.execute_input": "2025-01-01T09:59:49.089528Z",
     "iopub.status.busy": "2025-01-01T09:59:49.089155Z",
     "iopub.status.idle": "2025-01-01T09:59:49.120800Z",
     "shell.execute_reply": "2025-01-01T09:59:49.119490Z"
    },
    "papermill": {
     "duration": 0.081345,
     "end_time": "2025-01-01T09:59:49.122637",
     "exception": false,
     "start_time": "2025-01-01T09:59:49.041292",
     "status": "completed"
    },
    "tags": []
   },
   "outputs": [
    {
     "name": "stdout",
     "output_type": "stream",
     "text": [
      "['non-smoker' 'current-smoker' 'past-smoker']\n"
     ]
    }
   ],
   "source": [
    "#apply the function to the `smoking_history` feature\n",
    "\n",
    "#.apply() is a method that taks inside it a function. it is faster than using simple\n",
    "#conditional statments. we can think of it like an aggregation function like min, max, etc.\n",
    "df['smoking_history'] = df['smoking_history'].apply(categorize_smoking)\n",
    "\n",
    "#printing the unique values under the `smoking_history` feature after the changes\n",
    "print(df['smoking_history'].unique())"
   ]
  },
  {
   "cell_type": "markdown",
   "id": "d2b6e064",
   "metadata": {
    "papermill": {
     "duration": 0.047084,
     "end_time": "2025-01-01T09:59:49.220104",
     "exception": false,
     "start_time": "2025-01-01T09:59:49.173020",
     "status": "completed"
    },
    "tags": []
   },
   "source": [
    "## **4. Dealing with outliers**"
   ]
  },
  {
   "cell_type": "code",
   "execution_count": 32,
   "id": "11e83ac7",
   "metadata": {
    "execution": {
     "iopub.execute_input": "2025-01-01T09:59:49.316888Z",
     "iopub.status.busy": "2025-01-01T09:59:49.316412Z",
     "iopub.status.idle": "2025-01-01T09:59:49.352776Z",
     "shell.execute_reply": "2025-01-01T09:59:49.351495Z"
    },
    "papermill": {
     "duration": 0.086195,
     "end_time": "2025-01-01T09:59:49.354607",
     "exception": false,
     "start_time": "2025-01-01T09:59:49.268412",
     "status": "completed"
    },
    "tags": []
   },
   "outputs": [
    {
     "name": "stdout",
     "output_type": "stream",
     "text": [
      "The dataframe shape before filter: (99562, 9)\n",
      "The dataframe shape after filter: (94292, 9)\n",
      "The dataframe shape before filter: (94292, 9)\n",
      "The dataframe shape after filter: (93144, 9)\n",
      "The dataframe shape before filter: (93144, 9)\n",
      "The dataframe shape after filter: (91685, 9)\n"
     ]
    }
   ],
   "source": [
    "#from the \"Data cleaning suggestions ...\" in the EDA section, the library\n",
    "#have suggested some boundries, it is as following:\n",
    "#bmi: maximum - 39.55, minimum - 13.71\n",
    "#HbA1c_level: maximum - 8.3, minimum - 2.7\n",
    "#blood_glucose_level: maximum - 247.5, minimum - 11.5\n",
    "\n",
    "#create a function to minimize code repetition:\n",
    "def remove_outliers(df, feature, maximum, minimum):\n",
    "    print(\"The dataframe shape before filter:\", df.shape)\n",
    "\n",
    "    f_df = df.query(f'{feature} >= {minimum} and {feature} <= {maximum}')\n",
    "    \n",
    "    print(\"The dataframe shape after filter:\", f_df.shape)\n",
    "\n",
    "    return f_df\n",
    "\n",
    "#call the function 3 times (since we have 3 features)\n",
    "filtered_df = remove_outliers(df, 'bmi', 39.55, 13.71)\n",
    "filtered_df = remove_outliers(filtered_df, 'HbA1c_level', 8.3, 2.7)\n",
    "filtered_df = remove_outliers(filtered_df, 'blood_glucose_level', 247.5, 11.5)"
   ]
  },
  {
   "cell_type": "code",
   "execution_count": 33,
   "id": "270dca71",
   "metadata": {
    "execution": {
     "iopub.execute_input": "2025-01-01T09:59:49.451797Z",
     "iopub.status.busy": "2025-01-01T09:59:49.451404Z",
     "iopub.status.idle": "2025-01-01T09:59:49.467099Z",
     "shell.execute_reply": "2025-01-01T09:59:49.465994Z"
    },
    "papermill": {
     "duration": 0.065889,
     "end_time": "2025-01-01T09:59:49.468741",
     "exception": false,
     "start_time": "2025-01-01T09:59:49.402852",
     "status": "completed"
    },
    "tags": []
   },
   "outputs": [
    {
     "name": "stdout",
     "output_type": "stream",
     "text": [
      "The dataframe shape after filtering: (91685, 9)\n"
     ]
    },
    {
     "data": {
      "text/html": [
       "<div>\n",
       "<style scoped>\n",
       "    .dataframe tbody tr th:only-of-type {\n",
       "        vertical-align: middle;\n",
       "    }\n",
       "\n",
       "    .dataframe tbody tr th {\n",
       "        vertical-align: top;\n",
       "    }\n",
       "\n",
       "    .dataframe thead th {\n",
       "        text-align: right;\n",
       "    }\n",
       "</style>\n",
       "<table border=\"1\" class=\"dataframe\">\n",
       "  <thead>\n",
       "    <tr style=\"text-align: center;\">\n",
       "      <th></th>\n",
       "      <th>gender</th>\n",
       "      <th>age</th>\n",
       "      <th>hypertension</th>\n",
       "      <th>heart_disease</th>\n",
       "      <th>smoking_history</th>\n",
       "      <th>bmi</th>\n",
       "      <th>HbA1c_level</th>\n",
       "      <th>blood_glucose_level</th>\n",
       "      <th>diabetes</th>\n",
       "    </tr>\n",
       "  </thead>\n",
       "  <tbody>\n",
       "    <tr>\n",
       "      <th>0</th>\n",
       "      <td>Female</td>\n",
       "      <td>80.0</td>\n",
       "      <td>0</td>\n",
       "      <td>1</td>\n",
       "      <td>non-smoker</td>\n",
       "      <td>25.19</td>\n",
       "      <td>6.6</td>\n",
       "      <td>140</td>\n",
       "      <td>0</td>\n",
       "    </tr>\n",
       "    <tr>\n",
       "      <th>1</th>\n",
       "      <td>Female</td>\n",
       "      <td>54.0</td>\n",
       "      <td>0</td>\n",
       "      <td>0</td>\n",
       "      <td>non-smoker</td>\n",
       "      <td>27.32</td>\n",
       "      <td>6.6</td>\n",
       "      <td>80</td>\n",
       "      <td>0</td>\n",
       "    </tr>\n",
       "    <tr>\n",
       "      <th>2</th>\n",
       "      <td>Male</td>\n",
       "      <td>28.0</td>\n",
       "      <td>0</td>\n",
       "      <td>0</td>\n",
       "      <td>non-smoker</td>\n",
       "      <td>27.32</td>\n",
       "      <td>5.7</td>\n",
       "      <td>158</td>\n",
       "      <td>0</td>\n",
       "    </tr>\n",
       "    <tr>\n",
       "      <th>3</th>\n",
       "      <td>Female</td>\n",
       "      <td>36.0</td>\n",
       "      <td>0</td>\n",
       "      <td>0</td>\n",
       "      <td>current-smoker</td>\n",
       "      <td>23.45</td>\n",
       "      <td>5.0</td>\n",
       "      <td>155</td>\n",
       "      <td>0</td>\n",
       "    </tr>\n",
       "    <tr>\n",
       "      <th>4</th>\n",
       "      <td>Male</td>\n",
       "      <td>76.0</td>\n",
       "      <td>1</td>\n",
       "      <td>1</td>\n",
       "      <td>current-smoker</td>\n",
       "      <td>20.14</td>\n",
       "      <td>4.8</td>\n",
       "      <td>155</td>\n",
       "      <td>0</td>\n",
       "    </tr>\n",
       "    <tr>\n",
       "      <th>5</th>\n",
       "      <td>Female</td>\n",
       "      <td>20.0</td>\n",
       "      <td>0</td>\n",
       "      <td>0</td>\n",
       "      <td>non-smoker</td>\n",
       "      <td>27.32</td>\n",
       "      <td>6.6</td>\n",
       "      <td>85</td>\n",
       "      <td>0</td>\n",
       "    </tr>\n",
       "    <tr>\n",
       "      <th>6</th>\n",
       "      <td>Female</td>\n",
       "      <td>44.0</td>\n",
       "      <td>0</td>\n",
       "      <td>0</td>\n",
       "      <td>non-smoker</td>\n",
       "      <td>19.31</td>\n",
       "      <td>6.5</td>\n",
       "      <td>200</td>\n",
       "      <td>1</td>\n",
       "    </tr>\n",
       "    <tr>\n",
       "      <th>7</th>\n",
       "      <td>Female</td>\n",
       "      <td>79.0</td>\n",
       "      <td>0</td>\n",
       "      <td>0</td>\n",
       "      <td>non-smoker</td>\n",
       "      <td>23.86</td>\n",
       "      <td>5.7</td>\n",
       "      <td>85</td>\n",
       "      <td>0</td>\n",
       "    </tr>\n",
       "    <tr>\n",
       "      <th>8</th>\n",
       "      <td>Male</td>\n",
       "      <td>42.0</td>\n",
       "      <td>0</td>\n",
       "      <td>0</td>\n",
       "      <td>non-smoker</td>\n",
       "      <td>33.64</td>\n",
       "      <td>4.8</td>\n",
       "      <td>145</td>\n",
       "      <td>0</td>\n",
       "    </tr>\n",
       "    <tr>\n",
       "      <th>9</th>\n",
       "      <td>Female</td>\n",
       "      <td>32.0</td>\n",
       "      <td>0</td>\n",
       "      <td>0</td>\n",
       "      <td>non-smoker</td>\n",
       "      <td>27.32</td>\n",
       "      <td>5.0</td>\n",
       "      <td>100</td>\n",
       "      <td>0</td>\n",
       "    </tr>\n",
       "  </tbody>\n",
       "</table>\n",
       "</div>"
      ],
      "text/plain": [
       "   gender   age  hypertension  heart_disease smoking_history   bmi   \\\n",
       "0  Female  80.0        0             1            non-smoker  25.19   \n",
       "1  Female  54.0        0             0            non-smoker  27.32   \n",
       "2    Male  28.0        0             0            non-smoker  27.32   \n",
       "3  Female  36.0        0             0        current-smoker  23.45   \n",
       "4    Male  76.0        1             1        current-smoker  20.14   \n",
       "5  Female  20.0        0             0            non-smoker  27.32   \n",
       "6  Female  44.0        0             0            non-smoker  19.31   \n",
       "7  Female  79.0        0             0            non-smoker  23.86   \n",
       "8    Male  42.0        0             0            non-smoker  33.64   \n",
       "9  Female  32.0        0             0            non-smoker  27.32   \n",
       "\n",
       "   HbA1c_level  blood_glucose_level  diabetes  \n",
       "0      6.6              140              0     \n",
       "1      6.6               80              0     \n",
       "2      5.7              158              0     \n",
       "3      5.0              155              0     \n",
       "4      4.8              155              0     \n",
       "5      6.6               85              0     \n",
       "6      6.5              200              1     \n",
       "7      5.7               85              0     \n",
       "8      4.8              145              0     \n",
       "9      5.0              100              0     "
      ]
     },
     "execution_count": 33,
     "metadata": {},
     "output_type": "execute_result"
    }
   ],
   "source": [
    "print(\"The dataframe shape after filtering:\", filtered_df.shape)\n",
    "\n",
    "filtered_df.head(10)"
   ]
  },
  {
   "cell_type": "markdown",
   "id": "a304a732",
   "metadata": {
    "papermill": {
     "duration": 0.047702,
     "end_time": "2025-01-01T09:59:49.565210",
     "exception": false,
     "start_time": "2025-01-01T09:59:49.517508",
     "status": "completed"
    },
    "tags": []
   },
   "source": [
    "## **5. Splitting the data into x and y**\n",
    "\n",
    "Splitting the data is necessary to proceed with the next steps."
   ]
  },
  {
   "cell_type": "code",
   "execution_count": 34,
   "id": "6e45e3e7",
   "metadata": {
    "execution": {
     "iopub.execute_input": "2025-01-01T09:59:49.662333Z",
     "iopub.status.busy": "2025-01-01T09:59:49.661929Z",
     "iopub.status.idle": "2025-01-01T09:59:49.670445Z",
     "shell.execute_reply": "2025-01-01T09:59:49.669239Z"
    },
    "papermill": {
     "duration": 0.05953,
     "end_time": "2025-01-01T09:59:49.672424",
     "exception": false,
     "start_time": "2025-01-01T09:59:49.612894",
     "status": "completed"
    },
    "tags": []
   },
   "outputs": [],
   "source": [
    "#x refers to the independent features\n",
    "#y refers to the dependent feature (the target)\n",
    "x = filtered_df.drop(columns=['diabetes'])\n",
    "y = filtered_df['diabetes']"
   ]
  },
  {
   "cell_type": "code",
   "execution_count": 35,
   "id": "109a9f6c",
   "metadata": {
    "execution": {
     "iopub.execute_input": "2025-01-01T09:59:49.769771Z",
     "iopub.status.busy": "2025-01-01T09:59:49.769432Z",
     "iopub.status.idle": "2025-01-01T09:59:49.776826Z",
     "shell.execute_reply": "2025-01-01T09:59:49.775898Z"
    },
    "papermill": {
     "duration": 0.05782,
     "end_time": "2025-01-01T09:59:49.778402",
     "exception": false,
     "start_time": "2025-01-01T09:59:49.720582",
     "status": "completed"
    },
    "tags": []
   },
   "outputs": [
    {
     "data": {
      "text/plain": [
       "diabetes\n",
       "0    87059\n",
       "1     4626\n",
       "Name: count, dtype: int64"
      ]
     },
     "execution_count": 35,
     "metadata": {},
     "output_type": "execute_result"
    }
   ],
   "source": [
    "y.value_counts()"
   ]
  },
  {
   "cell_type": "markdown",
   "id": "8abad750",
   "metadata": {
    "papermill": {
     "duration": 0.047828,
     "end_time": "2025-01-01T09:59:49.875673",
     "exception": false,
     "start_time": "2025-01-01T09:59:49.827845",
     "status": "completed"
    },
    "tags": []
   },
   "source": [
    "We are left with only 4626 cases of diabetes. seems like most of the outliers were diabetic cases.\n",
    "\n",
    "## **6. Transformation and encoding**"
   ]
  },
  {
   "cell_type": "code",
   "execution_count": 36,
   "id": "cc0a0e92",
   "metadata": {
    "execution": {
     "iopub.execute_input": "2025-01-01T09:59:49.976791Z",
     "iopub.status.busy": "2025-01-01T09:59:49.976425Z",
     "iopub.status.idle": "2025-01-01T09:59:50.074220Z",
     "shell.execute_reply": "2025-01-01T09:59:50.072792Z"
    },
    "papermill": {
     "duration": 0.150853,
     "end_time": "2025-01-01T09:59:50.076325",
     "exception": false,
     "start_time": "2025-01-01T09:59:49.925472",
     "status": "completed"
    },
    "tags": []
   },
   "outputs": [],
   "source": [
    "preprocessor = ColumnTransformer(\n",
    "    transformers=[\n",
    "        #scale continuous features\n",
    "        ('scale', StandardScaler(), ['age', 'blood_glucose_level', 'bmi', 'HbA1c_level']),\n",
    "        #one-hot encoding for categorical features\n",
    "        ('onehot', OneHotEncoder(), ['gender', 'smoking_history']),\n",
    "    ],\n",
    "\n",
    "    #leave the unmentioned columns unmodified\n",
    "    remainder='passthrough'\n",
    ")\n",
    "\n",
    "x = preprocessor.fit_transform(x)"
   ]
  },
  {
   "cell_type": "markdown",
   "id": "bbd4fb74",
   "metadata": {
    "papermill": {
     "duration": 0.049439,
     "end_time": "2025-01-01T09:59:50.174511",
     "exception": false,
     "start_time": "2025-01-01T09:59:50.125072",
     "status": "completed"
    },
    "tags": []
   },
   "source": [
    "## **7. Balancing the target feature**\n",
    "\n",
    "It is crucial to mention that I have to split the data here into training and testing sets. This is important to ensure that the testing set is based on real world data to give real results."
   ]
  },
  {
   "cell_type": "code",
   "execution_count": 37,
   "id": "11c477d5",
   "metadata": {
    "execution": {
     "iopub.execute_input": "2025-01-01T09:59:50.272187Z",
     "iopub.status.busy": "2025-01-01T09:59:50.271740Z",
     "iopub.status.idle": "2025-01-01T09:59:50.315980Z",
     "shell.execute_reply": "2025-01-01T09:59:50.315152Z"
    },
    "papermill": {
     "duration": 0.094885,
     "end_time": "2025-01-01T09:59:50.317845",
     "exception": false,
     "start_time": "2025-01-01T09:59:50.222960",
     "status": "completed"
    },
    "tags": []
   },
   "outputs": [],
   "source": [
    "x_train, x_test, y_train, y_test = train_test_split(x, y, \n",
    "                                                    test_size=0.2,\n",
    "                                                    stratify=y,   \n",
    "                                                    random_state=7)\n",
    "\n",
    "#stratify: ensure that test and train have the same split rashio"
   ]
  },
  {
   "cell_type": "code",
   "execution_count": 38,
   "id": "3cb5f0d2",
   "metadata": {
    "execution": {
     "iopub.execute_input": "2025-01-01T09:59:50.415734Z",
     "iopub.status.busy": "2025-01-01T09:59:50.415395Z",
     "iopub.status.idle": "2025-01-01T09:59:50.419804Z",
     "shell.execute_reply": "2025-01-01T09:59:50.418813Z"
    },
    "papermill": {
     "duration": 0.055925,
     "end_time": "2025-01-01T09:59:50.421565",
     "exception": false,
     "start_time": "2025-01-01T09:59:50.365640",
     "status": "completed"
    },
    "tags": []
   },
   "outputs": [],
   "source": [
    "#Resampling techiniques\n",
    "\n",
    "#0.1: 10% x majority class - is the new number of minority class\n",
    "over_sampler = SMOTE(sampling_strategy=0.1)\n",
    "\n",
    "#1: ensures that the majority class matches the minority class\n",
    "under_sampler = RandomUnderSampler(sampling_strategy=1)"
   ]
  },
  {
   "cell_type": "code",
   "execution_count": 39,
   "id": "ae8ac618",
   "metadata": {
    "execution": {
     "iopub.execute_input": "2025-01-01T09:59:50.519759Z",
     "iopub.status.busy": "2025-01-01T09:59:50.519410Z",
     "iopub.status.idle": "2025-01-01T09:59:50.523504Z",
     "shell.execute_reply": "2025-01-01T09:59:50.522642Z"
    },
    "papermill": {
     "duration": 0.055168,
     "end_time": "2025-01-01T09:59:50.525008",
     "exception": false,
     "start_time": "2025-01-01T09:59:50.469840",
     "status": "completed"
    },
    "tags": []
   },
   "outputs": [],
   "source": [
    "#create a pipeline that resamples the data\n",
    "resampler_pipeline = Pipeline(\n",
    "    steps=[\n",
    "        ('over', over_sampler),\n",
    "        ('under', under_sampler),\n",
    "    ]\n",
    ")"
   ]
  },
  {
   "cell_type": "code",
   "execution_count": 40,
   "id": "5ec313cb",
   "metadata": {
    "execution": {
     "iopub.execute_input": "2025-01-01T09:59:50.623783Z",
     "iopub.status.busy": "2025-01-01T09:59:50.623384Z",
     "iopub.status.idle": "2025-01-01T09:59:50.760383Z",
     "shell.execute_reply": "2025-01-01T09:59:50.759309Z"
    },
    "papermill": {
     "duration": 0.18896,
     "end_time": "2025-01-01T09:59:50.762444",
     "exception": false,
     "start_time": "2025-01-01T09:59:50.573484",
     "status": "completed"
    },
    "tags": []
   },
   "outputs": [],
   "source": [
    "x_resamp, y_resamp = resampler_pipeline.fit_resample(x_train, y_train)"
   ]
  },
  {
   "cell_type": "code",
   "execution_count": 41,
   "id": "2f07ee39",
   "metadata": {
    "execution": {
     "iopub.execute_input": "2025-01-01T09:59:50.861274Z",
     "iopub.status.busy": "2025-01-01T09:59:50.860793Z",
     "iopub.status.idle": "2025-01-01T09:59:50.867814Z",
     "shell.execute_reply": "2025-01-01T09:59:50.866622Z"
    },
    "papermill": {
     "duration": 0.058148,
     "end_time": "2025-01-01T09:59:50.869481",
     "exception": false,
     "start_time": "2025-01-01T09:59:50.811333",
     "status": "completed"
    },
    "tags": []
   },
   "outputs": [
    {
     "name": "stdout",
     "output_type": "stream",
     "text": [
      "y_train old shape: (73348,) \n",
      "\n",
      "y_train class distribution:\n",
      " diabetes\n",
      "0    69647\n",
      "1     3701\n",
      "Name: count, dtype: int64\n"
     ]
    }
   ],
   "source": [
    "print(\"y_train old shape:\", y_train.shape, '\\n')\n",
    "\n",
    "print(\"y_train class distribution:\\n\", y_train.value_counts())"
   ]
  },
  {
   "cell_type": "code",
   "execution_count": 42,
   "id": "9854cd21",
   "metadata": {
    "execution": {
     "iopub.execute_input": "2025-01-01T09:59:50.970275Z",
     "iopub.status.busy": "2025-01-01T09:59:50.969854Z",
     "iopub.status.idle": "2025-01-01T09:59:50.977144Z",
     "shell.execute_reply": "2025-01-01T09:59:50.976098Z"
    },
    "papermill": {
     "duration": 0.060158,
     "end_time": "2025-01-01T09:59:50.978839",
     "exception": false,
     "start_time": "2025-01-01T09:59:50.918681",
     "status": "completed"
    },
    "tags": []
   },
   "outputs": [
    {
     "name": "stdout",
     "output_type": "stream",
     "text": [
      "y_train new shape: (13928,) \n",
      "\n",
      "y_train class distribution:\n",
      " diabetes\n",
      "0    6964\n",
      "1    6964\n",
      "Name: count, dtype: int64\n"
     ]
    }
   ],
   "source": [
    "print(\"y_train new shape:\", y_resamp.shape, '\\n')\n",
    "\n",
    "print(\"y_train class distribution:\\n\", y_resamp.value_counts())"
   ]
  },
  {
   "cell_type": "markdown",
   "id": "903a3872",
   "metadata": {
    "papermill": {
     "duration": 0.047831,
     "end_time": "2025-01-01T09:59:51.076674",
     "exception": false,
     "start_time": "2025-01-01T09:59:51.028843",
     "status": "completed"
    },
    "tags": []
   },
   "source": [
    "Additionally, we need to create validation set. It will be integrated from the testing set since we want it to be based on real world data."
   ]
  },
  {
   "cell_type": "code",
   "execution_count": 43,
   "id": "4281740d",
   "metadata": {
    "execution": {
     "iopub.execute_input": "2025-01-01T09:59:51.176738Z",
     "iopub.status.busy": "2025-01-01T09:59:51.176380Z",
     "iopub.status.idle": "2025-01-01T09:59:51.188601Z",
     "shell.execute_reply": "2025-01-01T09:59:51.187649Z"
    },
    "papermill": {
     "duration": 0.0655,
     "end_time": "2025-01-01T09:59:51.190608",
     "exception": false,
     "start_time": "2025-01-01T09:59:51.125108",
     "status": "completed"
    },
    "tags": []
   },
   "outputs": [],
   "source": [
    "x_val, x_test, y_val, y_test = train_test_split(x_test, y_test,\n",
    "                                                test_size=0.8,\n",
    "                                                stratify=y_test,\n",
    "                                                random_state=42)"
   ]
  },
  {
   "cell_type": "markdown",
   "id": "97b3bb71",
   "metadata": {
    "papermill": {
     "duration": 0.048178,
     "end_time": "2025-01-01T09:59:51.288379",
     "exception": false,
     "start_time": "2025-01-01T09:59:51.240201",
     "status": "completed"
    },
    "tags": []
   },
   "source": [
    "# **Modeling ⚙️**\n",
    "\n",
    "<br>\n",
    "\n",
    "In this stage we are going to use Artificial Neural Network.\n",
    "\n",
    "Why?\n",
    "- Has the ability to take Linear and Non-linear Relationships.\n",
    "- High Performance in Large Datasets.\n",
    "\n",
    "Since neural networks has alot of tunable parameters, I want to refer to previous works to start were someone stopped.\n",
    "\n",
    "The following [notebook](https://www.kaggle.com/code/micaeld/diabetes-predict-tutorial-tensorflow) creator have use neural network, getting 0.9722 on validation data and 0.9709 on testing data. making him a good starting point for my model building.\n",
    "\n",
    "What he used:\n",
    "- 2 hidden layers, each having 32 units.\n",
    "- ReLU activation function for hidden layers.\n",
    "- 2 dropout layers.\n",
    "- Adam Optimizer.\n",
    "- Batch_size of 16.\n",
    "\n",
    "What I did not like about his work:\n",
    "- He only evaluated the model with accuracy and loss.\n",
    "- He did not balance the dataset, making his evaluation not really accurate.\n",
    "\n",
    "Having note that, I am going to fix only the Optimizer, and the activation function RelU. Then I will use KerasTuner to hopefully, find the best parameters for me.\n",
    "\n",
    "## **1. Building the model structure**"
   ]
  },
  {
   "cell_type": "code",
   "execution_count": 44,
   "id": "aa08120f",
   "metadata": {
    "execution": {
     "iopub.execute_input": "2025-01-01T09:59:51.387056Z",
     "iopub.status.busy": "2025-01-01T09:59:51.386618Z",
     "iopub.status.idle": "2025-01-01T09:59:51.394393Z",
     "shell.execute_reply": "2025-01-01T09:59:51.393277Z"
    },
    "papermill": {
     "duration": 0.058945,
     "end_time": "2025-01-01T09:59:51.396273",
     "exception": false,
     "start_time": "2025-01-01T09:59:51.337328",
     "status": "completed"
    },
    "tags": []
   },
   "outputs": [],
   "source": [
    "def build_model(hp):\n",
    "    \"\"\"\n",
    "    This function will find the best HyperParameters for this Artificial Neural Network.\n",
    "    \"\"\"\n",
    "\n",
    "    #I used Sequential API\n",
    "    model = Sequential()\n",
    "\n",
    "    #input layer\n",
    "    model.add(Input(shape=(x_train.shape[1],)))\n",
    "\n",
    "    #number of hidden layers is either 1, 2, or 3\n",
    "    num_hidden_layers = hp.Int('num_hidden_layers', min_value=1, max_value=3, step=1)\n",
    "\n",
    "    #a storage for the num. of units in the layer created.\n",
    "    prev_units = None \n",
    "\n",
    "    #a for loop to place units inside each hidden layer\n",
    "    for i in range(num_hidden_layers):\n",
    "        \n",
    "        #the possible number of units is 16, 32, 48, and 64.\n",
    "        #additionally, we will be following a principle in ANN is that the first hidden\n",
    "        #layers must have equal or more units then the next hidden layer\n",
    "        max_units = max(prev_units - 16, 16) if prev_units else 64\n",
    "        min_units = 16\n",
    "\n",
    "        units = hp.Int(f'num_units_layer_{i+1}', min_value=min_units, max_value=max_units, step=16)\n",
    "\n",
    "        model.add(Dense(units, activation='relu'))\n",
    "\n",
    "        use_dropout = hp.Boolean(f'use_dropout_layer_{i+1}')\n",
    "        if use_dropout:\n",
    "            dropout_rate = hp.Float(f'dropout_rate_layer_{i+1}', min_value=0.1, max_value=0.4, sampling='linear')\n",
    "            model.add(Dropout(dropout_rate))\n",
    "\n",
    "        #update the number of units\n",
    "        prev_units = units\n",
    "\n",
    "    #sigmoid is an activation function for binary classification\n",
    "    model.add(Dense(1, activation='sigmoid'))\n",
    "\n",
    "    model.compile(\n",
    "        optimizer=Adam(learning_rate=hp.Float('learning_rate',\n",
    "                                              min_value=1e-5,\n",
    "                                              max_value=1e-2,\n",
    "                                              sampling='log')),\n",
    "        loss='binary_crossentropy',\n",
    "        metrics=['accuracy']\n",
    "    )\n",
    "\n",
    "    return model"
   ]
  },
  {
   "cell_type": "markdown",
   "id": "bd9ce5ea",
   "metadata": {
    "papermill": {
     "duration": 0.048051,
     "end_time": "2025-01-01T09:59:51.492677",
     "exception": false,
     "start_time": "2025-01-01T09:59:51.444626",
     "status": "completed"
    },
    "tags": []
   },
   "source": [
    "## **2. Create a class for the hyperparameters**"
   ]
  },
  {
   "cell_type": "code",
   "execution_count": 45,
   "id": "150ecd1e",
   "metadata": {
    "execution": {
     "iopub.execute_input": "2025-01-01T09:59:51.591324Z",
     "iopub.status.busy": "2025-01-01T09:59:51.590934Z",
     "iopub.status.idle": "2025-01-01T09:59:51.596058Z",
     "shell.execute_reply": "2025-01-01T09:59:51.595081Z"
    },
    "papermill": {
     "duration": 0.056811,
     "end_time": "2025-01-01T09:59:51.597608",
     "exception": false,
     "start_time": "2025-01-01T09:59:51.540797",
     "status": "completed"
    },
    "tags": []
   },
   "outputs": [],
   "source": [
    "#This class will be modifying the batch_size number. We cannot modify this hyperparameter\n",
    "#inside the function above. So the class is necessary\n",
    "\n",
    "class MyTuner(kt.RandomSearch):\n",
    "  def run_trial(self, trial, *args, **kwargs):\n",
    "    kwargs['batch_size'] = trial.hyperparameters.Int('batch_size',\n",
    "                                                     min_value=8,\n",
    "                                                     max_value=16,\n",
    "                                                     step=8)\n",
    "    return super(MyTuner, self).run_trial(trial, *args, **kwargs)"
   ]
  },
  {
   "cell_type": "markdown",
   "id": "45fa9a96",
   "metadata": {
    "papermill": {
     "duration": 0.047693,
     "end_time": "2025-01-01T09:59:51.693581",
     "exception": false,
     "start_time": "2025-01-01T09:59:51.645888",
     "status": "completed"
    },
    "tags": []
   },
   "source": [
    "## **3. Create an object of the class**"
   ]
  },
  {
   "cell_type": "code",
   "execution_count": 46,
   "id": "32da0c0a",
   "metadata": {
    "execution": {
     "iopub.execute_input": "2025-01-01T09:59:51.792683Z",
     "iopub.status.busy": "2025-01-01T09:59:51.792306Z",
     "iopub.status.idle": "2025-01-01T09:59:51.877803Z",
     "shell.execute_reply": "2025-01-01T09:59:51.876955Z"
    },
    "papermill": {
     "duration": 0.137397,
     "end_time": "2025-01-01T09:59:51.879689",
     "exception": false,
     "start_time": "2025-01-01T09:59:51.742292",
     "status": "completed"
    },
    "tags": []
   },
   "outputs": [],
   "source": [
    "tuner = MyTuner(\n",
    "    build_model,              #the model building function\n",
    "    objective='val_loss',     #look for lowest validation loss\n",
    "    max_trials=25,            #maximum number of training\n",
    "    executions_per_trial=1,   #since my model is not complex, 1 is enough\n",
    "    directory='tuner_results',#main folder name\n",
    "    project_name='diabetes',  #subfolder name\n",
    "    overwrite=True            #overwrite old trials from previous runs       \n",
    ")"
   ]
  },
  {
   "cell_type": "markdown",
   "id": "df93ca13",
   "metadata": {
    "papermill": {
     "duration": 0.048473,
     "end_time": "2025-01-01T09:59:51.977303",
     "exception": false,
     "start_time": "2025-01-01T09:59:51.928830",
     "status": "completed"
    },
    "tags": []
   },
   "source": [
    "## **4. Training the object**\n",
    "\n",
    "Before training, we want to define EarlyStopping callback."
   ]
  },
  {
   "cell_type": "code",
   "execution_count": 47,
   "id": "61147a95",
   "metadata": {
    "execution": {
     "iopub.execute_input": "2025-01-01T09:59:52.076357Z",
     "iopub.status.busy": "2025-01-01T09:59:52.076010Z",
     "iopub.status.idle": "2025-01-01T09:59:52.080292Z",
     "shell.execute_reply": "2025-01-01T09:59:52.079198Z"
    },
    "papermill": {
     "duration": 0.056166,
     "end_time": "2025-01-01T09:59:52.082032",
     "exception": false,
     "start_time": "2025-01-01T09:59:52.025866",
     "status": "completed"
    },
    "tags": []
   },
   "outputs": [],
   "source": [
    "#EarlyStopping callback\n",
    "es_1 = EarlyStopping(\n",
    "    patience=4,\n",
    "    monitor='val_loss',\n",
    "    mode='min',\n",
    "    restore_best_weights=True\n",
    ")"
   ]
  },
  {
   "cell_type": "code",
   "execution_count": 48,
   "id": "83edcac9",
   "metadata": {
    "execution": {
     "iopub.execute_input": "2025-01-01T09:59:52.181016Z",
     "iopub.status.busy": "2025-01-01T09:59:52.180566Z",
     "iopub.status.idle": "2025-01-01T10:17:42.634969Z",
     "shell.execute_reply": "2025-01-01T10:17:42.634102Z"
    },
    "papermill": {
     "duration": 1070.507706,
     "end_time": "2025-01-01T10:17:42.637783",
     "exception": false,
     "start_time": "2025-01-01T09:59:52.130077",
     "status": "completed"
    },
    "tags": []
   },
   "outputs": [],
   "source": [
    "tuner.search(x_resamp, y_resamp,\n",
    "             validation_data=(x_val, y_val),\n",
    "             epochs=100, callbacks=[es_1], verbose=0)"
   ]
  },
  {
   "cell_type": "markdown",
   "id": "84e0a75c",
   "metadata": {
    "papermill": {
     "duration": 0.048095,
     "end_time": "2025-01-01T10:17:42.735039",
     "exception": false,
     "start_time": "2025-01-01T10:17:42.686944",
     "status": "completed"
    },
    "tags": []
   },
   "source": [
    "## **5. Training object summary**"
   ]
  },
  {
   "cell_type": "code",
   "execution_count": 49,
   "id": "a5acaa82",
   "metadata": {
    "execution": {
     "iopub.execute_input": "2025-01-01T10:17:42.833562Z",
     "iopub.status.busy": "2025-01-01T10:17:42.833201Z",
     "iopub.status.idle": "2025-01-01T10:17:42.839914Z",
     "shell.execute_reply": "2025-01-01T10:17:42.839032Z"
    },
    "papermill": {
     "duration": 0.057408,
     "end_time": "2025-01-01T10:17:42.841390",
     "exception": false,
     "start_time": "2025-01-01T10:17:42.783982",
     "status": "completed"
    },
    "tags": []
   },
   "outputs": [],
   "source": [
    "#taking all trials and placing them in a dataframe\n",
    "\n",
    "all_trials = tuner.oracle.trials.values()\n",
    "\n",
    "results = []\n",
    "for trial in all_trials:\n",
    "    trial_data = trial.hyperparameters.values\n",
    "    trial_data['score'] = trial.score\n",
    "    results.append(trial_data)\n",
    "\n",
    "trials_df = pd.DataFrame(results)"
   ]
  },
  {
   "cell_type": "code",
   "execution_count": 50,
   "id": "7aba559a",
   "metadata": {
    "execution": {
     "iopub.execute_input": "2025-01-01T10:17:42.939125Z",
     "iopub.status.busy": "2025-01-01T10:17:42.938714Z",
     "iopub.status.idle": "2025-01-01T10:17:42.958607Z",
     "shell.execute_reply": "2025-01-01T10:17:42.957553Z"
    },
    "papermill": {
     "duration": 0.070694,
     "end_time": "2025-01-01T10:17:42.960241",
     "exception": false,
     "start_time": "2025-01-01T10:17:42.889547",
     "status": "completed"
    },
    "tags": []
   },
   "outputs": [
    {
     "data": {
      "text/html": [
       "<div>\n",
       "<style scoped>\n",
       "    .dataframe tbody tr th:only-of-type {\n",
       "        vertical-align: middle;\n",
       "    }\n",
       "\n",
       "    .dataframe tbody tr th {\n",
       "        vertical-align: top;\n",
       "    }\n",
       "\n",
       "    .dataframe thead th {\n",
       "        text-align: right;\n",
       "    }\n",
       "</style>\n",
       "<table border=\"1\" class=\"dataframe\">\n",
       "  <thead>\n",
       "    <tr style=\"text-align: center;\">\n",
       "      <th></th>\n",
       "      <th>num_hidden_layers</th>\n",
       "      <th>num_units_layer_1</th>\n",
       "      <th>use_dropout_layer_1</th>\n",
       "      <th>learning_rate</th>\n",
       "      <th>batch_size</th>\n",
       "      <th>num_units_layer_2</th>\n",
       "      <th>use_dropout_layer_2</th>\n",
       "      <th>num_units_layer_3</th>\n",
       "      <th>use_dropout_layer_3</th>\n",
       "      <th>score</th>\n",
       "      <th>dropout_rate_layer_1</th>\n",
       "      <th>dropout_rate_layer_2</th>\n",
       "      <th>dropout_rate_layer_3</th>\n",
       "    </tr>\n",
       "  </thead>\n",
       "  <tbody>\n",
       "    <tr>\n",
       "      <th>0</th>\n",
       "      <td>3</td>\n",
       "      <td>64</td>\n",
       "      <td>False</td>\n",
       "      <td>0.000929</td>\n",
       "      <td>8</td>\n",
       "      <td>16</td>\n",
       "      <td>False</td>\n",
       "      <td>16</td>\n",
       "      <td>False</td>\n",
       "      <td>0.230540</td>\n",
       "      <td>NaN</td>\n",
       "      <td>NaN</td>\n",
       "      <td>NaN</td>\n",
       "    </tr>\n",
       "    <tr>\n",
       "      <th>1</th>\n",
       "      <td>2</td>\n",
       "      <td>48</td>\n",
       "      <td>True</td>\n",
       "      <td>0.000306</td>\n",
       "      <td>16</td>\n",
       "      <td>32</td>\n",
       "      <td>True</td>\n",
       "      <td>16</td>\n",
       "      <td>True</td>\n",
       "      <td>0.279221</td>\n",
       "      <td>0.100000</td>\n",
       "      <td>0.100000</td>\n",
       "      <td>NaN</td>\n",
       "    </tr>\n",
       "    <tr>\n",
       "      <th>2</th>\n",
       "      <td>1</td>\n",
       "      <td>16</td>\n",
       "      <td>True</td>\n",
       "      <td>0.000848</td>\n",
       "      <td>8</td>\n",
       "      <td>32</td>\n",
       "      <td>True</td>\n",
       "      <td>16</td>\n",
       "      <td>True</td>\n",
       "      <td>0.293206</td>\n",
       "      <td>0.114098</td>\n",
       "      <td>0.364810</td>\n",
       "      <td>NaN</td>\n",
       "    </tr>\n",
       "    <tr>\n",
       "      <th>3</th>\n",
       "      <td>1</td>\n",
       "      <td>48</td>\n",
       "      <td>False</td>\n",
       "      <td>0.000017</td>\n",
       "      <td>8</td>\n",
       "      <td>16</td>\n",
       "      <td>False</td>\n",
       "      <td>16</td>\n",
       "      <td>True</td>\n",
       "      <td>0.330234</td>\n",
       "      <td>0.271348</td>\n",
       "      <td>0.321355</td>\n",
       "      <td>NaN</td>\n",
       "    </tr>\n",
       "    <tr>\n",
       "      <th>4</th>\n",
       "      <td>3</td>\n",
       "      <td>64</td>\n",
       "      <td>True</td>\n",
       "      <td>0.000147</td>\n",
       "      <td>8</td>\n",
       "      <td>48</td>\n",
       "      <td>True</td>\n",
       "      <td>16</td>\n",
       "      <td>True</td>\n",
       "      <td>0.275130</td>\n",
       "      <td>0.333212</td>\n",
       "      <td>0.199004</td>\n",
       "      <td>0.100000</td>\n",
       "    </tr>\n",
       "    <tr>\n",
       "      <th>5</th>\n",
       "      <td>2</td>\n",
       "      <td>32</td>\n",
       "      <td>True</td>\n",
       "      <td>0.000713</td>\n",
       "      <td>8</td>\n",
       "      <td>48</td>\n",
       "      <td>False</td>\n",
       "      <td>16</td>\n",
       "      <td>True</td>\n",
       "      <td>0.229813</td>\n",
       "      <td>0.334162</td>\n",
       "      <td>0.192292</td>\n",
       "      <td>0.231382</td>\n",
       "    </tr>\n",
       "    <tr>\n",
       "      <th>6</th>\n",
       "      <td>3</td>\n",
       "      <td>64</td>\n",
       "      <td>True</td>\n",
       "      <td>0.000013</td>\n",
       "      <td>8</td>\n",
       "      <td>32</td>\n",
       "      <td>False</td>\n",
       "      <td>16</td>\n",
       "      <td>True</td>\n",
       "      <td>0.348574</td>\n",
       "      <td>0.394768</td>\n",
       "      <td>0.322645</td>\n",
       "      <td>0.393563</td>\n",
       "    </tr>\n",
       "    <tr>\n",
       "      <th>7</th>\n",
       "      <td>3</td>\n",
       "      <td>48</td>\n",
       "      <td>True</td>\n",
       "      <td>0.000084</td>\n",
       "      <td>8</td>\n",
       "      <td>16</td>\n",
       "      <td>True</td>\n",
       "      <td>16</td>\n",
       "      <td>True</td>\n",
       "      <td>0.325721</td>\n",
       "      <td>0.244793</td>\n",
       "      <td>0.131394</td>\n",
       "      <td>0.164734</td>\n",
       "    </tr>\n",
       "    <tr>\n",
       "      <th>8</th>\n",
       "      <td>1</td>\n",
       "      <td>16</td>\n",
       "      <td>False</td>\n",
       "      <td>0.000015</td>\n",
       "      <td>8</td>\n",
       "      <td>16</td>\n",
       "      <td>True</td>\n",
       "      <td>16</td>\n",
       "      <td>True</td>\n",
       "      <td>0.716965</td>\n",
       "      <td>0.113889</td>\n",
       "      <td>0.169367</td>\n",
       "      <td>0.122113</td>\n",
       "    </tr>\n",
       "    <tr>\n",
       "      <th>9</th>\n",
       "      <td>2</td>\n",
       "      <td>32</td>\n",
       "      <td>True</td>\n",
       "      <td>0.000013</td>\n",
       "      <td>8</td>\n",
       "      <td>48</td>\n",
       "      <td>False</td>\n",
       "      <td>16</td>\n",
       "      <td>True</td>\n",
       "      <td>0.339121</td>\n",
       "      <td>0.139879</td>\n",
       "      <td>0.330254</td>\n",
       "      <td>0.332073</td>\n",
       "    </tr>\n",
       "    <tr>\n",
       "      <th>10</th>\n",
       "      <td>3</td>\n",
       "      <td>32</td>\n",
       "      <td>False</td>\n",
       "      <td>0.000064</td>\n",
       "      <td>8</td>\n",
       "      <td>32</td>\n",
       "      <td>True</td>\n",
       "      <td>16</td>\n",
       "      <td>True</td>\n",
       "      <td>0.306426</td>\n",
       "      <td>0.317776</td>\n",
       "      <td>0.247302</td>\n",
       "      <td>0.345129</td>\n",
       "    </tr>\n",
       "    <tr>\n",
       "      <th>11</th>\n",
       "      <td>3</td>\n",
       "      <td>16</td>\n",
       "      <td>False</td>\n",
       "      <td>0.004663</td>\n",
       "      <td>16</td>\n",
       "      <td>32</td>\n",
       "      <td>True</td>\n",
       "      <td>16</td>\n",
       "      <td>False</td>\n",
       "      <td>0.233516</td>\n",
       "      <td>0.315340</td>\n",
       "      <td>0.317326</td>\n",
       "      <td>0.291503</td>\n",
       "    </tr>\n",
       "    <tr>\n",
       "      <th>12</th>\n",
       "      <td>3</td>\n",
       "      <td>48</td>\n",
       "      <td>False</td>\n",
       "      <td>0.000937</td>\n",
       "      <td>16</td>\n",
       "      <td>16</td>\n",
       "      <td>True</td>\n",
       "      <td>16</td>\n",
       "      <td>True</td>\n",
       "      <td>0.272287</td>\n",
       "      <td>0.291988</td>\n",
       "      <td>0.290966</td>\n",
       "      <td>0.366970</td>\n",
       "    </tr>\n",
       "    <tr>\n",
       "      <th>13</th>\n",
       "      <td>2</td>\n",
       "      <td>48</td>\n",
       "      <td>False</td>\n",
       "      <td>0.000026</td>\n",
       "      <td>8</td>\n",
       "      <td>32</td>\n",
       "      <td>False</td>\n",
       "      <td>16</td>\n",
       "      <td>True</td>\n",
       "      <td>0.337206</td>\n",
       "      <td>0.355678</td>\n",
       "      <td>0.238130</td>\n",
       "      <td>0.119150</td>\n",
       "    </tr>\n",
       "    <tr>\n",
       "      <th>14</th>\n",
       "      <td>1</td>\n",
       "      <td>16</td>\n",
       "      <td>False</td>\n",
       "      <td>0.002391</td>\n",
       "      <td>16</td>\n",
       "      <td>32</td>\n",
       "      <td>False</td>\n",
       "      <td>16</td>\n",
       "      <td>True</td>\n",
       "      <td>0.275683</td>\n",
       "      <td>0.343731</td>\n",
       "      <td>0.270336</td>\n",
       "      <td>0.103852</td>\n",
       "    </tr>\n",
       "    <tr>\n",
       "      <th>15</th>\n",
       "      <td>2</td>\n",
       "      <td>48</td>\n",
       "      <td>False</td>\n",
       "      <td>0.000276</td>\n",
       "      <td>16</td>\n",
       "      <td>32</td>\n",
       "      <td>True</td>\n",
       "      <td>16</td>\n",
       "      <td>False</td>\n",
       "      <td>0.288214</td>\n",
       "      <td>0.234537</td>\n",
       "      <td>0.275930</td>\n",
       "      <td>0.318247</td>\n",
       "    </tr>\n",
       "    <tr>\n",
       "      <th>16</th>\n",
       "      <td>1</td>\n",
       "      <td>48</td>\n",
       "      <td>False</td>\n",
       "      <td>0.000462</td>\n",
       "      <td>8</td>\n",
       "      <td>48</td>\n",
       "      <td>False</td>\n",
       "      <td>16</td>\n",
       "      <td>True</td>\n",
       "      <td>0.284222</td>\n",
       "      <td>0.128922</td>\n",
       "      <td>0.227553</td>\n",
       "      <td>0.194606</td>\n",
       "    </tr>\n",
       "    <tr>\n",
       "      <th>17</th>\n",
       "      <td>3</td>\n",
       "      <td>48</td>\n",
       "      <td>False</td>\n",
       "      <td>0.000398</td>\n",
       "      <td>16</td>\n",
       "      <td>32</td>\n",
       "      <td>True</td>\n",
       "      <td>16</td>\n",
       "      <td>False</td>\n",
       "      <td>0.275163</td>\n",
       "      <td>0.241027</td>\n",
       "      <td>0.267326</td>\n",
       "      <td>0.135736</td>\n",
       "    </tr>\n",
       "    <tr>\n",
       "      <th>18</th>\n",
       "      <td>1</td>\n",
       "      <td>32</td>\n",
       "      <td>True</td>\n",
       "      <td>0.000072</td>\n",
       "      <td>16</td>\n",
       "      <td>48</td>\n",
       "      <td>False</td>\n",
       "      <td>16</td>\n",
       "      <td>True</td>\n",
       "      <td>0.321629</td>\n",
       "      <td>0.363251</td>\n",
       "      <td>0.176267</td>\n",
       "      <td>0.126896</td>\n",
       "    </tr>\n",
       "    <tr>\n",
       "      <th>19</th>\n",
       "      <td>3</td>\n",
       "      <td>32</td>\n",
       "      <td>False</td>\n",
       "      <td>0.002187</td>\n",
       "      <td>8</td>\n",
       "      <td>48</td>\n",
       "      <td>True</td>\n",
       "      <td>16</td>\n",
       "      <td>True</td>\n",
       "      <td>0.209282</td>\n",
       "      <td>0.186648</td>\n",
       "      <td>0.256852</td>\n",
       "      <td>0.277604</td>\n",
       "    </tr>\n",
       "    <tr>\n",
       "      <th>20</th>\n",
       "      <td>1</td>\n",
       "      <td>64</td>\n",
       "      <td>False</td>\n",
       "      <td>0.000044</td>\n",
       "      <td>8</td>\n",
       "      <td>48</td>\n",
       "      <td>True</td>\n",
       "      <td>16</td>\n",
       "      <td>False</td>\n",
       "      <td>0.330400</td>\n",
       "      <td>0.272530</td>\n",
       "      <td>0.208606</td>\n",
       "      <td>0.364721</td>\n",
       "    </tr>\n",
       "    <tr>\n",
       "      <th>21</th>\n",
       "      <td>3</td>\n",
       "      <td>48</td>\n",
       "      <td>True</td>\n",
       "      <td>0.001369</td>\n",
       "      <td>8</td>\n",
       "      <td>48</td>\n",
       "      <td>False</td>\n",
       "      <td>16</td>\n",
       "      <td>False</td>\n",
       "      <td>0.235782</td>\n",
       "      <td>0.203318</td>\n",
       "      <td>0.364639</td>\n",
       "      <td>0.296642</td>\n",
       "    </tr>\n",
       "    <tr>\n",
       "      <th>22</th>\n",
       "      <td>3</td>\n",
       "      <td>16</td>\n",
       "      <td>False</td>\n",
       "      <td>0.008090</td>\n",
       "      <td>8</td>\n",
       "      <td>16</td>\n",
       "      <td>False</td>\n",
       "      <td>16</td>\n",
       "      <td>True</td>\n",
       "      <td>0.239413</td>\n",
       "      <td>0.230340</td>\n",
       "      <td>0.127387</td>\n",
       "      <td>0.288742</td>\n",
       "    </tr>\n",
       "    <tr>\n",
       "      <th>23</th>\n",
       "      <td>1</td>\n",
       "      <td>48</td>\n",
       "      <td>True</td>\n",
       "      <td>0.000056</td>\n",
       "      <td>8</td>\n",
       "      <td>48</td>\n",
       "      <td>False</td>\n",
       "      <td>16</td>\n",
       "      <td>True</td>\n",
       "      <td>0.317684</td>\n",
       "      <td>0.105804</td>\n",
       "      <td>0.124828</td>\n",
       "      <td>0.170769</td>\n",
       "    </tr>\n",
       "    <tr>\n",
       "      <th>24</th>\n",
       "      <td>3</td>\n",
       "      <td>64</td>\n",
       "      <td>True</td>\n",
       "      <td>0.000080</td>\n",
       "      <td>16</td>\n",
       "      <td>16</td>\n",
       "      <td>False</td>\n",
       "      <td>16</td>\n",
       "      <td>True</td>\n",
       "      <td>0.310013</td>\n",
       "      <td>0.336765</td>\n",
       "      <td>0.218690</td>\n",
       "      <td>0.134080</td>\n",
       "    </tr>\n",
       "  </tbody>\n",
       "</table>\n",
       "</div>"
      ],
      "text/plain": [
       "    num_hidden_layers  num_units_layer_1  use_dropout_layer_1  learning_rate  \\\n",
       "0           3                 64                 False           0.000929      \n",
       "1           2                 48                  True           0.000306      \n",
       "2           1                 16                  True           0.000848      \n",
       "3           1                 48                 False           0.000017      \n",
       "4           3                 64                  True           0.000147      \n",
       "5           2                 32                  True           0.000713      \n",
       "6           3                 64                  True           0.000013      \n",
       "7           3                 48                  True           0.000084      \n",
       "8           1                 16                 False           0.000015      \n",
       "9           2                 32                  True           0.000013      \n",
       "10          3                 32                 False           0.000064      \n",
       "11          3                 16                 False           0.004663      \n",
       "12          3                 48                 False           0.000937      \n",
       "13          2                 48                 False           0.000026      \n",
       "14          1                 16                 False           0.002391      \n",
       "15          2                 48                 False           0.000276      \n",
       "16          1                 48                 False           0.000462      \n",
       "17          3                 48                 False           0.000398      \n",
       "18          1                 32                  True           0.000072      \n",
       "19          3                 32                 False           0.002187      \n",
       "20          1                 64                 False           0.000044      \n",
       "21          3                 48                  True           0.001369      \n",
       "22          3                 16                 False           0.008090      \n",
       "23          1                 48                  True           0.000056      \n",
       "24          3                 64                  True           0.000080      \n",
       "\n",
       "    batch_size  num_units_layer_2  use_dropout_layer_2  num_units_layer_3  \\\n",
       "0        8             16                 False                16           \n",
       "1       16             32                  True                16           \n",
       "2        8             32                  True                16           \n",
       "3        8             16                 False                16           \n",
       "4        8             48                  True                16           \n",
       "5        8             48                 False                16           \n",
       "6        8             32                 False                16           \n",
       "7        8             16                  True                16           \n",
       "8        8             16                  True                16           \n",
       "9        8             48                 False                16           \n",
       "10       8             32                  True                16           \n",
       "11      16             32                  True                16           \n",
       "12      16             16                  True                16           \n",
       "13       8             32                 False                16           \n",
       "14      16             32                 False                16           \n",
       "15      16             32                  True                16           \n",
       "16       8             48                 False                16           \n",
       "17      16             32                  True                16           \n",
       "18      16             48                 False                16           \n",
       "19       8             48                  True                16           \n",
       "20       8             48                  True                16           \n",
       "21       8             48                 False                16           \n",
       "22       8             16                 False                16           \n",
       "23       8             48                 False                16           \n",
       "24      16             16                 False                16           \n",
       "\n",
       "    use_dropout_layer_3    score   dropout_rate_layer_1  dropout_rate_layer_2  \\\n",
       "0          False         0.230540             NaN                   NaN         \n",
       "1           True         0.279221        0.100000              0.100000         \n",
       "2           True         0.293206        0.114098              0.364810         \n",
       "3           True         0.330234        0.271348              0.321355         \n",
       "4           True         0.275130        0.333212              0.199004         \n",
       "5           True         0.229813        0.334162              0.192292         \n",
       "6           True         0.348574        0.394768              0.322645         \n",
       "7           True         0.325721        0.244793              0.131394         \n",
       "8           True         0.716965        0.113889              0.169367         \n",
       "9           True         0.339121        0.139879              0.330254         \n",
       "10          True         0.306426        0.317776              0.247302         \n",
       "11         False         0.233516        0.315340              0.317326         \n",
       "12          True         0.272287        0.291988              0.290966         \n",
       "13          True         0.337206        0.355678              0.238130         \n",
       "14          True         0.275683        0.343731              0.270336         \n",
       "15         False         0.288214        0.234537              0.275930         \n",
       "16          True         0.284222        0.128922              0.227553         \n",
       "17         False         0.275163        0.241027              0.267326         \n",
       "18          True         0.321629        0.363251              0.176267         \n",
       "19          True         0.209282        0.186648              0.256852         \n",
       "20         False         0.330400        0.272530              0.208606         \n",
       "21         False         0.235782        0.203318              0.364639         \n",
       "22          True         0.239413        0.230340              0.127387         \n",
       "23          True         0.317684        0.105804              0.124828         \n",
       "24          True         0.310013        0.336765              0.218690         \n",
       "\n",
       "    dropout_rate_layer_3  \n",
       "0              NaN        \n",
       "1              NaN        \n",
       "2              NaN        \n",
       "3              NaN        \n",
       "4         0.100000        \n",
       "5         0.231382        \n",
       "6         0.393563        \n",
       "7         0.164734        \n",
       "8         0.122113        \n",
       "9         0.332073        \n",
       "10        0.345129        \n",
       "11        0.291503        \n",
       "12        0.366970        \n",
       "13        0.119150        \n",
       "14        0.103852        \n",
       "15        0.318247        \n",
       "16        0.194606        \n",
       "17        0.135736        \n",
       "18        0.126896        \n",
       "19        0.277604        \n",
       "20        0.364721        \n",
       "21        0.296642        \n",
       "22        0.288742        \n",
       "23        0.170769        \n",
       "24        0.134080        "
      ]
     },
     "execution_count": 50,
     "metadata": {},
     "output_type": "execute_result"
    }
   ],
   "source": [
    "trials_df"
   ]
  },
  {
   "cell_type": "markdown",
   "id": "318b0a9c",
   "metadata": {
    "papermill": {
     "duration": 0.049542,
     "end_time": "2025-01-01T10:17:43.058971",
     "exception": false,
     "start_time": "2025-01-01T10:17:43.009429",
     "status": "completed"
    },
    "tags": []
   },
   "source": [
    "The `score` here refers to the validation loss, the smaller the better!"
   ]
  },
  {
   "cell_type": "markdown",
   "id": "3ac58c72",
   "metadata": {
    "papermill": {
     "duration": 0.049115,
     "end_time": "2025-01-01T10:17:43.157596",
     "exception": false,
     "start_time": "2025-01-01T10:17:43.108481",
     "status": "completed"
    },
    "tags": []
   },
   "source": [
    "## **6. Getting the best trial model**"
   ]
  },
  {
   "cell_type": "code",
   "execution_count": 51,
   "id": "3aaa46a0",
   "metadata": {
    "execution": {
     "iopub.execute_input": "2025-01-01T10:17:43.256694Z",
     "iopub.status.busy": "2025-01-01T10:17:43.256365Z",
     "iopub.status.idle": "2025-01-01T10:17:44.292748Z",
     "shell.execute_reply": "2025-01-01T10:17:44.291798Z"
    },
    "papermill": {
     "duration": 1.087826,
     "end_time": "2025-01-01T10:17:44.294396",
     "exception": false,
     "start_time": "2025-01-01T10:17:43.206570",
     "status": "completed"
    },
    "tags": []
   },
   "outputs": [
    {
     "data": {
      "text/html": [
       "<pre style=\"white-space:pre;overflow-x:auto;line-height:normal;font-family:Menlo,'DejaVu Sans Mono',consolas,'Courier New',monospace\"><span style=\"font-weight: bold\">Model: \"sequential\"</span>\n",
       "</pre>\n"
      ],
      "text/plain": [
       "\u001b[1mModel: \"sequential\"\u001b[0m\n"
      ]
     },
     "metadata": {},
     "output_type": "display_data"
    },
    {
     "data": {
      "text/html": [
       "<pre style=\"white-space:pre;overflow-x:auto;line-height:normal;font-family:Menlo,'DejaVu Sans Mono',consolas,'Courier New',monospace\">┏━━━━━━━━━━━━━━━━━━━━━━━━━━━━━━━━━━━━━━┳━━━━━━━━━━━━━━━━━━━━━━━━━━━━━┳━━━━━━━━━━━━━━━━━┓\n",
       "┃<span style=\"font-weight: bold\"> Layer (type)                         </span>┃<span style=\"font-weight: bold\"> Output Shape                </span>┃<span style=\"font-weight: bold\">         Param # </span>┃\n",
       "┡━━━━━━━━━━━━━━━━━━━━━━━━━━━━━━━━━━━━━━╇━━━━━━━━━━━━━━━━━━━━━━━━━━━━━╇━━━━━━━━━━━━━━━━━┩\n",
       "│ dense (<span style=\"color: #0087ff; text-decoration-color: #0087ff\">Dense</span>)                        │ (<span style=\"color: #00d7ff; text-decoration-color: #00d7ff\">None</span>, <span style=\"color: #00af00; text-decoration-color: #00af00\">32</span>)                  │             <span style=\"color: #00af00; text-decoration-color: #00af00\">384</span> │\n",
       "├──────────────────────────────────────┼─────────────────────────────┼─────────────────┤\n",
       "│ dense_1 (<span style=\"color: #0087ff; text-decoration-color: #0087ff\">Dense</span>)                      │ (<span style=\"color: #00d7ff; text-decoration-color: #00d7ff\">None</span>, <span style=\"color: #00af00; text-decoration-color: #00af00\">48</span>)                  │           <span style=\"color: #00af00; text-decoration-color: #00af00\">1,584</span> │\n",
       "├──────────────────────────────────────┼─────────────────────────────┼─────────────────┤\n",
       "│ dropout (<span style=\"color: #0087ff; text-decoration-color: #0087ff\">Dropout</span>)                    │ (<span style=\"color: #00d7ff; text-decoration-color: #00d7ff\">None</span>, <span style=\"color: #00af00; text-decoration-color: #00af00\">48</span>)                  │               <span style=\"color: #00af00; text-decoration-color: #00af00\">0</span> │\n",
       "├──────────────────────────────────────┼─────────────────────────────┼─────────────────┤\n",
       "│ dense_2 (<span style=\"color: #0087ff; text-decoration-color: #0087ff\">Dense</span>)                      │ (<span style=\"color: #00d7ff; text-decoration-color: #00d7ff\">None</span>, <span style=\"color: #00af00; text-decoration-color: #00af00\">16</span>)                  │             <span style=\"color: #00af00; text-decoration-color: #00af00\">784</span> │\n",
       "├──────────────────────────────────────┼─────────────────────────────┼─────────────────┤\n",
       "│ dropout_1 (<span style=\"color: #0087ff; text-decoration-color: #0087ff\">Dropout</span>)                  │ (<span style=\"color: #00d7ff; text-decoration-color: #00d7ff\">None</span>, <span style=\"color: #00af00; text-decoration-color: #00af00\">16</span>)                  │               <span style=\"color: #00af00; text-decoration-color: #00af00\">0</span> │\n",
       "├──────────────────────────────────────┼─────────────────────────────┼─────────────────┤\n",
       "│ dense_3 (<span style=\"color: #0087ff; text-decoration-color: #0087ff\">Dense</span>)                      │ (<span style=\"color: #00d7ff; text-decoration-color: #00d7ff\">None</span>, <span style=\"color: #00af00; text-decoration-color: #00af00\">1</span>)                   │              <span style=\"color: #00af00; text-decoration-color: #00af00\">17</span> │\n",
       "└──────────────────────────────────────┴─────────────────────────────┴─────────────────┘\n",
       "</pre>\n"
      ],
      "text/plain": [
       "┏━━━━━━━━━━━━━━━━━━━━━━━━━━━━━━━━━━━━━━┳━━━━━━━━━━━━━━━━━━━━━━━━━━━━━┳━━━━━━━━━━━━━━━━━┓\n",
       "┃\u001b[1m \u001b[0m\u001b[1mLayer (type)                        \u001b[0m\u001b[1m \u001b[0m┃\u001b[1m \u001b[0m\u001b[1mOutput Shape               \u001b[0m\u001b[1m \u001b[0m┃\u001b[1m \u001b[0m\u001b[1m        Param #\u001b[0m\u001b[1m \u001b[0m┃\n",
       "┡━━━━━━━━━━━━━━━━━━━━━━━━━━━━━━━━━━━━━━╇━━━━━━━━━━━━━━━━━━━━━━━━━━━━━╇━━━━━━━━━━━━━━━━━┩\n",
       "│ dense (\u001b[38;5;33mDense\u001b[0m)                        │ (\u001b[38;5;45mNone\u001b[0m, \u001b[38;5;34m32\u001b[0m)                  │             \u001b[38;5;34m384\u001b[0m │\n",
       "├──────────────────────────────────────┼─────────────────────────────┼─────────────────┤\n",
       "│ dense_1 (\u001b[38;5;33mDense\u001b[0m)                      │ (\u001b[38;5;45mNone\u001b[0m, \u001b[38;5;34m48\u001b[0m)                  │           \u001b[38;5;34m1,584\u001b[0m │\n",
       "├──────────────────────────────────────┼─────────────────────────────┼─────────────────┤\n",
       "│ dropout (\u001b[38;5;33mDropout\u001b[0m)                    │ (\u001b[38;5;45mNone\u001b[0m, \u001b[38;5;34m48\u001b[0m)                  │               \u001b[38;5;34m0\u001b[0m │\n",
       "├──────────────────────────────────────┼─────────────────────────────┼─────────────────┤\n",
       "│ dense_2 (\u001b[38;5;33mDense\u001b[0m)                      │ (\u001b[38;5;45mNone\u001b[0m, \u001b[38;5;34m16\u001b[0m)                  │             \u001b[38;5;34m784\u001b[0m │\n",
       "├──────────────────────────────────────┼─────────────────────────────┼─────────────────┤\n",
       "│ dropout_1 (\u001b[38;5;33mDropout\u001b[0m)                  │ (\u001b[38;5;45mNone\u001b[0m, \u001b[38;5;34m16\u001b[0m)                  │               \u001b[38;5;34m0\u001b[0m │\n",
       "├──────────────────────────────────────┼─────────────────────────────┼─────────────────┤\n",
       "│ dense_3 (\u001b[38;5;33mDense\u001b[0m)                      │ (\u001b[38;5;45mNone\u001b[0m, \u001b[38;5;34m1\u001b[0m)                   │              \u001b[38;5;34m17\u001b[0m │\n",
       "└──────────────────────────────────────┴─────────────────────────────┴─────────────────┘\n"
      ]
     },
     "metadata": {},
     "output_type": "display_data"
    },
    {
     "data": {
      "text/html": [
       "<pre style=\"white-space:pre;overflow-x:auto;line-height:normal;font-family:Menlo,'DejaVu Sans Mono',consolas,'Courier New',monospace\"><span style=\"font-weight: bold\"> Total params: </span><span style=\"color: #00af00; text-decoration-color: #00af00\">2,769</span> (10.82 KB)\n",
       "</pre>\n"
      ],
      "text/plain": [
       "\u001b[1m Total params: \u001b[0m\u001b[38;5;34m2,769\u001b[0m (10.82 KB)\n"
      ]
     },
     "metadata": {},
     "output_type": "display_data"
    },
    {
     "data": {
      "text/html": [
       "<pre style=\"white-space:pre;overflow-x:auto;line-height:normal;font-family:Menlo,'DejaVu Sans Mono',consolas,'Courier New',monospace\"><span style=\"font-weight: bold\"> Trainable params: </span><span style=\"color: #00af00; text-decoration-color: #00af00\">2,769</span> (10.82 KB)\n",
       "</pre>\n"
      ],
      "text/plain": [
       "\u001b[1m Trainable params: \u001b[0m\u001b[38;5;34m2,769\u001b[0m (10.82 KB)\n"
      ]
     },
     "metadata": {},
     "output_type": "display_data"
    },
    {
     "data": {
      "text/html": [
       "<pre style=\"white-space:pre;overflow-x:auto;line-height:normal;font-family:Menlo,'DejaVu Sans Mono',consolas,'Courier New',monospace\"><span style=\"font-weight: bold\"> Non-trainable params: </span><span style=\"color: #00af00; text-decoration-color: #00af00\">0</span> (0.00 B)\n",
       "</pre>\n"
      ],
      "text/plain": [
       "\u001b[1m Non-trainable params: \u001b[0m\u001b[38;5;34m0\u001b[0m (0.00 B)\n"
      ]
     },
     "metadata": {},
     "output_type": "display_data"
    }
   ],
   "source": [
    "#getting the best trial model\n",
    "model = tuner.get_best_models(num_models=1)[0]\n",
    "\n",
    "model.summary()"
   ]
  },
  {
   "cell_type": "code",
   "execution_count": 52,
   "id": "d9302c17",
   "metadata": {
    "execution": {
     "iopub.execute_input": "2025-01-01T10:17:44.394330Z",
     "iopub.status.busy": "2025-01-01T10:17:44.393983Z",
     "iopub.status.idle": "2025-01-01T10:17:44.402196Z",
     "shell.execute_reply": "2025-01-01T10:17:44.401151Z"
    },
    "papermill": {
     "duration": 0.059797,
     "end_time": "2025-01-01T10:17:44.403714",
     "exception": false,
     "start_time": "2025-01-01T10:17:44.343917",
     "status": "completed"
    },
    "tags": []
   },
   "outputs": [
    {
     "name": "stdout",
     "output_type": "stream",
     "text": [
      "num_hidden_layers: 3\n",
      "num_units_layer_1: 32\n",
      "use_dropout_layer_1: False\n",
      "learning_rate: 0.002187095769452065\n",
      "batch_size: 8\n",
      "num_units_layer_2: 48\n",
      "use_dropout_layer_2: True\n",
      "num_units_layer_3: 16\n",
      "use_dropout_layer_3: True\n",
      "dropout_rate_layer_1: 0.18664761669824337\n",
      "dropout_rate_layer_2: 0.25685242769611294\n",
      "dropout_rate_layer_3: 0.27760439738879505\n",
      "score: 0.2092820554971695\n"
     ]
    }
   ],
   "source": [
    "#the best trial hyperparameters\n",
    "best_hps = tuner.get_best_hyperparameters(num_trials=1)[0]\n",
    "\n",
    "all_hyperparameters = best_hps.values\n",
    "\n",
    "#print all hyperparameters\n",
    "for key, value in all_hyperparameters.items():\n",
    "    print(f\"{key}: {value}\")"
   ]
  },
  {
   "cell_type": "markdown",
   "id": "bad4735a",
   "metadata": {
    "papermill": {
     "duration": 0.051689,
     "end_time": "2025-01-01T10:17:44.505447",
     "exception": false,
     "start_time": "2025-01-01T10:17:44.453758",
     "status": "completed"
    },
    "tags": []
   },
   "source": [
    "## **7. Re-train the best trial**\n",
    "\n",
    "I have to create the same model structure using the above information"
   ]
  },
  {
   "cell_type": "code",
   "execution_count": 53,
   "id": "c6840d7a",
   "metadata": {
    "execution": {
     "iopub.execute_input": "2025-01-01T10:17:44.607568Z",
     "iopub.status.busy": "2025-01-01T10:17:44.607236Z",
     "iopub.status.idle": "2025-01-01T10:17:44.613300Z",
     "shell.execute_reply": "2025-01-01T10:17:44.612291Z"
    },
    "papermill": {
     "duration": 0.059002,
     "end_time": "2025-01-01T10:17:44.614750",
     "exception": false,
     "start_time": "2025-01-01T10:17:44.555748",
     "status": "completed"
    },
    "tags": []
   },
   "outputs": [],
   "source": [
    "def best_model():\n",
    "    model = Sequential()\n",
    "\n",
    "    model.add(Input(shape=(x_resamp.shape[1], )))\n",
    "\n",
    "    model.add(Dense(64, activation='relu'))\n",
    "\n",
    "    model.add(Dense(16, activation='relu'))\n",
    "\n",
    "    model.add(Dense(16, activation='relu'))\n",
    "\n",
    "    model.add(Dense(1, activation='sigmoid'))\n",
    "\n",
    "    model.compile(\n",
    "        optimizer=Adam(learning_rate=0.0009291189310240945),\n",
    "        loss='binary_crossentropy',\n",
    "        metrics=['accuracy']\n",
    "    )\n",
    "\n",
    "    return model"
   ]
  },
  {
   "cell_type": "code",
   "execution_count": 54,
   "id": "d8968cd2",
   "metadata": {
    "execution": {
     "iopub.execute_input": "2025-01-01T10:17:44.718064Z",
     "iopub.status.busy": "2025-01-01T10:17:44.717627Z",
     "iopub.status.idle": "2025-01-01T10:17:44.721801Z",
     "shell.execute_reply": "2025-01-01T10:17:44.720969Z"
    },
    "papermill": {
     "duration": 0.057065,
     "end_time": "2025-01-01T10:17:44.723345",
     "exception": false,
     "start_time": "2025-01-01T10:17:44.666280",
     "status": "completed"
    },
    "tags": []
   },
   "outputs": [],
   "source": [
    "#EarlyStopping callback (again)\n",
    "es_2 = EarlyStopping(\n",
    "    patience=4,\n",
    "    monitor='val_loss',\n",
    "    mode='min',\n",
    "    restore_best_weights=True\n",
    ")"
   ]
  },
  {
   "cell_type": "code",
   "execution_count": 55,
   "id": "2a324035",
   "metadata": {
    "execution": {
     "iopub.execute_input": "2025-01-01T10:17:44.823922Z",
     "iopub.status.busy": "2025-01-01T10:17:44.823553Z",
     "iopub.status.idle": "2025-01-01T10:18:17.745884Z",
     "shell.execute_reply": "2025-01-01T10:18:17.744713Z"
    },
    "papermill": {
     "duration": 32.974698,
     "end_time": "2025-01-01T10:18:17.748087",
     "exception": false,
     "start_time": "2025-01-01T10:17:44.773389",
     "status": "completed"
    },
    "tags": []
   },
   "outputs": [
    {
     "name": "stdout",
     "output_type": "stream",
     "text": [
      "Epoch 1/100\n",
      "\u001b[1m1741/1741\u001b[0m \u001b[32m━━━━━━━━━━━━━━━━━━━━\u001b[0m\u001b[37m\u001b[0m \u001b[1m4s\u001b[0m 2ms/step - accuracy: 0.8368 - loss: 0.3613 - val_accuracy: 0.8383 - val_loss: 0.2946\n",
      "Epoch 2/100\n",
      "\u001b[1m1741/1741\u001b[0m \u001b[32m━━━━━━━━━━━━━━━━━━━━\u001b[0m\u001b[37m\u001b[0m \u001b[1m3s\u001b[0m 2ms/step - accuracy: 0.8697 - loss: 0.2791 - val_accuracy: 0.8465 - val_loss: 0.2894\n",
      "Epoch 3/100\n",
      "\u001b[1m1741/1741\u001b[0m \u001b[32m━━━━━━━━━━━━━━━━━━━━\u001b[0m\u001b[37m\u001b[0m \u001b[1m3s\u001b[0m 2ms/step - accuracy: 0.8826 - loss: 0.2600 - val_accuracy: 0.8296 - val_loss: 0.3070\n",
      "Epoch 4/100\n",
      "\u001b[1m1741/1741\u001b[0m \u001b[32m━━━━━━━━━━━━━━━━━━━━\u001b[0m\u001b[37m\u001b[0m \u001b[1m3s\u001b[0m 2ms/step - accuracy: 0.8796 - loss: 0.2579 - val_accuracy: 0.8375 - val_loss: 0.2822\n",
      "Epoch 5/100\n",
      "\u001b[1m1741/1741\u001b[0m \u001b[32m━━━━━━━━━━━━━━━━━━━━\u001b[0m\u001b[37m\u001b[0m \u001b[1m3s\u001b[0m 2ms/step - accuracy: 0.8895 - loss: 0.2427 - val_accuracy: 0.8350 - val_loss: 0.2764\n",
      "Epoch 6/100\n",
      "\u001b[1m1741/1741\u001b[0m \u001b[32m━━━━━━━━━━━━━━━━━━━━\u001b[0m\u001b[37m\u001b[0m \u001b[1m3s\u001b[0m 2ms/step - accuracy: 0.8825 - loss: 0.2475 - val_accuracy: 0.8377 - val_loss: 0.2901\n",
      "Epoch 7/100\n",
      "\u001b[1m1741/1741\u001b[0m \u001b[32m━━━━━━━━━━━━━━━━━━━━\u001b[0m\u001b[37m\u001b[0m \u001b[1m3s\u001b[0m 2ms/step - accuracy: 0.8873 - loss: 0.2406 - val_accuracy: 0.8664 - val_loss: 0.2441\n",
      "Epoch 8/100\n",
      "\u001b[1m1741/1741\u001b[0m \u001b[32m━━━━━━━━━━━━━━━━━━━━\u001b[0m\u001b[37m\u001b[0m \u001b[1m3s\u001b[0m 2ms/step - accuracy: 0.8924 - loss: 0.2308 - val_accuracy: 0.8350 - val_loss: 0.2983\n",
      "Epoch 9/100\n",
      "\u001b[1m1741/1741\u001b[0m \u001b[32m━━━━━━━━━━━━━━━━━━━━\u001b[0m\u001b[37m\u001b[0m \u001b[1m3s\u001b[0m 2ms/step - accuracy: 0.8822 - loss: 0.2360 - val_accuracy: 0.8391 - val_loss: 0.3077\n",
      "Epoch 10/100\n",
      "\u001b[1m1741/1741\u001b[0m \u001b[32m━━━━━━━━━━━━━━━━━━━━\u001b[0m\u001b[37m\u001b[0m \u001b[1m3s\u001b[0m 2ms/step - accuracy: 0.8909 - loss: 0.2319 - val_accuracy: 0.8367 - val_loss: 0.2887\n",
      "Epoch 11/100\n",
      "\u001b[1m1741/1741\u001b[0m \u001b[32m━━━━━━━━━━━━━━━━━━━━\u001b[0m\u001b[37m\u001b[0m \u001b[1m3s\u001b[0m 2ms/step - accuracy: 0.8908 - loss: 0.2331 - val_accuracy: 0.8642 - val_loss: 0.2449\n"
     ]
    }
   ],
   "source": [
    "best_model = best_model()\n",
    "\n",
    "#histo: is a history variable to store the graphs\n",
    "histo = best_model.fit(x_resamp, y_resamp, batch_size=8,\n",
    "                       validation_data=(x_val, y_val),\n",
    "                       epochs=100, callbacks=[es_2], verbose=1)"
   ]
  },
  {
   "cell_type": "code",
   "execution_count": 56,
   "id": "d481e5bf",
   "metadata": {
    "execution": {
     "iopub.execute_input": "2025-01-01T10:18:17.909496Z",
     "iopub.status.busy": "2025-01-01T10:18:17.909099Z",
     "iopub.status.idle": "2025-01-01T10:18:18.097266Z",
     "shell.execute_reply": "2025-01-01T10:18:18.096119Z"
    },
    "papermill": {
     "duration": 0.270679,
     "end_time": "2025-01-01T10:18:18.099196",
     "exception": false,
     "start_time": "2025-01-01T10:18:17.828517",
     "status": "completed"
    },
    "tags": []
   },
   "outputs": [],
   "source": [
    "#plotting both the training the validation loss using the history object from keras\n",
    "plt.plot(histo.history['loss'], label='Training Loss', marker='o')\n",
    "plt.plot(histo.history['val_loss'], label='Validation Loss', marker='o')\n",
    "\n",
    "#making the graph presentable\n",
    "plt.xlabel('Epochs')\n",
    "plt.ylabel('Loss')\n",
    "plt.title('Training and Validation Loss')\n",
    "plt.legend()\n",
    "plt.show()"
   ]
  },
  {
   "cell_type": "markdown",
   "id": "27baa205",
   "metadata": {
    "papermill": {
     "duration": 0.079138,
     "end_time": "2025-01-01T10:18:18.258682",
     "exception": false,
     "start_time": "2025-01-01T10:18:18.179544",
     "status": "completed"
    },
    "tags": []
   },
   "source": [
    "## **8. Model evaluation**"
   ]
  },
  {
   "cell_type": "code",
   "execution_count": 57,
   "id": "c8ccfbde",
   "metadata": {
    "execution": {
     "iopub.execute_input": "2025-01-01T10:18:18.418935Z",
     "iopub.status.busy": "2025-01-01T10:18:18.418525Z",
     "iopub.status.idle": "2025-01-01T10:18:19.859130Z",
     "shell.execute_reply": "2025-01-01T10:18:19.857861Z"
    },
    "papermill": {
     "duration": 1.522878,
     "end_time": "2025-01-01T10:18:19.861039",
     "exception": false,
     "start_time": "2025-01-01T10:18:18.338161",
     "status": "completed"
    },
    "tags": []
   },
   "outputs": [
    {
     "name": "stdout",
     "output_type": "stream",
     "text": [
      "\u001b[1m459/459\u001b[0m \u001b[32m━━━━━━━━━━━━━━━━━━━━\u001b[0m\u001b[37m\u001b[0m \u001b[1m1s\u001b[0m 1ms/step - accuracy: 0.8719 - loss: 0.2382\n",
      "Model accuracy on testing set: 0.88\n",
      "Model loss on testing set: 0.23133403062820435\n",
      "\n",
      "---------------------------------\n",
      "\n",
      "\u001b[1m459/459\u001b[0m \u001b[32m━━━━━━━━━━━━━━━━━━━━\u001b[0m\u001b[37m\u001b[0m \u001b[1m1s\u001b[0m 1ms/step\n",
      "[[12215  1715]\n",
      " [   81   659]]\n",
      "\n",
      "---------------------------------\n",
      "\n",
      "              precision    recall  f1-score   support\n",
      "\n",
      "           0       0.99      0.88      0.93     13930\n",
      "           1       0.28      0.89      0.42       740\n",
      "\n",
      "    accuracy                           0.88     14670\n",
      "   macro avg       0.64      0.88      0.68     14670\n",
      "weighted avg       0.96      0.88      0.91     14670\n",
      "\n"
     ]
    }
   ],
   "source": [
    "loss, accuracy = best_model.evaluate(x_test, y_test)\n",
    "\n",
    "print(f'Model accuracy on testing set: {accuracy:.2f}')\n",
    "print(f'Model loss on testing set: {loss}')\n",
    "\n",
    "print('\\n---------------------------------\\n')\n",
    "\n",
    "y_pred = best_model.predict(x_test)\n",
    "\n",
    "y_pred_class = y_pred.round()\n",
    "\n",
    "cm = confusion_matrix(y_test, y_pred_class)\n",
    "\n",
    "print(cm)\n",
    "\n",
    "print('\\n---------------------------------\\n')\n",
    "\n",
    "print(classification_report(y_test, y_pred_class))"
   ]
  },
  {
   "cell_type": "markdown",
   "id": "7971b708",
   "metadata": {
    "papermill": {
     "duration": 0.081257,
     "end_time": "2025-01-01T10:18:20.023634",
     "exception": false,
     "start_time": "2025-01-01T10:18:19.942377",
     "status": "completed"
    },
    "tags": []
   },
   "source": [
    "The model performed so poorly...\n",
    "\n",
    "## **9. What if we did not balance the data?**\n",
    "\n",
    "In this experiment, we are going to use the IMBALANCED data. Note that the following data was encoded,transformed, and the outliers got delt with."
   ]
  },
  {
   "cell_type": "code",
   "execution_count": 58,
   "id": "fe2b7bb6",
   "metadata": {
    "execution": {
     "iopub.execute_input": "2025-01-01T10:18:20.188124Z",
     "iopub.status.busy": "2025-01-01T10:18:20.187699Z",
     "iopub.status.idle": "2025-01-01T10:18:20.246607Z",
     "shell.execute_reply": "2025-01-01T10:18:20.245466Z"
    },
    "papermill": {
     "duration": 0.143289,
     "end_time": "2025-01-01T10:18:20.248600",
     "exception": false,
     "start_time": "2025-01-01T10:18:20.105311",
     "status": "completed"
    },
    "tags": []
   },
   "outputs": [],
   "source": [
    "#split into training (70%) and remaining (30%) datasets\n",
    "x_train, x_rem, y_train, y_rem = train_test_split(x, y, \n",
    "                                                  test_size=0.3, \n",
    "                                                  stratify=y, \n",
    "                                                  random_state=20)\n",
    "\n",
    "#split temp into validation (50% of remaining = 15% of total) and \n",
    "#testing (50% of remaining = 15% of total)\n",
    "x_val, x_test, y_val, y_test = train_test_split(x_rem, y_rem, \n",
    "                                                test_size=0.5, \n",
    "                                                stratify=y_rem, \n",
    "                                                random_state=20)"
   ]
  },
  {
   "cell_type": "code",
   "execution_count": 59,
   "id": "86b210ce",
   "metadata": {
    "execution": {
     "iopub.execute_input": "2025-01-01T10:18:20.413425Z",
     "iopub.status.busy": "2025-01-01T10:18:20.413045Z",
     "iopub.status.idle": "2025-01-01T10:18:20.417459Z",
     "shell.execute_reply": "2025-01-01T10:18:20.416408Z"
    },
    "papermill": {
     "duration": 0.087767,
     "end_time": "2025-01-01T10:18:20.419277",
     "exception": false,
     "start_time": "2025-01-01T10:18:20.331510",
     "status": "completed"
    },
    "tags": []
   },
   "outputs": [],
   "source": [
    "#EarlyStopping callback (again)\n",
    "es_3 = EarlyStopping(\n",
    "    patience=4,\n",
    "    monitor='val_loss',\n",
    "    mode='min',\n",
    "    restore_best_weights=True\n",
    ")"
   ]
  },
  {
   "cell_type": "code",
   "execution_count": 60,
   "id": "c24ad33c",
   "metadata": {
    "execution": {
     "iopub.execute_input": "2025-01-01T10:18:20.584229Z",
     "iopub.status.busy": "2025-01-01T10:18:20.583794Z",
     "iopub.status.idle": "2025-01-01T10:18:20.589699Z",
     "shell.execute_reply": "2025-01-01T10:18:20.588607Z"
    },
    "papermill": {
     "duration": 0.090814,
     "end_time": "2025-01-01T10:18:20.591394",
     "exception": false,
     "start_time": "2025-01-01T10:18:20.500580",
     "status": "completed"
    },
    "tags": []
   },
   "outputs": [],
   "source": [
    "#define the same model again to avoid saving error. you can ignore this part :)\n",
    "\n",
    "def best_model():\n",
    "    model = Sequential()\n",
    "\n",
    "    model.add(Input(shape=(x_resamp.shape[1], )))\n",
    "\n",
    "    model.add(Dense(64, activation='relu'))\n",
    "\n",
    "    model.add(Dense(16, activation='relu'))\n",
    "\n",
    "    model.add(Dense(16, activation='relu'))\n",
    "\n",
    "    model.add(Dense(1, activation='sigmoid'))\n",
    "\n",
    "    model.compile(\n",
    "        optimizer=Adam(learning_rate=0.0009291189310240945),\n",
    "        loss='binary_crossentropy',\n",
    "        metrics=['accuracy']\n",
    "    )\n",
    "\n",
    "    return model"
   ]
  },
  {
   "cell_type": "code",
   "execution_count": 61,
   "id": "23f7ce98",
   "metadata": {
    "execution": {
     "iopub.execute_input": "2025-01-01T10:18:20.757754Z",
     "iopub.status.busy": "2025-01-01T10:18:20.757368Z",
     "iopub.status.idle": "2025-01-01T10:19:57.891758Z",
     "shell.execute_reply": "2025-01-01T10:19:57.890587Z"
    },
    "papermill": {
     "duration": 97.218295,
     "end_time": "2025-01-01T10:19:57.893586",
     "exception": false,
     "start_time": "2025-01-01T10:18:20.675291",
     "status": "completed"
    },
    "tags": []
   },
   "outputs": [
    {
     "name": "stdout",
     "output_type": "stream",
     "text": [
      "Epoch 1/100\n",
      "\u001b[1m4012/4012\u001b[0m \u001b[32m━━━━━━━━━━━━━━━━━━━━\u001b[0m\u001b[37m\u001b[0m \u001b[1m8s\u001b[0m 2ms/step - accuracy: 0.9472 - loss: 0.1468 - val_accuracy: 0.9729 - val_loss: 0.0858\n",
      "Epoch 2/100\n",
      "\u001b[1m4012/4012\u001b[0m \u001b[32m━━━━━━━━━━━━━━━━━━━━\u001b[0m\u001b[37m\u001b[0m \u001b[1m7s\u001b[0m 2ms/step - accuracy: 0.9712 - loss: 0.0873 - val_accuracy: 0.9711 - val_loss: 0.0861\n",
      "Epoch 3/100\n",
      "\u001b[1m4012/4012\u001b[0m \u001b[32m━━━━━━━━━━━━━━━━━━━━\u001b[0m\u001b[37m\u001b[0m \u001b[1m7s\u001b[0m 2ms/step - accuracy: 0.9735 - loss: 0.0823 - val_accuracy: 0.9732 - val_loss: 0.0810\n",
      "Epoch 4/100\n",
      "\u001b[1m4012/4012\u001b[0m \u001b[32m━━━━━━━━━━━━━━━━━━━━\u001b[0m\u001b[37m\u001b[0m \u001b[1m7s\u001b[0m 2ms/step - accuracy: 0.9735 - loss: 0.0816 - val_accuracy: 0.9738 - val_loss: 0.0806\n",
      "Epoch 5/100\n",
      "\u001b[1m4012/4012\u001b[0m \u001b[32m━━━━━━━━━━━━━━━━━━━━\u001b[0m\u001b[37m\u001b[0m \u001b[1m7s\u001b[0m 2ms/step - accuracy: 0.9733 - loss: 0.0814 - val_accuracy: 0.9738 - val_loss: 0.0814\n",
      "Epoch 6/100\n",
      "\u001b[1m4012/4012\u001b[0m \u001b[32m━━━━━━━━━━━━━━━━━━━━\u001b[0m\u001b[37m\u001b[0m \u001b[1m7s\u001b[0m 2ms/step - accuracy: 0.9735 - loss: 0.0800 - val_accuracy: 0.9736 - val_loss: 0.0815\n",
      "Epoch 7/100\n",
      "\u001b[1m4012/4012\u001b[0m \u001b[32m━━━━━━━━━━━━━━━━━━━━\u001b[0m\u001b[37m\u001b[0m \u001b[1m7s\u001b[0m 2ms/step - accuracy: 0.9743 - loss: 0.0795 - val_accuracy: 0.9738 - val_loss: 0.0802\n",
      "Epoch 8/100\n",
      "\u001b[1m4012/4012\u001b[0m \u001b[32m━━━━━━━━━━━━━━━━━━━━\u001b[0m\u001b[37m\u001b[0m \u001b[1m7s\u001b[0m 2ms/step - accuracy: 0.9738 - loss: 0.0799 - val_accuracy: 0.9733 - val_loss: 0.0814\n",
      "Epoch 9/100\n",
      "\u001b[1m4012/4012\u001b[0m \u001b[32m━━━━━━━━━━━━━━━━━━━━\u001b[0m\u001b[37m\u001b[0m \u001b[1m7s\u001b[0m 2ms/step - accuracy: 0.9742 - loss: 0.0786 - val_accuracy: 0.9738 - val_loss: 0.0804\n",
      "Epoch 10/100\n",
      "\u001b[1m4012/4012\u001b[0m \u001b[32m━━━━━━━━━━━━━━━━━━━━\u001b[0m\u001b[37m\u001b[0m \u001b[1m7s\u001b[0m 2ms/step - accuracy: 0.9735 - loss: 0.0813 - val_accuracy: 0.9737 - val_loss: 0.0793\n",
      "Epoch 11/100\n",
      "\u001b[1m4012/4012\u001b[0m \u001b[32m━━━━━━━━━━━━━━━━━━━━\u001b[0m\u001b[37m\u001b[0m \u001b[1m7s\u001b[0m 2ms/step - accuracy: 0.9737 - loss: 0.0801 - val_accuracy: 0.9736 - val_loss: 0.0800\n",
      "Epoch 12/100\n",
      "\u001b[1m4012/4012\u001b[0m \u001b[32m━━━━━━━━━━━━━━━━━━━━\u001b[0m\u001b[37m\u001b[0m \u001b[1m7s\u001b[0m 2ms/step - accuracy: 0.9731 - loss: 0.0805 - val_accuracy: 0.9738 - val_loss: 0.0801\n",
      "Epoch 13/100\n",
      "\u001b[1m4012/4012\u001b[0m \u001b[32m━━━━━━━━━━━━━━━━━━━━\u001b[0m\u001b[37m\u001b[0m \u001b[1m7s\u001b[0m 2ms/step - accuracy: 0.9742 - loss: 0.0778 - val_accuracy: 0.9737 - val_loss: 0.0796\n",
      "Epoch 14/100\n",
      "\u001b[1m4012/4012\u001b[0m \u001b[32m━━━━━━━━━━━━━━━━━━━━\u001b[0m\u001b[37m\u001b[0m \u001b[1m7s\u001b[0m 2ms/step - accuracy: 0.9729 - loss: 0.0815 - val_accuracy: 0.9738 - val_loss: 0.0797\n"
     ]
    }
   ],
   "source": [
    "best_model_new = best_model()\n",
    "\n",
    "#histo: is a history variable to store the graphs\n",
    "histo = best_model_new.fit(x_train, y_train, batch_size=16,\n",
    "                           validation_data=(x_val, y_val),\n",
    "                           epochs=100, callbacks=[es_3], verbose=1)"
   ]
  },
  {
   "cell_type": "code",
   "execution_count": 62,
   "id": "25c053bf",
   "metadata": {
    "execution": {
     "iopub.execute_input": "2025-01-01T10:19:58.252232Z",
     "iopub.status.busy": "2025-01-01T10:19:58.251809Z",
     "iopub.status.idle": "2025-01-01T10:19:58.444949Z",
     "shell.execute_reply": "2025-01-01T10:19:58.443780Z"
    },
    "papermill": {
     "duration": 0.37288,
     "end_time": "2025-01-01T10:19:58.446935",
     "exception": false,
     "start_time": "2025-01-01T10:19:58.074055",
     "status": "completed"
    },
    "tags": []
   },
   "outputs": [],
   "source": [
    "#plotting both the training the validation loss using the history object from keras\n",
    "plt.plot(histo.history['loss'], label='Training Loss', marker='o')\n",
    "plt.plot(histo.history['val_loss'], label='Validation Loss', marker='o')\n",
    "\n",
    "#making the graph presentable\n",
    "plt.xlabel('Epochs')\n",
    "plt.ylabel('Loss')\n",
    "plt.title('Training and Validation Loss')\n",
    "plt.legend()\n",
    "plt.show()"
   ]
  },
  {
   "cell_type": "code",
   "execution_count": 63,
   "id": "c819431b",
   "metadata": {
    "execution": {
     "iopub.execute_input": "2025-01-01T10:19:58.803304Z",
     "iopub.status.busy": "2025-01-01T10:19:58.802961Z",
     "iopub.status.idle": "2025-01-01T10:20:00.165964Z",
     "shell.execute_reply": "2025-01-01T10:20:00.164782Z"
    },
    "papermill": {
     "duration": 1.540607,
     "end_time": "2025-01-01T10:20:00.167724",
     "exception": false,
     "start_time": "2025-01-01T10:19:58.627117",
     "status": "completed"
    },
    "tags": []
   },
   "outputs": [
    {
     "name": "stdout",
     "output_type": "stream",
     "text": [
      "\u001b[1m430/430\u001b[0m \u001b[32m━━━━━━━━━━━━━━━━━━━━\u001b[0m\u001b[37m\u001b[0m \u001b[1m0s\u001b[0m 1ms/step - accuracy: 0.9740 - loss: 0.0792\n",
      "Model accuracy on testing set: 0.97\n",
      "Model loss on testing set: 0.0788821130990982\n",
      "\n",
      "---------------------------------\n",
      "\n",
      "\u001b[1m430/430\u001b[0m \u001b[32m━━━━━━━━━━━━━━━━━━━━\u001b[0m\u001b[37m\u001b[0m \u001b[1m1s\u001b[0m 1ms/step\n",
      "[[13058     1]\n",
      " [  350   344]]\n",
      "\n",
      "---------------------------------\n",
      "\n",
      "              precision    recall  f1-score   support\n",
      "\n",
      "           0       0.97      1.00      0.99     13059\n",
      "           1       1.00      0.50      0.66       694\n",
      "\n",
      "    accuracy                           0.97     13753\n",
      "   macro avg       0.99      0.75      0.82     13753\n",
      "weighted avg       0.98      0.97      0.97     13753\n",
      "\n"
     ]
    }
   ],
   "source": [
    "loss, accuracy = best_model_new.evaluate(x_test, y_test)\n",
    "\n",
    "print(f'Model accuracy on testing set: {accuracy:.2f}')\n",
    "print(f'Model loss on testing set: {loss}')\n",
    "\n",
    "print('\\n---------------------------------\\n')\n",
    "\n",
    "y_pred = best_model_new.predict(x_test)\n",
    "\n",
    "y_pred_class = y_pred.round()\n",
    "\n",
    "cm = confusion_matrix(y_test, y_pred_class)\n",
    "\n",
    "print(cm)\n",
    "\n",
    "print('\\n---------------------------------\\n')\n",
    "\n",
    "print(classification_report(y_test, y_pred_class))"
   ]
  },
  {
   "cell_type": "markdown",
   "id": "568b814a",
   "metadata": {
    "papermill": {
     "duration": 0.17456,
     "end_time": "2025-01-01T10:20:00.520379",
     "exception": false,
     "start_time": "2025-01-01T10:20:00.345819",
     "status": "completed"
    },
    "tags": []
   },
   "source": [
    "It is worth mentioning that the second model did very better!. This can be because neural network get better performance with alot of data. We can see that the diabetic class did not do very well because the data points are less.\n",
    "\n",
    "## **10. What if we trained the model on raw data?**\n",
    "\n",
    "In this experiment, we are going to train a model with raw data. I will just transform the data and encode it."
   ]
  },
  {
   "cell_type": "code",
   "execution_count": 64,
   "id": "60ab962c",
   "metadata": {
    "execution": {
     "iopub.execute_input": "2025-01-01T10:20:00.880657Z",
     "iopub.status.busy": "2025-01-01T10:20:00.880248Z",
     "iopub.status.idle": "2025-01-01T10:20:01.011639Z",
     "shell.execute_reply": "2025-01-01T10:20:01.010483Z"
    },
    "papermill": {
     "duration": 0.312563,
     "end_time": "2025-01-01T10:20:01.013284",
     "exception": false,
     "start_time": "2025-01-01T10:20:00.700721",
     "status": "completed"
    },
    "tags": []
   },
   "outputs": [
    {
     "data": {
      "text/html": [
       "<div>\n",
       "<style scoped>\n",
       "    .dataframe tbody tr th:only-of-type {\n",
       "        vertical-align: middle;\n",
       "    }\n",
       "\n",
       "    .dataframe tbody tr th {\n",
       "        vertical-align: top;\n",
       "    }\n",
       "\n",
       "    .dataframe thead th {\n",
       "        text-align: right;\n",
       "    }\n",
       "</style>\n",
       "<table border=\"1\" class=\"dataframe\">\n",
       "  <thead>\n",
       "    <tr style=\"text-align: center;\">\n",
       "      <th></th>\n",
       "      <th>gender</th>\n",
       "      <th>age</th>\n",
       "      <th>hypertension</th>\n",
       "      <th>heart_disease</th>\n",
       "      <th>smoking_history</th>\n",
       "      <th>bmi</th>\n",
       "      <th>HbA1c_level</th>\n",
       "      <th>blood_glucose_level</th>\n",
       "      <th>diabetes</th>\n",
       "    </tr>\n",
       "  </thead>\n",
       "  <tbody>\n",
       "    <tr>\n",
       "      <th>0</th>\n",
       "      <td>Female</td>\n",
       "      <td>80.0</td>\n",
       "      <td>0</td>\n",
       "      <td>1</td>\n",
       "      <td>never</td>\n",
       "      <td>25.19</td>\n",
       "      <td>6.6</td>\n",
       "      <td>140</td>\n",
       "      <td>0</td>\n",
       "    </tr>\n",
       "    <tr>\n",
       "      <th>1</th>\n",
       "      <td>Female</td>\n",
       "      <td>54.0</td>\n",
       "      <td>0</td>\n",
       "      <td>0</td>\n",
       "      <td>No Info</td>\n",
       "      <td>27.32</td>\n",
       "      <td>6.6</td>\n",
       "      <td>80</td>\n",
       "      <td>0</td>\n",
       "    </tr>\n",
       "    <tr>\n",
       "      <th>2</th>\n",
       "      <td>Male</td>\n",
       "      <td>28.0</td>\n",
       "      <td>0</td>\n",
       "      <td>0</td>\n",
       "      <td>never</td>\n",
       "      <td>27.32</td>\n",
       "      <td>5.7</td>\n",
       "      <td>158</td>\n",
       "      <td>0</td>\n",
       "    </tr>\n",
       "    <tr>\n",
       "      <th>3</th>\n",
       "      <td>Female</td>\n",
       "      <td>36.0</td>\n",
       "      <td>0</td>\n",
       "      <td>0</td>\n",
       "      <td>current</td>\n",
       "      <td>23.45</td>\n",
       "      <td>5.0</td>\n",
       "      <td>155</td>\n",
       "      <td>0</td>\n",
       "    </tr>\n",
       "    <tr>\n",
       "      <th>4</th>\n",
       "      <td>Male</td>\n",
       "      <td>76.0</td>\n",
       "      <td>1</td>\n",
       "      <td>1</td>\n",
       "      <td>current</td>\n",
       "      <td>20.14</td>\n",
       "      <td>4.8</td>\n",
       "      <td>155</td>\n",
       "      <td>0</td>\n",
       "    </tr>\n",
       "    <tr>\n",
       "      <th>5</th>\n",
       "      <td>Female</td>\n",
       "      <td>20.0</td>\n",
       "      <td>0</td>\n",
       "      <td>0</td>\n",
       "      <td>never</td>\n",
       "      <td>27.32</td>\n",
       "      <td>6.6</td>\n",
       "      <td>85</td>\n",
       "      <td>0</td>\n",
       "    </tr>\n",
       "    <tr>\n",
       "      <th>6</th>\n",
       "      <td>Female</td>\n",
       "      <td>44.0</td>\n",
       "      <td>0</td>\n",
       "      <td>0</td>\n",
       "      <td>never</td>\n",
       "      <td>19.31</td>\n",
       "      <td>6.5</td>\n",
       "      <td>200</td>\n",
       "      <td>1</td>\n",
       "    </tr>\n",
       "    <tr>\n",
       "      <th>7</th>\n",
       "      <td>Female</td>\n",
       "      <td>79.0</td>\n",
       "      <td>0</td>\n",
       "      <td>0</td>\n",
       "      <td>No Info</td>\n",
       "      <td>23.86</td>\n",
       "      <td>5.7</td>\n",
       "      <td>85</td>\n",
       "      <td>0</td>\n",
       "    </tr>\n",
       "    <tr>\n",
       "      <th>8</th>\n",
       "      <td>Male</td>\n",
       "      <td>42.0</td>\n",
       "      <td>0</td>\n",
       "      <td>0</td>\n",
       "      <td>never</td>\n",
       "      <td>33.64</td>\n",
       "      <td>4.8</td>\n",
       "      <td>145</td>\n",
       "      <td>0</td>\n",
       "    </tr>\n",
       "    <tr>\n",
       "      <th>9</th>\n",
       "      <td>Female</td>\n",
       "      <td>32.0</td>\n",
       "      <td>0</td>\n",
       "      <td>0</td>\n",
       "      <td>never</td>\n",
       "      <td>27.32</td>\n",
       "      <td>5.0</td>\n",
       "      <td>100</td>\n",
       "      <td>0</td>\n",
       "    </tr>\n",
       "  </tbody>\n",
       "</table>\n",
       "</div>"
      ],
      "text/plain": [
       "   gender   age  hypertension  heart_disease smoking_history   bmi   \\\n",
       "0  Female  80.0        0             1              never     25.19   \n",
       "1  Female  54.0        0             0            No Info     27.32   \n",
       "2    Male  28.0        0             0              never     27.32   \n",
       "3  Female  36.0        0             0            current     23.45   \n",
       "4    Male  76.0        1             1            current     20.14   \n",
       "5  Female  20.0        0             0              never     27.32   \n",
       "6  Female  44.0        0             0              never     19.31   \n",
       "7  Female  79.0        0             0            No Info     23.86   \n",
       "8    Male  42.0        0             0              never     33.64   \n",
       "9  Female  32.0        0             0              never     27.32   \n",
       "\n",
       "   HbA1c_level  blood_glucose_level  diabetes  \n",
       "0      6.6              140              0     \n",
       "1      6.6               80              0     \n",
       "2      5.7              158              0     \n",
       "3      5.0              155              0     \n",
       "4      4.8              155              0     \n",
       "5      6.6               85              0     \n",
       "6      6.5              200              1     \n",
       "7      5.7               85              0     \n",
       "8      4.8              145              0     \n",
       "9      5.0              100              0     "
      ]
     },
     "execution_count": 64,
     "metadata": {},
     "output_type": "execute_result"
    }
   ],
   "source": [
    "#reading the dataset\n",
    "df = pd.read_csv('/kaggle/input/diabetes-prediction-dataset/diabetes_prediction_dataset.csv')\n",
    "\n",
    "#overview of the dataset\n",
    "df.head(10)"
   ]
  },
  {
   "cell_type": "code",
   "execution_count": 65,
   "id": "e080c843",
   "metadata": {
    "execution": {
     "iopub.execute_input": "2025-01-01T10:20:01.371727Z",
     "iopub.status.busy": "2025-01-01T10:20:01.371387Z",
     "iopub.status.idle": "2025-01-01T10:20:01.379012Z",
     "shell.execute_reply": "2025-01-01T10:20:01.378076Z"
    },
    "papermill": {
     "duration": 0.186713,
     "end_time": "2025-01-01T10:20:01.380660",
     "exception": false,
     "start_time": "2025-01-01T10:20:01.193947",
     "status": "completed"
    },
    "tags": []
   },
   "outputs": [],
   "source": [
    "#x refers to the independent features\n",
    "#y refers to the dependent feature (the target)\n",
    "x = df.drop(columns=['diabetes'])\n",
    "y = df['diabetes']"
   ]
  },
  {
   "cell_type": "code",
   "execution_count": 66,
   "id": "32426b3b",
   "metadata": {
    "execution": {
     "iopub.execute_input": "2025-01-01T10:20:01.738405Z",
     "iopub.status.busy": "2025-01-01T10:20:01.738006Z",
     "iopub.status.idle": "2025-01-01T10:20:01.813743Z",
     "shell.execute_reply": "2025-01-01T10:20:01.812575Z"
    },
    "papermill": {
     "duration": 0.256745,
     "end_time": "2025-01-01T10:20:01.815720",
     "exception": false,
     "start_time": "2025-01-01T10:20:01.558975",
     "status": "completed"
    },
    "tags": []
   },
   "outputs": [],
   "source": [
    "preprocessor = ColumnTransformer(\n",
    "    transformers=[\n",
    "        #scale continuous features\n",
    "        ('scale', StandardScaler(), ['age', 'blood_glucose_level', 'bmi', 'HbA1c_level']),\n",
    "        #one-hot encoding for categorical features\n",
    "        ('onehot', OneHotEncoder(), ['gender', 'smoking_history']),\n",
    "    ],\n",
    "\n",
    "    #leave the unmentioned columns unmodified\n",
    "    remainder='passthrough'\n",
    ")\n",
    "\n",
    "x = preprocessor.fit_transform(x)"
   ]
  },
  {
   "cell_type": "code",
   "execution_count": 67,
   "id": "952a5f1d",
   "metadata": {
    "execution": {
     "iopub.execute_input": "2025-01-01T10:20:02.239402Z",
     "iopub.status.busy": "2025-01-01T10:20:02.239049Z",
     "iopub.status.idle": "2025-01-01T10:20:02.293680Z",
     "shell.execute_reply": "2025-01-01T10:20:02.292712Z"
    },
    "papermill": {
     "duration": 0.297532,
     "end_time": "2025-01-01T10:20:02.295550",
     "exception": false,
     "start_time": "2025-01-01T10:20:01.998018",
     "status": "completed"
    },
    "tags": []
   },
   "outputs": [],
   "source": [
    "#split into training (70%) and remaining (30%) datasets\n",
    "x_train, x_rem, y_train, y_rem = train_test_split(x, y, \n",
    "                                                  test_size=0.3, \n",
    "                                                  stratify=y, \n",
    "                                                  random_state=20)\n",
    "\n",
    "#split temp into validation (50% of remaining = 15% of total) and \n",
    "#testing (50% of remaining = 15% of total)\n",
    "x_val, x_test, y_val, y_test = train_test_split(x_rem, y_rem, \n",
    "                                                test_size=0.5, \n",
    "                                                stratify=y_rem, \n",
    "                                                random_state=20)"
   ]
  },
  {
   "cell_type": "code",
   "execution_count": 68,
   "id": "46642e86",
   "metadata": {
    "execution": {
     "iopub.execute_input": "2025-01-01T10:20:02.657385Z",
     "iopub.status.busy": "2025-01-01T10:20:02.657033Z",
     "iopub.status.idle": "2025-01-01T10:20:02.686849Z",
     "shell.execute_reply": "2025-01-01T10:20:02.685992Z"
    },
    "papermill": {
     "duration": 0.213275,
     "end_time": "2025-01-01T10:20:02.688658",
     "exception": false,
     "start_time": "2025-01-01T10:20:02.475383",
     "status": "completed"
    },
    "tags": []
   },
   "outputs": [],
   "source": [
    "#We used RandomSearch directly here because the data is large.\n",
    "#Batch_size of 8 or 16 will be very slow, especially since I have no GPU\n",
    "tuner2 = kt.RandomSearch(\n",
    "    build_model,              #the model building function\n",
    "    objective='val_loss',     #look for lowest validation loss\n",
    "    max_trials=8,             #maximum number of training\n",
    "    executions_per_trial=1,   #since my model is not complex, 1 is enough\n",
    "    directory='tuner_results',#main folder name\n",
    "    project_name='diabetes2', #subfolder name\n",
    "    overwrite=True            #overwrite old trials from previous runs       \n",
    ")"
   ]
  },
  {
   "cell_type": "code",
   "execution_count": 69,
   "id": "723e55ad",
   "metadata": {
    "execution": {
     "iopub.execute_input": "2025-01-01T10:20:03.052520Z",
     "iopub.status.busy": "2025-01-01T10:20:03.052167Z",
     "iopub.status.idle": "2025-01-01T10:20:03.056919Z",
     "shell.execute_reply": "2025-01-01T10:20:03.055811Z"
    },
    "papermill": {
     "duration": 0.191266,
     "end_time": "2025-01-01T10:20:03.058846",
     "exception": false,
     "start_time": "2025-01-01T10:20:02.867580",
     "status": "completed"
    },
    "tags": []
   },
   "outputs": [],
   "source": [
    "#EarlyStopping callback\n",
    "es_4 = EarlyStopping(\n",
    "    patience=4,\n",
    "    monitor='val_loss',\n",
    "    mode='min',\n",
    "    restore_best_weights=True\n",
    ")"
   ]
  },
  {
   "cell_type": "code",
   "execution_count": 70,
   "id": "e3e4af11",
   "metadata": {
    "execution": {
     "iopub.execute_input": "2025-01-01T10:20:03.475476Z",
     "iopub.status.busy": "2025-01-01T10:20:03.475134Z",
     "iopub.status.idle": "2025-01-01T10:39:24.252769Z",
     "shell.execute_reply": "2025-01-01T10:39:24.251902Z"
    },
    "papermill": {
     "duration": 1160.975379,
     "end_time": "2025-01-01T10:39:24.254812",
     "exception": false,
     "start_time": "2025-01-01T10:20:03.279433",
     "status": "completed"
    },
    "tags": []
   },
   "outputs": [],
   "source": [
    "#The batch_size will be fixed at 32.\n",
    "tuner2.search(x_train, y_train, batch_size=32,\n",
    "              validation_data=(x_val, y_val),\n",
    "              epochs=100, callbacks=[es_4], verbose=0)"
   ]
  },
  {
   "cell_type": "code",
   "execution_count": 71,
   "id": "5c9ff1b2",
   "metadata": {
    "execution": {
     "iopub.execute_input": "2025-01-01T10:39:24.676229Z",
     "iopub.status.busy": "2025-01-01T10:39:24.675791Z",
     "iopub.status.idle": "2025-01-01T10:39:24.682805Z",
     "shell.execute_reply": "2025-01-01T10:39:24.681813Z"
    },
    "papermill": {
     "duration": 0.250514,
     "end_time": "2025-01-01T10:39:24.684519",
     "exception": false,
     "start_time": "2025-01-01T10:39:24.434005",
     "status": "completed"
    },
    "tags": []
   },
   "outputs": [],
   "source": [
    "#taking all trials and placing them in a dataframe\n",
    "all_trials = tuner2.oracle.trials.values()\n",
    "\n",
    "results = []\n",
    "for trial in all_trials:\n",
    "    trial_data = trial.hyperparameters.values\n",
    "    trial_data['score'] = trial.score\n",
    "    results.append(trial_data)\n",
    "\n",
    "trials_df2 = pd.DataFrame(results)"
   ]
  },
  {
   "cell_type": "code",
   "execution_count": 72,
   "id": "10c70b6f",
   "metadata": {
    "execution": {
     "iopub.execute_input": "2025-01-01T10:39:25.041940Z",
     "iopub.status.busy": "2025-01-01T10:39:25.041552Z",
     "iopub.status.idle": "2025-01-01T10:39:25.057142Z",
     "shell.execute_reply": "2025-01-01T10:39:25.056142Z"
    },
    "papermill": {
     "duration": 0.197178,
     "end_time": "2025-01-01T10:39:25.058694",
     "exception": false,
     "start_time": "2025-01-01T10:39:24.861516",
     "status": "completed"
    },
    "tags": []
   },
   "outputs": [
    {
     "data": {
      "text/html": [
       "<div>\n",
       "<style scoped>\n",
       "    .dataframe tbody tr th:only-of-type {\n",
       "        vertical-align: middle;\n",
       "    }\n",
       "\n",
       "    .dataframe tbody tr th {\n",
       "        vertical-align: top;\n",
       "    }\n",
       "\n",
       "    .dataframe thead th {\n",
       "        text-align: right;\n",
       "    }\n",
       "</style>\n",
       "<table border=\"1\" class=\"dataframe\">\n",
       "  <thead>\n",
       "    <tr style=\"text-align: center;\">\n",
       "      <th></th>\n",
       "      <th>num_hidden_layers</th>\n",
       "      <th>num_units_layer_1</th>\n",
       "      <th>use_dropout_layer_1</th>\n",
       "      <th>learning_rate</th>\n",
       "      <th>dropout_rate_layer_1</th>\n",
       "      <th>num_units_layer_2</th>\n",
       "      <th>use_dropout_layer_2</th>\n",
       "      <th>num_units_layer_3</th>\n",
       "      <th>use_dropout_layer_3</th>\n",
       "      <th>score</th>\n",
       "      <th>dropout_rate_layer_2</th>\n",
       "      <th>dropout_rate_layer_3</th>\n",
       "    </tr>\n",
       "  </thead>\n",
       "  <tbody>\n",
       "    <tr>\n",
       "      <th>0</th>\n",
       "      <td>3</td>\n",
       "      <td>64</td>\n",
       "      <td>True</td>\n",
       "      <td>0.000657</td>\n",
       "      <td>0.100000</td>\n",
       "      <td>16</td>\n",
       "      <td>False</td>\n",
       "      <td>16</td>\n",
       "      <td>False</td>\n",
       "      <td>0.081881</td>\n",
       "      <td>NaN</td>\n",
       "      <td>NaN</td>\n",
       "    </tr>\n",
       "    <tr>\n",
       "      <th>1</th>\n",
       "      <td>3</td>\n",
       "      <td>16</td>\n",
       "      <td>True</td>\n",
       "      <td>0.000496</td>\n",
       "      <td>0.399446</td>\n",
       "      <td>32</td>\n",
       "      <td>True</td>\n",
       "      <td>16</td>\n",
       "      <td>False</td>\n",
       "      <td>0.099861</td>\n",
       "      <td>0.100000</td>\n",
       "      <td>NaN</td>\n",
       "    </tr>\n",
       "    <tr>\n",
       "      <th>2</th>\n",
       "      <td>3</td>\n",
       "      <td>64</td>\n",
       "      <td>True</td>\n",
       "      <td>0.000387</td>\n",
       "      <td>0.238424</td>\n",
       "      <td>48</td>\n",
       "      <td>False</td>\n",
       "      <td>16</td>\n",
       "      <td>False</td>\n",
       "      <td>0.081975</td>\n",
       "      <td>0.375285</td>\n",
       "      <td>NaN</td>\n",
       "    </tr>\n",
       "    <tr>\n",
       "      <th>3</th>\n",
       "      <td>2</td>\n",
       "      <td>32</td>\n",
       "      <td>True</td>\n",
       "      <td>0.000421</td>\n",
       "      <td>0.103531</td>\n",
       "      <td>32</td>\n",
       "      <td>False</td>\n",
       "      <td>16</td>\n",
       "      <td>True</td>\n",
       "      <td>0.081723</td>\n",
       "      <td>0.200858</td>\n",
       "      <td>NaN</td>\n",
       "    </tr>\n",
       "    <tr>\n",
       "      <th>4</th>\n",
       "      <td>1</td>\n",
       "      <td>64</td>\n",
       "      <td>False</td>\n",
       "      <td>0.000010</td>\n",
       "      <td>0.151878</td>\n",
       "      <td>32</td>\n",
       "      <td>True</td>\n",
       "      <td>16</td>\n",
       "      <td>False</td>\n",
       "      <td>0.107567</td>\n",
       "      <td>0.242447</td>\n",
       "      <td>NaN</td>\n",
       "    </tr>\n",
       "    <tr>\n",
       "      <th>5</th>\n",
       "      <td>2</td>\n",
       "      <td>48</td>\n",
       "      <td>False</td>\n",
       "      <td>0.009712</td>\n",
       "      <td>0.348858</td>\n",
       "      <td>16</td>\n",
       "      <td>False</td>\n",
       "      <td>16</td>\n",
       "      <td>True</td>\n",
       "      <td>0.081188</td>\n",
       "      <td>0.213385</td>\n",
       "      <td>NaN</td>\n",
       "    </tr>\n",
       "    <tr>\n",
       "      <th>6</th>\n",
       "      <td>3</td>\n",
       "      <td>32</td>\n",
       "      <td>True</td>\n",
       "      <td>0.000029</td>\n",
       "      <td>0.370975</td>\n",
       "      <td>32</td>\n",
       "      <td>True</td>\n",
       "      <td>16</td>\n",
       "      <td>True</td>\n",
       "      <td>0.085941</td>\n",
       "      <td>0.240444</td>\n",
       "      <td>0.100000</td>\n",
       "    </tr>\n",
       "    <tr>\n",
       "      <th>7</th>\n",
       "      <td>2</td>\n",
       "      <td>64</td>\n",
       "      <td>True</td>\n",
       "      <td>0.000975</td>\n",
       "      <td>0.339085</td>\n",
       "      <td>16</td>\n",
       "      <td>False</td>\n",
       "      <td>16</td>\n",
       "      <td>True</td>\n",
       "      <td>0.081802</td>\n",
       "      <td>0.360206</td>\n",
       "      <td>0.343861</td>\n",
       "    </tr>\n",
       "  </tbody>\n",
       "</table>\n",
       "</div>"
      ],
      "text/plain": [
       "   num_hidden_layers  num_units_layer_1  use_dropout_layer_1  learning_rate  \\\n",
       "0          3                 64                  True           0.000657      \n",
       "1          3                 16                  True           0.000496      \n",
       "2          3                 64                  True           0.000387      \n",
       "3          2                 32                  True           0.000421      \n",
       "4          1                 64                 False           0.000010      \n",
       "5          2                 48                 False           0.009712      \n",
       "6          3                 32                  True           0.000029      \n",
       "7          2                 64                  True           0.000975      \n",
       "\n",
       "   dropout_rate_layer_1  num_units_layer_2  use_dropout_layer_2  \\\n",
       "0        0.100000               16                 False          \n",
       "1        0.399446               32                  True          \n",
       "2        0.238424               48                 False          \n",
       "3        0.103531               32                 False          \n",
       "4        0.151878               32                  True          \n",
       "5        0.348858               16                 False          \n",
       "6        0.370975               32                  True          \n",
       "7        0.339085               16                 False          \n",
       "\n",
       "   num_units_layer_3  use_dropout_layer_3    score   dropout_rate_layer_2  \\\n",
       "0         16                 False         0.081881             NaN         \n",
       "1         16                 False         0.099861        0.100000         \n",
       "2         16                 False         0.081975        0.375285         \n",
       "3         16                  True         0.081723        0.200858         \n",
       "4         16                 False         0.107567        0.242447         \n",
       "5         16                  True         0.081188        0.213385         \n",
       "6         16                  True         0.085941        0.240444         \n",
       "7         16                  True         0.081802        0.360206         \n",
       "\n",
       "   dropout_rate_layer_3  \n",
       "0             NaN        \n",
       "1             NaN        \n",
       "2             NaN        \n",
       "3             NaN        \n",
       "4             NaN        \n",
       "5             NaN        \n",
       "6        0.100000        \n",
       "7        0.343861        "
      ]
     },
     "execution_count": 72,
     "metadata": {},
     "output_type": "execute_result"
    }
   ],
   "source": [
    "trials_df2"
   ]
  },
  {
   "cell_type": "code",
   "execution_count": 73,
   "id": "915cd74f",
   "metadata": {
    "execution": {
     "iopub.execute_input": "2025-01-01T10:39:25.415351Z",
     "iopub.status.busy": "2025-01-01T10:39:25.414969Z",
     "iopub.status.idle": "2025-01-01T10:39:26.533137Z",
     "shell.execute_reply": "2025-01-01T10:39:26.531902Z"
    },
    "papermill": {
     "duration": 1.296836,
     "end_time": "2025-01-01T10:39:26.535850",
     "exception": false,
     "start_time": "2025-01-01T10:39:25.239014",
     "status": "completed"
    },
    "tags": []
   },
   "outputs": [
    {
     "data": {
      "text/html": [
       "<pre style=\"white-space:pre;overflow-x:auto;line-height:normal;font-family:Menlo,'DejaVu Sans Mono',consolas,'Courier New',monospace\"><span style=\"font-weight: bold\">Model: \"sequential\"</span>\n",
       "</pre>\n"
      ],
      "text/plain": [
       "\u001b[1mModel: \"sequential\"\u001b[0m\n"
      ]
     },
     "metadata": {},
     "output_type": "display_data"
    },
    {
     "data": {
      "text/html": [
       "<pre style=\"white-space:pre;overflow-x:auto;line-height:normal;font-family:Menlo,'DejaVu Sans Mono',consolas,'Courier New',monospace\">┏━━━━━━━━━━━━━━━━━━━━━━━━━━━━━━━━━━━━━━┳━━━━━━━━━━━━━━━━━━━━━━━━━━━━━┳━━━━━━━━━━━━━━━━━┓\n",
       "┃<span style=\"font-weight: bold\"> Layer (type)                         </span>┃<span style=\"font-weight: bold\"> Output Shape                </span>┃<span style=\"font-weight: bold\">         Param # </span>┃\n",
       "┡━━━━━━━━━━━━━━━━━━━━━━━━━━━━━━━━━━━━━━╇━━━━━━━━━━━━━━━━━━━━━━━━━━━━━╇━━━━━━━━━━━━━━━━━┩\n",
       "│ dense (<span style=\"color: #0087ff; text-decoration-color: #0087ff\">Dense</span>)                        │ (<span style=\"color: #00d7ff; text-decoration-color: #00d7ff\">None</span>, <span style=\"color: #00af00; text-decoration-color: #00af00\">48</span>)                  │             <span style=\"color: #00af00; text-decoration-color: #00af00\">768</span> │\n",
       "├──────────────────────────────────────┼─────────────────────────────┼─────────────────┤\n",
       "│ dense_1 (<span style=\"color: #0087ff; text-decoration-color: #0087ff\">Dense</span>)                      │ (<span style=\"color: #00d7ff; text-decoration-color: #00d7ff\">None</span>, <span style=\"color: #00af00; text-decoration-color: #00af00\">16</span>)                  │             <span style=\"color: #00af00; text-decoration-color: #00af00\">784</span> │\n",
       "├──────────────────────────────────────┼─────────────────────────────┼─────────────────┤\n",
       "│ dense_2 (<span style=\"color: #0087ff; text-decoration-color: #0087ff\">Dense</span>)                      │ (<span style=\"color: #00d7ff; text-decoration-color: #00d7ff\">None</span>, <span style=\"color: #00af00; text-decoration-color: #00af00\">1</span>)                   │              <span style=\"color: #00af00; text-decoration-color: #00af00\">17</span> │\n",
       "└──────────────────────────────────────┴─────────────────────────────┴─────────────────┘\n",
       "</pre>\n"
      ],
      "text/plain": [
       "┏━━━━━━━━━━━━━━━━━━━━━━━━━━━━━━━━━━━━━━┳━━━━━━━━━━━━━━━━━━━━━━━━━━━━━┳━━━━━━━━━━━━━━━━━┓\n",
       "┃\u001b[1m \u001b[0m\u001b[1mLayer (type)                        \u001b[0m\u001b[1m \u001b[0m┃\u001b[1m \u001b[0m\u001b[1mOutput Shape               \u001b[0m\u001b[1m \u001b[0m┃\u001b[1m \u001b[0m\u001b[1m        Param #\u001b[0m\u001b[1m \u001b[0m┃\n",
       "┡━━━━━━━━━━━━━━━━━━━━━━━━━━━━━━━━━━━━━━╇━━━━━━━━━━━━━━━━━━━━━━━━━━━━━╇━━━━━━━━━━━━━━━━━┩\n",
       "│ dense (\u001b[38;5;33mDense\u001b[0m)                        │ (\u001b[38;5;45mNone\u001b[0m, \u001b[38;5;34m48\u001b[0m)                  │             \u001b[38;5;34m768\u001b[0m │\n",
       "├──────────────────────────────────────┼─────────────────────────────┼─────────────────┤\n",
       "│ dense_1 (\u001b[38;5;33mDense\u001b[0m)                      │ (\u001b[38;5;45mNone\u001b[0m, \u001b[38;5;34m16\u001b[0m)                  │             \u001b[38;5;34m784\u001b[0m │\n",
       "├──────────────────────────────────────┼─────────────────────────────┼─────────────────┤\n",
       "│ dense_2 (\u001b[38;5;33mDense\u001b[0m)                      │ (\u001b[38;5;45mNone\u001b[0m, \u001b[38;5;34m1\u001b[0m)                   │              \u001b[38;5;34m17\u001b[0m │\n",
       "└──────────────────────────────────────┴─────────────────────────────┴─────────────────┘\n"
      ]
     },
     "metadata": {},
     "output_type": "display_data"
    },
    {
     "data": {
      "text/html": [
       "<pre style=\"white-space:pre;overflow-x:auto;line-height:normal;font-family:Menlo,'DejaVu Sans Mono',consolas,'Courier New',monospace\"><span style=\"font-weight: bold\"> Total params: </span><span style=\"color: #00af00; text-decoration-color: #00af00\">1,569</span> (6.13 KB)\n",
       "</pre>\n"
      ],
      "text/plain": [
       "\u001b[1m Total params: \u001b[0m\u001b[38;5;34m1,569\u001b[0m (6.13 KB)\n"
      ]
     },
     "metadata": {},
     "output_type": "display_data"
    },
    {
     "data": {
      "text/html": [
       "<pre style=\"white-space:pre;overflow-x:auto;line-height:normal;font-family:Menlo,'DejaVu Sans Mono',consolas,'Courier New',monospace\"><span style=\"font-weight: bold\"> Trainable params: </span><span style=\"color: #00af00; text-decoration-color: #00af00\">1,569</span> (6.13 KB)\n",
       "</pre>\n"
      ],
      "text/plain": [
       "\u001b[1m Trainable params: \u001b[0m\u001b[38;5;34m1,569\u001b[0m (6.13 KB)\n"
      ]
     },
     "metadata": {},
     "output_type": "display_data"
    },
    {
     "data": {
      "text/html": [
       "<pre style=\"white-space:pre;overflow-x:auto;line-height:normal;font-family:Menlo,'DejaVu Sans Mono',consolas,'Courier New',monospace\"><span style=\"font-weight: bold\"> Non-trainable params: </span><span style=\"color: #00af00; text-decoration-color: #00af00\">0</span> (0.00 B)\n",
       "</pre>\n"
      ],
      "text/plain": [
       "\u001b[1m Non-trainable params: \u001b[0m\u001b[38;5;34m0\u001b[0m (0.00 B)\n"
      ]
     },
     "metadata": {},
     "output_type": "display_data"
    }
   ],
   "source": [
    "#getting the best trial model\n",
    "model = tuner2.get_best_models(num_models=1)[0]\n",
    "\n",
    "model.summary()"
   ]
  },
  {
   "cell_type": "code",
   "execution_count": 74,
   "id": "a5794e69",
   "metadata": {
    "execution": {
     "iopub.execute_input": "2025-01-01T10:39:26.936248Z",
     "iopub.status.busy": "2025-01-01T10:39:26.935586Z",
     "iopub.status.idle": "2025-01-01T10:39:26.945456Z",
     "shell.execute_reply": "2025-01-01T10:39:26.944245Z"
    },
    "papermill": {
     "duration": 0.208187,
     "end_time": "2025-01-01T10:39:26.947556",
     "exception": false,
     "start_time": "2025-01-01T10:39:26.739369",
     "status": "completed"
    },
    "tags": []
   },
   "outputs": [
    {
     "name": "stdout",
     "output_type": "stream",
     "text": [
      "num_hidden_layers: 2\n",
      "num_units_layer_1: 48\n",
      "use_dropout_layer_1: False\n",
      "learning_rate: 0.009712362827199107\n",
      "dropout_rate_layer_1: 0.3488579916824967\n",
      "num_units_layer_2: 16\n",
      "use_dropout_layer_2: False\n",
      "num_units_layer_3: 16\n",
      "use_dropout_layer_3: True\n",
      "dropout_rate_layer_2: 0.21338542609853717\n",
      "score: 0.08118762820959091\n"
     ]
    }
   ],
   "source": [
    "#the best trial hyperparameters\n",
    "best_hps = tuner2.get_best_hyperparameters(num_trials=1)[0]\n",
    "\n",
    "all_hyperparameters = best_hps.values\n",
    "\n",
    "#print all hyperparameters\n",
    "for key, value in all_hyperparameters.items():\n",
    "    print(f\"{key}: {value}\")"
   ]
  },
  {
   "cell_type": "code",
   "execution_count": 75,
   "id": "7abbc786",
   "metadata": {
    "execution": {
     "iopub.execute_input": "2025-01-01T10:39:27.327989Z",
     "iopub.status.busy": "2025-01-01T10:39:27.327598Z",
     "iopub.status.idle": "2025-01-01T10:39:27.333391Z",
     "shell.execute_reply": "2025-01-01T10:39:27.332368Z"
    },
    "papermill": {
     "duration": 0.190528,
     "end_time": "2025-01-01T10:39:27.335328",
     "exception": false,
     "start_time": "2025-01-01T10:39:27.144800",
     "status": "completed"
    },
    "tags": []
   },
   "outputs": [],
   "source": [
    "def raw_data_model():\n",
    "    model = Sequential()\n",
    "\n",
    "    model.add(Input(shape=(x_train.shape[1],)))\n",
    "\n",
    "    model.add(Dense(64, activation='relu'))\n",
    "    model.add(Dropout(0.33908455607909993))\n",
    "\n",
    "    model.add(Dense(16, activation='relu'))\n",
    "    \n",
    "    model.add(Dense(1, activation='sigmoid'))\n",
    "\n",
    "    model.compile(\n",
    "        optimizer=Adam(learning_rate=0.0009745998635814003),\n",
    "        loss='binary_crossentropy',\n",
    "        metrics=['accuracy']\n",
    "    )\n",
    "\n",
    "    return model"
   ]
  },
  {
   "cell_type": "code",
   "execution_count": 76,
   "id": "5ccebefc",
   "metadata": {
    "execution": {
     "iopub.execute_input": "2025-01-01T10:39:27.700223Z",
     "iopub.status.busy": "2025-01-01T10:39:27.699802Z",
     "iopub.status.idle": "2025-01-01T10:39:27.704349Z",
     "shell.execute_reply": "2025-01-01T10:39:27.703233Z"
    },
    "papermill": {
     "duration": 0.190641,
     "end_time": "2025-01-01T10:39:27.706044",
     "exception": false,
     "start_time": "2025-01-01T10:39:27.515403",
     "status": "completed"
    },
    "tags": []
   },
   "outputs": [],
   "source": [
    "#EarlyStopping callback\n",
    "es_5 = EarlyStopping(\n",
    "    patience=4,\n",
    "    monitor='val_loss',\n",
    "    mode='min',\n",
    "    restore_best_weights=True\n",
    ")"
   ]
  },
  {
   "cell_type": "code",
   "execution_count": 77,
   "id": "395535ec",
   "metadata": {
    "execution": {
     "iopub.execute_input": "2025-01-01T10:39:28.131450Z",
     "iopub.status.busy": "2025-01-01T10:39:28.131117Z",
     "iopub.status.idle": "2025-01-01T10:40:19.255846Z",
     "shell.execute_reply": "2025-01-01T10:40:19.254982Z"
    },
    "papermill": {
     "duration": 51.366771,
     "end_time": "2025-01-01T10:40:19.257804",
     "exception": false,
     "start_time": "2025-01-01T10:39:27.891033",
     "status": "completed"
    },
    "tags": []
   },
   "outputs": [
    {
     "name": "stdout",
     "output_type": "stream",
     "text": [
      "Epoch 1/100\n",
      "\u001b[1m2188/2188\u001b[0m \u001b[32m━━━━━━━━━━━━━━━━━━━━\u001b[0m\u001b[37m\u001b[0m \u001b[1m5s\u001b[0m 2ms/step - accuracy: 0.9349 - loss: 0.1860 - val_accuracy: 0.9641 - val_loss: 0.1055\n",
      "Epoch 2/100\n",
      "\u001b[1m2188/2188\u001b[0m \u001b[32m━━━━━━━━━━━━━━━━━━━━\u001b[0m\u001b[37m\u001b[0m \u001b[1m4s\u001b[0m 2ms/step - accuracy: 0.9635 - loss: 0.1046 - val_accuracy: 0.9690 - val_loss: 0.0954\n",
      "Epoch 3/100\n",
      "\u001b[1m2188/2188\u001b[0m \u001b[32m━━━━━━━━━━━━━━━━━━━━\u001b[0m\u001b[37m\u001b[0m \u001b[1m4s\u001b[0m 2ms/step - accuracy: 0.9680 - loss: 0.0949 - val_accuracy: 0.9712 - val_loss: 0.0872\n",
      "Epoch 4/100\n",
      "\u001b[1m2188/2188\u001b[0m \u001b[32m━━━━━━━━━━━━━━━━━━━━\u001b[0m\u001b[37m\u001b[0m \u001b[1m4s\u001b[0m 2ms/step - accuracy: 0.9693 - loss: 0.0887 - val_accuracy: 0.9715 - val_loss: 0.0853\n",
      "Epoch 5/100\n",
      "\u001b[1m2188/2188\u001b[0m \u001b[32m━━━━━━━━━━━━━━━━━━━━\u001b[0m\u001b[37m\u001b[0m \u001b[1m4s\u001b[0m 2ms/step - accuracy: 0.9701 - loss: 0.0867 - val_accuracy: 0.9723 - val_loss: 0.0841\n",
      "Epoch 6/100\n",
      "\u001b[1m2188/2188\u001b[0m \u001b[32m━━━━━━━━━━━━━━━━━━━━\u001b[0m\u001b[37m\u001b[0m \u001b[1m4s\u001b[0m 2ms/step - accuracy: 0.9698 - loss: 0.0865 - val_accuracy: 0.9721 - val_loss: 0.0838\n",
      "Epoch 7/100\n",
      "\u001b[1m2188/2188\u001b[0m \u001b[32m━━━━━━━━━━━━━━━━━━━━\u001b[0m\u001b[37m\u001b[0m \u001b[1m4s\u001b[0m 2ms/step - accuracy: 0.9712 - loss: 0.0844 - val_accuracy: 0.9723 - val_loss: 0.0830\n",
      "Epoch 8/100\n",
      "\u001b[1m2188/2188\u001b[0m \u001b[32m━━━━━━━━━━━━━━━━━━━━\u001b[0m\u001b[37m\u001b[0m \u001b[1m4s\u001b[0m 2ms/step - accuracy: 0.9716 - loss: 0.0820 - val_accuracy: 0.9719 - val_loss: 0.0840\n",
      "Epoch 9/100\n",
      "\u001b[1m2188/2188\u001b[0m \u001b[32m━━━━━━━━━━━━━━━━━━━━\u001b[0m\u001b[37m\u001b[0m \u001b[1m4s\u001b[0m 2ms/step - accuracy: 0.9712 - loss: 0.0847 - val_accuracy: 0.9723 - val_loss: 0.0822\n",
      "Epoch 10/100\n",
      "\u001b[1m2188/2188\u001b[0m \u001b[32m━━━━━━━━━━━━━━━━━━━━\u001b[0m\u001b[37m\u001b[0m \u001b[1m4s\u001b[0m 2ms/step - accuracy: 0.9728 - loss: 0.0813 - val_accuracy: 0.9723 - val_loss: 0.0825\n",
      "Epoch 11/100\n",
      "\u001b[1m2188/2188\u001b[0m \u001b[32m━━━━━━━━━━━━━━━━━━━━\u001b[0m\u001b[37m\u001b[0m \u001b[1m4s\u001b[0m 2ms/step - accuracy: 0.9726 - loss: 0.0820 - val_accuracy: 0.9725 - val_loss: 0.0826\n",
      "Epoch 12/100\n",
      "\u001b[1m2188/2188\u001b[0m \u001b[32m━━━━━━━━━━━━━━━━━━━━\u001b[0m\u001b[37m\u001b[0m \u001b[1m4s\u001b[0m 2ms/step - accuracy: 0.9714 - loss: 0.0828 - val_accuracy: 0.9722 - val_loss: 0.0829\n",
      "Epoch 13/100\n",
      "\u001b[1m2188/2188\u001b[0m \u001b[32m━━━━━━━━━━━━━━━━━━━━\u001b[0m\u001b[37m\u001b[0m \u001b[1m4s\u001b[0m 2ms/step - accuracy: 0.9708 - loss: 0.0848 - val_accuracy: 0.9724 - val_loss: 0.0825\n"
     ]
    }
   ],
   "source": [
    "last_model = raw_data_model()\n",
    "\n",
    "#histo: is a history variable to store the graphs\n",
    "histo = last_model.fit(x_train, y_train, batch_size=32,\n",
    "                           validation_data=(x_val, y_val),\n",
    "                           epochs=100, callbacks=[es_5], verbose=1)"
   ]
  },
  {
   "cell_type": "code",
   "execution_count": 78,
   "id": "a49c85e6",
   "metadata": {
    "execution": {
     "iopub.execute_input": "2025-01-01T10:40:19.712475Z",
     "iopub.status.busy": "2025-01-01T10:40:19.712127Z",
     "iopub.status.idle": "2025-01-01T10:40:19.911919Z",
     "shell.execute_reply": "2025-01-01T10:40:19.910898Z"
    },
    "papermill": {
     "duration": 0.428269,
     "end_time": "2025-01-01T10:40:19.913760",
     "exception": false,
     "start_time": "2025-01-01T10:40:19.485491",
     "status": "completed"
    },
    "tags": []
   },
   "outputs": [],
   "source": [
    "#plotting both the training the validation loss using the history object from keras\n",
    "plt.plot(histo.history['loss'], label='Training Loss', marker='o')\n",
    "plt.plot(histo.history['val_loss'], label='Validation Loss', marker='o')\n",
    "\n",
    "#making the graph presentable\n",
    "plt.xlabel('Epochs')\n",
    "plt.ylabel('Loss')\n",
    "plt.title('Training and Validation Loss')\n",
    "plt.legend()\n",
    "plt.show()"
   ]
  },
  {
   "cell_type": "code",
   "execution_count": 79,
   "id": "7b0f3534",
   "metadata": {
    "execution": {
     "iopub.execute_input": "2025-01-01T10:40:20.380627Z",
     "iopub.status.busy": "2025-01-01T10:40:20.380284Z",
     "iopub.status.idle": "2025-01-01T10:40:21.788277Z",
     "shell.execute_reply": "2025-01-01T10:40:21.787155Z"
    },
    "papermill": {
     "duration": 1.647032,
     "end_time": "2025-01-01T10:40:21.790038",
     "exception": false,
     "start_time": "2025-01-01T10:40:20.143006",
     "status": "completed"
    },
    "tags": []
   },
   "outputs": [
    {
     "name": "stdout",
     "output_type": "stream",
     "text": [
      "\u001b[1m469/469\u001b[0m \u001b[32m━━━━━━━━━━━━━━━━━━━━\u001b[0m\u001b[37m\u001b[0m \u001b[1m1s\u001b[0m 1ms/step - accuracy: 0.9724 - loss: 0.0819\n",
      "Model accuracy on testing set: 0.97\n",
      "Model loss on testing set: 0.08366596698760986\n",
      "\n",
      "---------------------------------\n",
      "\n",
      "\u001b[1m469/469\u001b[0m \u001b[32m━━━━━━━━━━━━━━━━━━━━\u001b[0m\u001b[37m\u001b[0m \u001b[1m1s\u001b[0m 1ms/step\n",
      "[[13725     0]\n",
      " [  438   837]]\n",
      "\n",
      "---------------------------------\n",
      "\n",
      "              precision    recall  f1-score   support\n",
      "\n",
      "           0       0.97      1.00      0.98     13725\n",
      "           1       1.00      0.66      0.79      1275\n",
      "\n",
      "    accuracy                           0.97     15000\n",
      "   macro avg       0.98      0.83      0.89     15000\n",
      "weighted avg       0.97      0.97      0.97     15000\n",
      "\n"
     ]
    }
   ],
   "source": [
    "loss, accuracy = last_model.evaluate(x_test, y_test)\n",
    "\n",
    "print(f'Model accuracy on testing set: {accuracy:.2f}')\n",
    "print(f'Model loss on testing set: {loss}')\n",
    "\n",
    "print('\\n---------------------------------\\n')\n",
    "\n",
    "y_pred = last_model.predict(x_test)\n",
    "\n",
    "y_pred_class = y_pred.round()\n",
    "\n",
    "cm = confusion_matrix(y_test, y_pred_class)\n",
    "\n",
    "print(cm)\n",
    "\n",
    "print('\\n---------------------------------\\n')\n",
    "\n",
    "print(classification_report(y_test, y_pred_class))"
   ]
  },
  {
   "cell_type": "markdown",
   "id": "502f03d4",
   "metadata": {
    "papermill": {
     "duration": 0.228593,
     "end_time": "2025-01-01T10:40:22.250314",
     "exception": false,
     "start_time": "2025-01-01T10:40:22.021721",
     "status": "completed"
    },
    "tags": []
   },
   "source": [
    "# **Deployment**\n",
    "\n",
    "## **1. A custom component for model evaluation**    "
   ]
  },
  {
   "cell_type": "code",
   "execution_count": null,
   "id": "eef64015",
   "metadata": {},
   "outputs": [],
   "source": [
    "from typing import NamedTuple\n",
    "from kfp.components import Input, Output, Artifact, Metrics, ClassificationMetrics, component\n",
    "\n",
    "@component(\n",
    "    base_image=\"gcr.io/deeplearning-platform-release/tf2-cpu.2-3:latest\",\n",
    "    output_component_file=\"diabetes_eval_component.yaml\",\n",
    "    packages_to_install=[\"google-cloud-aiplatform\"],\n",
    ")\n",
    "def diabetes_model_eval_metrics(\n",
    "    project: str,\n",
    "    location: str,\n",
    "    api_endpoint: str,\n",
    "    thresholds_dict_str: str,\n",
    "    model: Input[Artifact],\n",
    "    metrics: Output[Metrics],\n",
    "    metricsc: Output[ClassificationMetrics],\n",
    ") -> NamedTuple(\"Outputs\", [(\"dep_decision\", str)]):\n",
    "    import json\n",
    "    import logging\n",
    "\n",
    "    from google.cloud import aiplatform as aip\n",
    "\n",
    "    def get_eval_info(client, model_name):\n",
    "        from google.protobuf.json_format import MessageToDict\n",
    "\n",
    "        response = client.list_model_evaluations(parent=model_name)\n",
    "        metrics_list = []\n",
    "        metrics_string_list = []\n",
    "        for evaluation in response:\n",
    "            metrics = MessageToDict(evaluation._pb.metrics)\n",
    "            metrics_list.append(metrics)\n",
    "            metrics_string_list.append(json.dumps(metrics))\n",
    "\n",
    "        return metrics_list\n",
    "\n",
    "    def classification_thresholds_check(metrics_dict, thresholds_dict):\n",
    "        for k, v in thresholds_dict.items():\n",
    "            if k == \"auRoc\" and metrics_dict.get(k, 0) < v:\n",
    "                return False\n",
    "        return True\n",
    "\n",
    "    def log_metrics(metrics_list, metricsc):\n",
    "        test_confusion_matrix = metrics_list[0][\"confusionMatrix\"]\n",
    "        logging.info(\"rows: %s\", test_confusion_matrix[\"rows\"])\n",
    "        \n",
    "        fpr, tpr, thresholds = [], [], []\n",
    "        for item in metrics_list[0][\"confidenceMetrics\"]:\n",
    "            fpr.append(item.get(\"falsePositiveRate\", 0.0))\n",
    "            tpr.append(item.get(\"recall\", 0.0))\n",
    "            thresholds.append(item.get(\"confidenceThreshold\", 0.0))\n",
    "        metricsc.log_roc_curve(fpr, tpr, thresholds)\n",
    "\n",
    "    aip.init(project=project)\n",
    "    model_resource_path = model.metadata[\"resourceName\"]\n",
    "\n",
    "    client_options = {\"api_endpoint\": api_endpoint}\n",
    "    client = aip.gapic.ModelServiceClient(client_options=client_options)\n",
    "    metrics_list = get_eval_info(client, model_resource_path)\n",
    "    log_metrics(metrics_list, metricsc)\n",
    "\n",
    "    thresholds_dict = json.loads(thresholds_dict_str)\n",
    "    deploy = classification_thresholds_check(metrics_list[0], thresholds_dict)\n",
    "\n",
    "    return (\"true\" if deploy else \"false\",)"
   ]
  },
  {
   "cell_type": "markdown",
   "id": "4e2c27f8",
   "metadata": {},
   "source": [
    "## **2. Adding Google Cloud pre-built components**"
   ]
  },
  {
   "cell_type": "code",
   "execution_count": null,
   "id": "cb5c3692",
   "metadata": {},
   "outputs": [],
   "source": [
    "from kfp.v2.dsl import pipeline\n",
    "from google_cloud_pipeline_components import aiplatform as gcc_aip\n",
    "\n",
    "@pipeline(name=\"diabetes-prediction-pipeline\",\n",
    "          pipeline_root=\"gs://your-pipeline-root\")\n",
    "def pipeline(\n",
    "    bq_source: str = \"bq://your_project_id.diabetes_dataset.diabetes_table\",\n",
    "    display_name: str = \"diabetes-prediction-automl\",\n",
    "    project: str = \"your_project_id\",\n",
    "    gcp_region: str = \"us-central1\",\n",
    "    api_endpoint: str = \"us-central1-aiplatform.googleapis.com\",\n",
    "    thresholds_dict_str: str = '{\"auRoc\": 0.90}',\n",
    "):\n",
    "    dataset_create_op = gcc_aip.TabularDatasetCreateOp(\n",
    "        project=project, display_name=display_name, bq_source=bq_source\n",
    "    )\n",
    "\n",
    "    training_op = gcc_aip.AutoMLTabularTrainingJobRunOp(\n",
    "        project=project,\n",
    "        display_name=display_name,\n",
    "        optimization_prediction_type=\"classification\",\n",
    "        budget_milli_node_hours=1000,\n",
    "        column_transformations=[\n",
    "            {\"numeric\": {\"column_name\": \"age\"}},\n",
    "            {\"numeric\": {\"column_name\": \"bmi\"}},\n",
    "            {\"numeric\": {\"column_name\": \"blood_glucose_level\"}},\n",
    "            {\"numeric\": {\"column_name\": \"HbA1c_level\"}},\n",
    "            {\"categorical\": {\"column_name\": \"gender\"}},\n",
    "            {\"categorical\": {\"column_name\": \"smoking_history\"}},\n",
    "            {\"categorical\": {\"column_name\": \"hypertension\"}},\n",
    "            {\"categorical\": {\"column_name\": \"heart_disease\"}},\n",
    "        ],\n",
    "        dataset=dataset_create_op.outputs[\"dataset\"],\n",
    "        target_column=\"diabetes\",\n",
    "    )\n",
    "\n",
    "    model_eval_task = diabetes_model_eval_metrics(\n",
    "        project=project,\n",
    "        location=gcp_region,\n",
    "        api_endpoint=api_endpoint,\n",
    "        thresholds_dict_str=thresholds_dict_str,\n",
    "        model=training_op.outputs[\"model\"],\n",
    "    )\n",
    "\n",
    "    with dsl.Condition(model_eval_task.outputs[\"dep_decision\"] == \"true\"):\n",
    "        endpoint_op = gcc_aip.EndpointCreateOp(\n",
    "            project=project, location=gcp_region, display_name=\"diabetes-model-endpoint\"\n",
    "        )\n",
    "\n",
    "        gcc_aip.ModelDeployOp(\n",
    "            model=training_op.outputs[\"model\"],\n",
    "            endpoint=endpoint_op.outputs[\"endpoint\"],\n",
    "            dedicated_resources_min_replica_count=1,\n",
    "            dedicated_resources_max_replica_count=1,\n",
    "            dedicated_resources_machine_type=\"n1-standard-4\",\n",
    "        )"
   ]
  },
  {
   "cell_type": "markdown",
   "id": "84e12a84",
   "metadata": {},
   "source": [
    "## **3. Compile and run the end-to-end ML pipeline**"
   ]
  },
  {
   "cell_type": "code",
   "execution_count": null,
   "id": "492876b0",
   "metadata": {},
   "outputs": [],
   "source": [
    "from kfp.v2 import compiler\n",
    "\n",
    "compiler.Compiler().compile(\n",
    "    pipeline_func=pipeline, package_path=\"diabetes_pipeline.json\"\n",
    ")"
   ]
  },
  {
   "cell_type": "code",
   "execution_count": null,
   "id": "b70f1cfa",
   "metadata": {},
   "outputs": [],
   "source": [
    "from google.cloud import aiplatform\n",
    "\n",
    "ml_pipeline_job = aiplatform.PipelineJob(\n",
    "    display_name=\"diabetes-prediction-pipeline\",\n",
    "    template_path=\"diabetes_pipeline.json\",\n",
    "    pipeline_root=\"gs://your-pipeline-root\",\n",
    "    parameter_values={\"project\": \"your_project_id\", \"display_name\": \"diabetes-prediction-automl\"},\n",
    "    enable_caching=True,\n",
    ")\n",
    "ml_pipeline_job.submit()"
   ]
  },
  {
   "cell_type": "markdown",
   "id": "20861a5f",
   "metadata": {},
   "source": [
    "## **4. Comparing metrics across pipeline runs**"
   ]
  },
  {
   "cell_type": "code",
   "execution_count": null,
   "id": "8d7ca09a",
   "metadata": {},
   "outputs": [],
   "source": [
    "pipeline_df = aiplatform.get_pipeline_df(pipeline=\"automl-tab-beans-training-v2\")\n",
    "small_pipeline_df = pipeline_df.head(2)\n",
    "small_pipeline_df"
   ]
  }
 ],
 "metadata": {
  "kaggle": {
   "accelerator": "none",
   "dataSources": [
    {
     "datasetId": 3102947,
     "sourceId": 5344155,
     "sourceType": "datasetVersion"
    }
   ],
   "dockerImageVersionId": 30822,
   "isGpuEnabled": false,
   "isInternetEnabled": true,
   "language": "python",
   "sourceType": "notebook"
  },
  "kernelspec": {
   "display_name": "Python 3",
   "language": "python",
   "name": "python3"
  },
  "language_info": {
   "codemirror_mode": {
    "name": "ipython",
    "version": 3
   },
   "file_extension": ".py",
   "mimetype": "text/x-python",
   "name": "python",
   "nbconvert_exporter": "python",
   "pygments_lexer": "ipython3",
   "version": "3.10.12"
  },
  "papermill": {
   "default_parameters": {},
   "duration": 2501.988791,
   "end_time": "2025-01-01T10:40:26.285026",
   "environment_variables": {},
   "exception": null,
   "input_path": "__notebook__.ipynb",
   "output_path": "__notebook__.ipynb",
   "parameters": {},
   "start_time": "2025-01-01T09:58:44.296235",
   "version": "2.6.0"
  }
 },
 "nbformat": 4,
 "nbformat_minor": 5
}
